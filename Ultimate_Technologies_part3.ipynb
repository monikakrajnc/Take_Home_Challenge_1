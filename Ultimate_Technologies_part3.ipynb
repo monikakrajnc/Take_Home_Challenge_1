{
 "cells": [
  {
   "cell_type": "markdown",
   "metadata": {},
   "source": [
    "### Part 3 ‐ Predictive modeling\n",
    "Ultimate is interested in predicting rider retention. To help explore this question, we have provided a sample dataset of a cohort of users who signed up for an Ultimate account in\n",
    "January 2014. The data was pulled several months later; we consider a user retained if they were “active” (i.e. took a trip) in the preceding 30 days.\n",
    "We would like you to use this data set to help understand what factors are the best predictors for retention, and offer suggestions to operationalize those insights to help Ultimate.\n",
    "The data is in the attached file ultimate_data_challenge.json. See below for a detailed description of the dataset. Please include any code you wrote for the analysis and delete the dataset when you have finished with the challenge.\n",
    "1. Perform any cleaning, exploratory analysis, and/or visualizations to use the provided data for this analysis (a few sentences/plots describing your approach will suffice). What fraction of the observed users were retained?\n",
    "2. Build a predictive model to help Ultimate determine whether or not a user will be active in their 6th month on the system. Discuss why you chose your approach, what alternatives you considered, and any concerns you have. How valid is your model? Include any key indicators of model performance.\n",
    "3. Briefly discuss how Ultimate might leverage the insights gained from the model to improve its long­term rider retention (again, a few sentences will suffice).\n",
    "\n",
    "\n",
    "Data description\n",
    "\n",
    "● city: city this user signed up in\n",
    "\n",
    "● phone: primary device for this user\n",
    "\n",
    "● signup_date: date of account registration; in the form ‘YYYYMMDD’\n",
    "\n",
    "● last_trip_date: the last time this user completed a trip; in the form ‘YYYYMMDD’\n",
    "\n",
    "● avg_dist: the average distance in miles per trip taken in the first 30 days after signup\n",
    "\n",
    "● avg_rating_by_driver: the rider’s average rating over all of their trips\n",
    "\n",
    "● avg_rating_of_driver: the rider’s average rating of their drivers over all of their trips\n",
    "\n",
    "● surge_pct: the percent of trips taken with surge multiplier > 1\n",
    "\n",
    "● avg_surge: The average surge multiplier over all of this user’s trips\n",
    "\n",
    "● trips_in_first_30_days: the number of trips this user took in the first 30 days after signing up\n",
    "\n",
    "● ultimate_black_user: TRUE if the user took an Ultimate Black in their first 30 days; FALSE otherwise\n",
    "\n",
    "● weekday_pct: the percent of the user’s trips occurring during a weekday"
   ]
  },
  {
   "cell_type": "markdown",
   "metadata": {},
   "source": []
  },
  {
   "cell_type": "code",
   "execution_count": 90,
   "metadata": {},
   "outputs": [],
   "source": [
    "# import libraries\n",
    "import pandas as pd\n",
    "import numpy as np\n",
    "import matplotlib.pyplot as plt\n",
    "# special matplotlib argument for improved plots\n",
    "from matplotlib import rcParams\n",
    "import datetime\n",
    "from datetime import timedelta\n",
    "import json\n",
    "\n",
    "import seaborn as sns\n",
    "sns.set_style(\"whitegrid\")\n",
    "sns.set_context(\"poster\")"
   ]
  },
  {
   "cell_type": "code",
   "execution_count": 199,
   "metadata": {},
   "outputs": [],
   "source": [
    "# import libraries\n",
    "from sklearn.model_selection import train_test_split\n",
    "from sklearn.ensemble import RandomForestClassifier\n",
    "from sklearn import metrics\n",
    "from sklearn.svm import LinearSVC\n",
    "from sklearn.model_selection import cross_val_score\n",
    "from sklearn.model_selection import KFold\n",
    "from sklearn.linear_model import LogisticRegression"
   ]
  },
  {
   "cell_type": "code",
   "execution_count": 10,
   "metadata": {},
   "outputs": [],
   "source": [
    "# create dataframe from json file\n",
    "with open('ultimate_data_challenge.json') as file:\n",
    "    dat = json.load(file)\n",
    "df_rider = pd.DataFrame(dat)"
   ]
  },
  {
   "cell_type": "markdown",
   "metadata": {},
   "source": [
    "Perform any cleaning, exploratory analysis, and/or visualizations to use the provided data for this analysis (a few sentences/plots describing your approach will suffice). What fraction of the observed users were retained?"
   ]
  },
  {
   "cell_type": "markdown",
   "metadata": {},
   "source": [
    "Let's first check how our dataframe looks like."
   ]
  },
  {
   "cell_type": "code",
   "execution_count": 11,
   "metadata": {},
   "outputs": [
    {
     "data": {
      "text/html": [
       "<div>\n",
       "<style scoped>\n",
       "    .dataframe tbody tr th:only-of-type {\n",
       "        vertical-align: middle;\n",
       "    }\n",
       "\n",
       "    .dataframe tbody tr th {\n",
       "        vertical-align: top;\n",
       "    }\n",
       "\n",
       "    .dataframe thead th {\n",
       "        text-align: right;\n",
       "    }\n",
       "</style>\n",
       "<table border=\"1\" class=\"dataframe\">\n",
       "  <thead>\n",
       "    <tr style=\"text-align: right;\">\n",
       "      <th></th>\n",
       "      <th>city</th>\n",
       "      <th>trips_in_first_30_days</th>\n",
       "      <th>signup_date</th>\n",
       "      <th>avg_rating_of_driver</th>\n",
       "      <th>avg_surge</th>\n",
       "      <th>last_trip_date</th>\n",
       "      <th>phone</th>\n",
       "      <th>surge_pct</th>\n",
       "      <th>ultimate_black_user</th>\n",
       "      <th>weekday_pct</th>\n",
       "      <th>avg_dist</th>\n",
       "      <th>avg_rating_by_driver</th>\n",
       "    </tr>\n",
       "  </thead>\n",
       "  <tbody>\n",
       "    <tr>\n",
       "      <th>0</th>\n",
       "      <td>King's Landing</td>\n",
       "      <td>4</td>\n",
       "      <td>2014-01-25</td>\n",
       "      <td>4.7</td>\n",
       "      <td>1.10</td>\n",
       "      <td>2014-06-17</td>\n",
       "      <td>iPhone</td>\n",
       "      <td>15.4</td>\n",
       "      <td>True</td>\n",
       "      <td>46.2</td>\n",
       "      <td>3.67</td>\n",
       "      <td>5.0</td>\n",
       "    </tr>\n",
       "    <tr>\n",
       "      <th>1</th>\n",
       "      <td>Astapor</td>\n",
       "      <td>0</td>\n",
       "      <td>2014-01-29</td>\n",
       "      <td>5.0</td>\n",
       "      <td>1.00</td>\n",
       "      <td>2014-05-05</td>\n",
       "      <td>Android</td>\n",
       "      <td>0.0</td>\n",
       "      <td>False</td>\n",
       "      <td>50.0</td>\n",
       "      <td>8.26</td>\n",
       "      <td>5.0</td>\n",
       "    </tr>\n",
       "    <tr>\n",
       "      <th>2</th>\n",
       "      <td>Astapor</td>\n",
       "      <td>3</td>\n",
       "      <td>2014-01-06</td>\n",
       "      <td>4.3</td>\n",
       "      <td>1.00</td>\n",
       "      <td>2014-01-07</td>\n",
       "      <td>iPhone</td>\n",
       "      <td>0.0</td>\n",
       "      <td>False</td>\n",
       "      <td>100.0</td>\n",
       "      <td>0.77</td>\n",
       "      <td>5.0</td>\n",
       "    </tr>\n",
       "    <tr>\n",
       "      <th>3</th>\n",
       "      <td>King's Landing</td>\n",
       "      <td>9</td>\n",
       "      <td>2014-01-10</td>\n",
       "      <td>4.6</td>\n",
       "      <td>1.14</td>\n",
       "      <td>2014-06-29</td>\n",
       "      <td>iPhone</td>\n",
       "      <td>20.0</td>\n",
       "      <td>True</td>\n",
       "      <td>80.0</td>\n",
       "      <td>2.36</td>\n",
       "      <td>4.9</td>\n",
       "    </tr>\n",
       "    <tr>\n",
       "      <th>4</th>\n",
       "      <td>Winterfell</td>\n",
       "      <td>14</td>\n",
       "      <td>2014-01-27</td>\n",
       "      <td>4.4</td>\n",
       "      <td>1.19</td>\n",
       "      <td>2014-03-15</td>\n",
       "      <td>Android</td>\n",
       "      <td>11.8</td>\n",
       "      <td>False</td>\n",
       "      <td>82.4</td>\n",
       "      <td>3.13</td>\n",
       "      <td>4.9</td>\n",
       "    </tr>\n",
       "  </tbody>\n",
       "</table>\n",
       "</div>"
      ],
      "text/plain": [
       "             city  trips_in_first_30_days signup_date  avg_rating_of_driver  \\\n",
       "0  King's Landing                       4  2014-01-25                   4.7   \n",
       "1         Astapor                       0  2014-01-29                   5.0   \n",
       "2         Astapor                       3  2014-01-06                   4.3   \n",
       "3  King's Landing                       9  2014-01-10                   4.6   \n",
       "4      Winterfell                      14  2014-01-27                   4.4   \n",
       "\n",
       "   avg_surge last_trip_date    phone  surge_pct  ultimate_black_user  \\\n",
       "0       1.10     2014-06-17   iPhone       15.4                 True   \n",
       "1       1.00     2014-05-05  Android        0.0                False   \n",
       "2       1.00     2014-01-07   iPhone        0.0                False   \n",
       "3       1.14     2014-06-29   iPhone       20.0                 True   \n",
       "4       1.19     2014-03-15  Android       11.8                False   \n",
       "\n",
       "   weekday_pct  avg_dist  avg_rating_by_driver  \n",
       "0         46.2      3.67                   5.0  \n",
       "1         50.0      8.26                   5.0  \n",
       "2        100.0      0.77                   5.0  \n",
       "3         80.0      2.36                   4.9  \n",
       "4         82.4      3.13                   4.9  "
      ]
     },
     "execution_count": 11,
     "metadata": {},
     "output_type": "execute_result"
    }
   ],
   "source": [
    "# check the first few rows\n",
    "df_rider.head()"
   ]
  },
  {
   "cell_type": "code",
   "execution_count": 12,
   "metadata": {},
   "outputs": [
    {
     "data": {
      "text/html": [
       "<div>\n",
       "<style scoped>\n",
       "    .dataframe tbody tr th:only-of-type {\n",
       "        vertical-align: middle;\n",
       "    }\n",
       "\n",
       "    .dataframe tbody tr th {\n",
       "        vertical-align: top;\n",
       "    }\n",
       "\n",
       "    .dataframe thead th {\n",
       "        text-align: right;\n",
       "    }\n",
       "</style>\n",
       "<table border=\"1\" class=\"dataframe\">\n",
       "  <thead>\n",
       "    <tr style=\"text-align: right;\">\n",
       "      <th></th>\n",
       "      <th>city</th>\n",
       "      <th>trips_in_first_30_days</th>\n",
       "      <th>signup_date</th>\n",
       "      <th>avg_rating_of_driver</th>\n",
       "      <th>avg_surge</th>\n",
       "      <th>last_trip_date</th>\n",
       "      <th>phone</th>\n",
       "      <th>surge_pct</th>\n",
       "      <th>ultimate_black_user</th>\n",
       "      <th>weekday_pct</th>\n",
       "      <th>avg_dist</th>\n",
       "      <th>avg_rating_by_driver</th>\n",
       "    </tr>\n",
       "  </thead>\n",
       "  <tbody>\n",
       "    <tr>\n",
       "      <th>49995</th>\n",
       "      <td>King's Landing</td>\n",
       "      <td>0</td>\n",
       "      <td>2014-01-25</td>\n",
       "      <td>5.0</td>\n",
       "      <td>1.0</td>\n",
       "      <td>2014-06-05</td>\n",
       "      <td>iPhone</td>\n",
       "      <td>0.0</td>\n",
       "      <td>False</td>\n",
       "      <td>100.0</td>\n",
       "      <td>5.63</td>\n",
       "      <td>4.2</td>\n",
       "    </tr>\n",
       "    <tr>\n",
       "      <th>49996</th>\n",
       "      <td>Astapor</td>\n",
       "      <td>1</td>\n",
       "      <td>2014-01-24</td>\n",
       "      <td>NaN</td>\n",
       "      <td>1.0</td>\n",
       "      <td>2014-01-25</td>\n",
       "      <td>iPhone</td>\n",
       "      <td>0.0</td>\n",
       "      <td>False</td>\n",
       "      <td>0.0</td>\n",
       "      <td>0.00</td>\n",
       "      <td>4.0</td>\n",
       "    </tr>\n",
       "    <tr>\n",
       "      <th>49997</th>\n",
       "      <td>Winterfell</td>\n",
       "      <td>0</td>\n",
       "      <td>2014-01-31</td>\n",
       "      <td>5.0</td>\n",
       "      <td>1.0</td>\n",
       "      <td>2014-05-22</td>\n",
       "      <td>Android</td>\n",
       "      <td>0.0</td>\n",
       "      <td>True</td>\n",
       "      <td>100.0</td>\n",
       "      <td>3.86</td>\n",
       "      <td>5.0</td>\n",
       "    </tr>\n",
       "    <tr>\n",
       "      <th>49998</th>\n",
       "      <td>Astapor</td>\n",
       "      <td>2</td>\n",
       "      <td>2014-01-14</td>\n",
       "      <td>3.0</td>\n",
       "      <td>1.0</td>\n",
       "      <td>2014-01-15</td>\n",
       "      <td>iPhone</td>\n",
       "      <td>0.0</td>\n",
       "      <td>False</td>\n",
       "      <td>100.0</td>\n",
       "      <td>4.58</td>\n",
       "      <td>3.5</td>\n",
       "    </tr>\n",
       "    <tr>\n",
       "      <th>49999</th>\n",
       "      <td>Astapor</td>\n",
       "      <td>0</td>\n",
       "      <td>2014-01-18</td>\n",
       "      <td>NaN</td>\n",
       "      <td>1.0</td>\n",
       "      <td>2014-04-20</td>\n",
       "      <td>Android</td>\n",
       "      <td>0.0</td>\n",
       "      <td>False</td>\n",
       "      <td>0.0</td>\n",
       "      <td>3.49</td>\n",
       "      <td>5.0</td>\n",
       "    </tr>\n",
       "  </tbody>\n",
       "</table>\n",
       "</div>"
      ],
      "text/plain": [
       "                 city  trips_in_first_30_days signup_date  \\\n",
       "49995  King's Landing                       0  2014-01-25   \n",
       "49996         Astapor                       1  2014-01-24   \n",
       "49997      Winterfell                       0  2014-01-31   \n",
       "49998         Astapor                       2  2014-01-14   \n",
       "49999         Astapor                       0  2014-01-18   \n",
       "\n",
       "       avg_rating_of_driver  avg_surge last_trip_date    phone  surge_pct  \\\n",
       "49995                   5.0        1.0     2014-06-05   iPhone        0.0   \n",
       "49996                   NaN        1.0     2014-01-25   iPhone        0.0   \n",
       "49997                   5.0        1.0     2014-05-22  Android        0.0   \n",
       "49998                   3.0        1.0     2014-01-15   iPhone        0.0   \n",
       "49999                   NaN        1.0     2014-04-20  Android        0.0   \n",
       "\n",
       "       ultimate_black_user  weekday_pct  avg_dist  avg_rating_by_driver  \n",
       "49995                False        100.0      5.63                   4.2  \n",
       "49996                False          0.0      0.00                   4.0  \n",
       "49997                 True        100.0      3.86                   5.0  \n",
       "49998                False        100.0      4.58                   3.5  \n",
       "49999                False          0.0      3.49                   5.0  "
      ]
     },
     "execution_count": 12,
     "metadata": {},
     "output_type": "execute_result"
    }
   ],
   "source": [
    "# check the last few rows\n",
    "df_rider.tail()"
   ]
  },
  {
   "cell_type": "markdown",
   "metadata": {},
   "source": [
    "Let's check how many rows and columns the dataframe has."
   ]
  },
  {
   "cell_type": "code",
   "execution_count": 13,
   "metadata": {},
   "outputs": [
    {
     "data": {
      "text/plain": [
       "(50000, 12)"
      ]
     },
     "execution_count": 13,
     "metadata": {},
     "output_type": "execute_result"
    }
   ],
   "source": [
    "# check shape of the dataframe\n",
    "df_rider.shape"
   ]
  },
  {
   "cell_type": "markdown",
   "metadata": {},
   "source": [
    "It would be good to know the data types and how many entries there are for each column, to see if there are any missing values."
   ]
  },
  {
   "cell_type": "code",
   "execution_count": 14,
   "metadata": {},
   "outputs": [
    {
     "name": "stdout",
     "output_type": "stream",
     "text": [
      "<class 'pandas.core.frame.DataFrame'>\n",
      "RangeIndex: 50000 entries, 0 to 49999\n",
      "Data columns (total 12 columns):\n",
      "city                      50000 non-null object\n",
      "trips_in_first_30_days    50000 non-null int64\n",
      "signup_date               50000 non-null object\n",
      "avg_rating_of_driver      41878 non-null float64\n",
      "avg_surge                 50000 non-null float64\n",
      "last_trip_date            50000 non-null object\n",
      "phone                     49604 non-null object\n",
      "surge_pct                 50000 non-null float64\n",
      "ultimate_black_user       50000 non-null bool\n",
      "weekday_pct               50000 non-null float64\n",
      "avg_dist                  50000 non-null float64\n",
      "avg_rating_by_driver      49799 non-null float64\n",
      "dtypes: bool(1), float64(6), int64(1), object(4)\n",
      "memory usage: 4.2+ MB\n"
     ]
    }
   ],
   "source": [
    "# check info of dataframe\n",
    "df_rider.info()"
   ]
  },
  {
   "cell_type": "markdown",
   "metadata": {},
   "source": [
    "From all 12 columns only 'avg_rating_of_driver', 'phone' and 'avg_rating_by_driver' columns have some missing values."
   ]
  },
  {
   "cell_type": "markdown",
   "metadata": {},
   "source": [
    "We can also check summary statistics for numeric columns, like minimum and maximum values."
   ]
  },
  {
   "cell_type": "code",
   "execution_count": 15,
   "metadata": {},
   "outputs": [
    {
     "data": {
      "text/html": [
       "<div>\n",
       "<style scoped>\n",
       "    .dataframe tbody tr th:only-of-type {\n",
       "        vertical-align: middle;\n",
       "    }\n",
       "\n",
       "    .dataframe tbody tr th {\n",
       "        vertical-align: top;\n",
       "    }\n",
       "\n",
       "    .dataframe thead th {\n",
       "        text-align: right;\n",
       "    }\n",
       "</style>\n",
       "<table border=\"1\" class=\"dataframe\">\n",
       "  <thead>\n",
       "    <tr style=\"text-align: right;\">\n",
       "      <th></th>\n",
       "      <th>trips_in_first_30_days</th>\n",
       "      <th>avg_rating_of_driver</th>\n",
       "      <th>avg_surge</th>\n",
       "      <th>surge_pct</th>\n",
       "      <th>weekday_pct</th>\n",
       "      <th>avg_dist</th>\n",
       "      <th>avg_rating_by_driver</th>\n",
       "    </tr>\n",
       "  </thead>\n",
       "  <tbody>\n",
       "    <tr>\n",
       "      <th>count</th>\n",
       "      <td>50000.000000</td>\n",
       "      <td>41878.000000</td>\n",
       "      <td>50000.000000</td>\n",
       "      <td>50000.000000</td>\n",
       "      <td>50000.000000</td>\n",
       "      <td>50000.000000</td>\n",
       "      <td>49799.000000</td>\n",
       "    </tr>\n",
       "    <tr>\n",
       "      <th>mean</th>\n",
       "      <td>2.278200</td>\n",
       "      <td>4.601559</td>\n",
       "      <td>1.074764</td>\n",
       "      <td>8.849536</td>\n",
       "      <td>60.926084</td>\n",
       "      <td>5.796827</td>\n",
       "      <td>4.778158</td>\n",
       "    </tr>\n",
       "    <tr>\n",
       "      <th>std</th>\n",
       "      <td>3.792684</td>\n",
       "      <td>0.617338</td>\n",
       "      <td>0.222336</td>\n",
       "      <td>19.958811</td>\n",
       "      <td>37.081503</td>\n",
       "      <td>5.707357</td>\n",
       "      <td>0.446652</td>\n",
       "    </tr>\n",
       "    <tr>\n",
       "      <th>min</th>\n",
       "      <td>0.000000</td>\n",
       "      <td>1.000000</td>\n",
       "      <td>1.000000</td>\n",
       "      <td>0.000000</td>\n",
       "      <td>0.000000</td>\n",
       "      <td>0.000000</td>\n",
       "      <td>1.000000</td>\n",
       "    </tr>\n",
       "    <tr>\n",
       "      <th>25%</th>\n",
       "      <td>0.000000</td>\n",
       "      <td>4.300000</td>\n",
       "      <td>1.000000</td>\n",
       "      <td>0.000000</td>\n",
       "      <td>33.300000</td>\n",
       "      <td>2.420000</td>\n",
       "      <td>4.700000</td>\n",
       "    </tr>\n",
       "    <tr>\n",
       "      <th>50%</th>\n",
       "      <td>1.000000</td>\n",
       "      <td>4.900000</td>\n",
       "      <td>1.000000</td>\n",
       "      <td>0.000000</td>\n",
       "      <td>66.700000</td>\n",
       "      <td>3.880000</td>\n",
       "      <td>5.000000</td>\n",
       "    </tr>\n",
       "    <tr>\n",
       "      <th>75%</th>\n",
       "      <td>3.000000</td>\n",
       "      <td>5.000000</td>\n",
       "      <td>1.050000</td>\n",
       "      <td>8.600000</td>\n",
       "      <td>100.000000</td>\n",
       "      <td>6.940000</td>\n",
       "      <td>5.000000</td>\n",
       "    </tr>\n",
       "    <tr>\n",
       "      <th>max</th>\n",
       "      <td>125.000000</td>\n",
       "      <td>5.000000</td>\n",
       "      <td>8.000000</td>\n",
       "      <td>100.000000</td>\n",
       "      <td>100.000000</td>\n",
       "      <td>160.960000</td>\n",
       "      <td>5.000000</td>\n",
       "    </tr>\n",
       "  </tbody>\n",
       "</table>\n",
       "</div>"
      ],
      "text/plain": [
       "       trips_in_first_30_days  avg_rating_of_driver     avg_surge  \\\n",
       "count            50000.000000          41878.000000  50000.000000   \n",
       "mean                 2.278200              4.601559      1.074764   \n",
       "std                  3.792684              0.617338      0.222336   \n",
       "min                  0.000000              1.000000      1.000000   \n",
       "25%                  0.000000              4.300000      1.000000   \n",
       "50%                  1.000000              4.900000      1.000000   \n",
       "75%                  3.000000              5.000000      1.050000   \n",
       "max                125.000000              5.000000      8.000000   \n",
       "\n",
       "          surge_pct   weekday_pct      avg_dist  avg_rating_by_driver  \n",
       "count  50000.000000  50000.000000  50000.000000          49799.000000  \n",
       "mean       8.849536     60.926084      5.796827              4.778158  \n",
       "std       19.958811     37.081503      5.707357              0.446652  \n",
       "min        0.000000      0.000000      0.000000              1.000000  \n",
       "25%        0.000000     33.300000      2.420000              4.700000  \n",
       "50%        0.000000     66.700000      3.880000              5.000000  \n",
       "75%        8.600000    100.000000      6.940000              5.000000  \n",
       "max      100.000000    100.000000    160.960000              5.000000  "
      ]
     },
     "execution_count": 15,
     "metadata": {},
     "output_type": "execute_result"
    }
   ],
   "source": [
    "# get stats for float and integer columns\n",
    "df_rider.describe()"
   ]
  },
  {
   "cell_type": "markdown",
   "metadata": {},
   "source": [
    "By looking at the maximums, it seems that 125 trips is the highest number of trips in the first 30 days after signing up. This is around 4 trips per day, which is a reasonable number. There are also riders who didn't take any trips in this timespan. And 5 is high value for an average rating of a driver, it means that this driver only gets the best ratings. Making 160.96 miles (260km) on average per trip is a lot, this driver is spending a lot of time on the road. "
   ]
  },
  {
   "cell_type": "markdown",
   "metadata": {},
   "source": [
    "Let's check what the last date in the dataframe is."
   ]
  },
  {
   "cell_type": "code",
   "execution_count": 16,
   "metadata": {},
   "outputs": [],
   "source": [
    "# sort values, since they are not in order\n",
    "df_rider = df_rider.sort_values(by='last_trip_date', ascending=False)"
   ]
  },
  {
   "cell_type": "code",
   "execution_count": 20,
   "metadata": {},
   "outputs": [
    {
     "data": {
      "text/html": [
       "<div>\n",
       "<style scoped>\n",
       "    .dataframe tbody tr th:only-of-type {\n",
       "        vertical-align: middle;\n",
       "    }\n",
       "\n",
       "    .dataframe tbody tr th {\n",
       "        vertical-align: top;\n",
       "    }\n",
       "\n",
       "    .dataframe thead th {\n",
       "        text-align: right;\n",
       "    }\n",
       "</style>\n",
       "<table border=\"1\" class=\"dataframe\">\n",
       "  <thead>\n",
       "    <tr style=\"text-align: right;\">\n",
       "      <th></th>\n",
       "      <th>city</th>\n",
       "      <th>trips_in_first_30_days</th>\n",
       "      <th>signup_date</th>\n",
       "      <th>avg_rating_of_driver</th>\n",
       "      <th>avg_surge</th>\n",
       "      <th>last_trip_date</th>\n",
       "      <th>phone</th>\n",
       "      <th>surge_pct</th>\n",
       "      <th>ultimate_black_user</th>\n",
       "      <th>weekday_pct</th>\n",
       "      <th>avg_dist</th>\n",
       "      <th>avg_rating_by_driver</th>\n",
       "    </tr>\n",
       "  </thead>\n",
       "  <tbody>\n",
       "    <tr>\n",
       "      <th>4486</th>\n",
       "      <td>Winterfell</td>\n",
       "      <td>4</td>\n",
       "      <td>2014-01-25</td>\n",
       "      <td>5.0</td>\n",
       "      <td>1.00</td>\n",
       "      <td>2014-07-01</td>\n",
       "      <td>Android</td>\n",
       "      <td>0.0</td>\n",
       "      <td>True</td>\n",
       "      <td>25.0</td>\n",
       "      <td>11.94</td>\n",
       "      <td>5.0</td>\n",
       "    </tr>\n",
       "    <tr>\n",
       "      <th>43047</th>\n",
       "      <td>King's Landing</td>\n",
       "      <td>1</td>\n",
       "      <td>2014-01-15</td>\n",
       "      <td>5.0</td>\n",
       "      <td>1.01</td>\n",
       "      <td>2014-07-01</td>\n",
       "      <td>iPhone</td>\n",
       "      <td>0.8</td>\n",
       "      <td>True</td>\n",
       "      <td>89.3</td>\n",
       "      <td>5.49</td>\n",
       "      <td>4.7</td>\n",
       "    </tr>\n",
       "    <tr>\n",
       "      <th>24059</th>\n",
       "      <td>Astapor</td>\n",
       "      <td>1</td>\n",
       "      <td>2014-01-24</td>\n",
       "      <td>4.3</td>\n",
       "      <td>1.11</td>\n",
       "      <td>2014-07-01</td>\n",
       "      <td>iPhone</td>\n",
       "      <td>14.3</td>\n",
       "      <td>False</td>\n",
       "      <td>71.4</td>\n",
       "      <td>8.62</td>\n",
       "      <td>4.9</td>\n",
       "    </tr>\n",
       "    <tr>\n",
       "      <th>40290</th>\n",
       "      <td>King's Landing</td>\n",
       "      <td>2</td>\n",
       "      <td>2014-01-07</td>\n",
       "      <td>4.9</td>\n",
       "      <td>1.02</td>\n",
       "      <td>2014-07-01</td>\n",
       "      <td>iPhone</td>\n",
       "      <td>1.6</td>\n",
       "      <td>True</td>\n",
       "      <td>95.2</td>\n",
       "      <td>7.51</td>\n",
       "      <td>4.8</td>\n",
       "    </tr>\n",
       "    <tr>\n",
       "      <th>28689</th>\n",
       "      <td>King's Landing</td>\n",
       "      <td>5</td>\n",
       "      <td>2014-01-16</td>\n",
       "      <td>5.0</td>\n",
       "      <td>1.00</td>\n",
       "      <td>2014-07-01</td>\n",
       "      <td>iPhone</td>\n",
       "      <td>0.0</td>\n",
       "      <td>False</td>\n",
       "      <td>75.0</td>\n",
       "      <td>16.32</td>\n",
       "      <td>5.0</td>\n",
       "    </tr>\n",
       "    <tr>\n",
       "      <th>41544</th>\n",
       "      <td>Winterfell</td>\n",
       "      <td>7</td>\n",
       "      <td>2014-01-22</td>\n",
       "      <td>5.0</td>\n",
       "      <td>1.11</td>\n",
       "      <td>2014-07-01</td>\n",
       "      <td>iPhone</td>\n",
       "      <td>12.7</td>\n",
       "      <td>True</td>\n",
       "      <td>52.1</td>\n",
       "      <td>3.16</td>\n",
       "      <td>4.8</td>\n",
       "    </tr>\n",
       "    <tr>\n",
       "      <th>44457</th>\n",
       "      <td>Winterfell</td>\n",
       "      <td>9</td>\n",
       "      <td>2014-01-13</td>\n",
       "      <td>4.8</td>\n",
       "      <td>1.00</td>\n",
       "      <td>2014-07-01</td>\n",
       "      <td>iPhone</td>\n",
       "      <td>0.0</td>\n",
       "      <td>False</td>\n",
       "      <td>91.7</td>\n",
       "      <td>2.34</td>\n",
       "      <td>4.7</td>\n",
       "    </tr>\n",
       "    <tr>\n",
       "      <th>21699</th>\n",
       "      <td>Winterfell</td>\n",
       "      <td>4</td>\n",
       "      <td>2014-01-13</td>\n",
       "      <td>3.4</td>\n",
       "      <td>1.00</td>\n",
       "      <td>2014-07-01</td>\n",
       "      <td>iPhone</td>\n",
       "      <td>0.0</td>\n",
       "      <td>True</td>\n",
       "      <td>66.7</td>\n",
       "      <td>4.35</td>\n",
       "      <td>4.7</td>\n",
       "    </tr>\n",
       "    <tr>\n",
       "      <th>15631</th>\n",
       "      <td>King's Landing</td>\n",
       "      <td>0</td>\n",
       "      <td>2014-01-15</td>\n",
       "      <td>4.5</td>\n",
       "      <td>1.15</td>\n",
       "      <td>2014-07-01</td>\n",
       "      <td>iPhone</td>\n",
       "      <td>27.8</td>\n",
       "      <td>False</td>\n",
       "      <td>91.7</td>\n",
       "      <td>3.29</td>\n",
       "      <td>4.9</td>\n",
       "    </tr>\n",
       "    <tr>\n",
       "      <th>33653</th>\n",
       "      <td>Winterfell</td>\n",
       "      <td>1</td>\n",
       "      <td>2014-01-07</td>\n",
       "      <td>4.3</td>\n",
       "      <td>1.00</td>\n",
       "      <td>2014-07-01</td>\n",
       "      <td>iPhone</td>\n",
       "      <td>0.0</td>\n",
       "      <td>True</td>\n",
       "      <td>50.0</td>\n",
       "      <td>7.55</td>\n",
       "      <td>5.0</td>\n",
       "    </tr>\n",
       "  </tbody>\n",
       "</table>\n",
       "</div>"
      ],
      "text/plain": [
       "                 city  trips_in_first_30_days signup_date  \\\n",
       "4486       Winterfell                       4  2014-01-25   \n",
       "43047  King's Landing                       1  2014-01-15   \n",
       "24059         Astapor                       1  2014-01-24   \n",
       "40290  King's Landing                       2  2014-01-07   \n",
       "28689  King's Landing                       5  2014-01-16   \n",
       "41544      Winterfell                       7  2014-01-22   \n",
       "44457      Winterfell                       9  2014-01-13   \n",
       "21699      Winterfell                       4  2014-01-13   \n",
       "15631  King's Landing                       0  2014-01-15   \n",
       "33653      Winterfell                       1  2014-01-07   \n",
       "\n",
       "       avg_rating_of_driver  avg_surge last_trip_date    phone  surge_pct  \\\n",
       "4486                    5.0       1.00     2014-07-01  Android        0.0   \n",
       "43047                   5.0       1.01     2014-07-01   iPhone        0.8   \n",
       "24059                   4.3       1.11     2014-07-01   iPhone       14.3   \n",
       "40290                   4.9       1.02     2014-07-01   iPhone        1.6   \n",
       "28689                   5.0       1.00     2014-07-01   iPhone        0.0   \n",
       "41544                   5.0       1.11     2014-07-01   iPhone       12.7   \n",
       "44457                   4.8       1.00     2014-07-01   iPhone        0.0   \n",
       "21699                   3.4       1.00     2014-07-01   iPhone        0.0   \n",
       "15631                   4.5       1.15     2014-07-01   iPhone       27.8   \n",
       "33653                   4.3       1.00     2014-07-01   iPhone        0.0   \n",
       "\n",
       "       ultimate_black_user  weekday_pct  avg_dist  avg_rating_by_driver  \n",
       "4486                  True         25.0     11.94                   5.0  \n",
       "43047                 True         89.3      5.49                   4.7  \n",
       "24059                False         71.4      8.62                   4.9  \n",
       "40290                 True         95.2      7.51                   4.8  \n",
       "28689                False         75.0     16.32                   5.0  \n",
       "41544                 True         52.1      3.16                   4.8  \n",
       "44457                False         91.7      2.34                   4.7  \n",
       "21699                 True         66.7      4.35                   4.7  \n",
       "15631                False         91.7      3.29                   4.9  \n",
       "33653                 True         50.0      7.55                   5.0  "
      ]
     },
     "execution_count": 20,
     "metadata": {},
     "output_type": "execute_result"
    }
   ],
   "source": [
    "# check if it's sorted correctly\n",
    "df_rider.head(10)"
   ]
  },
  {
   "cell_type": "code",
   "execution_count": 33,
   "metadata": {},
   "outputs": [
    {
     "data": {
      "text/html": [
       "<div>\n",
       "<style scoped>\n",
       "    .dataframe tbody tr th:only-of-type {\n",
       "        vertical-align: middle;\n",
       "    }\n",
       "\n",
       "    .dataframe tbody tr th {\n",
       "        vertical-align: top;\n",
       "    }\n",
       "\n",
       "    .dataframe thead th {\n",
       "        text-align: right;\n",
       "    }\n",
       "</style>\n",
       "<table border=\"1\" class=\"dataframe\">\n",
       "  <thead>\n",
       "    <tr style=\"text-align: right;\">\n",
       "      <th></th>\n",
       "      <th>city</th>\n",
       "      <th>trips_in_first_30_days</th>\n",
       "      <th>signup_date</th>\n",
       "      <th>avg_rating_of_driver</th>\n",
       "      <th>avg_surge</th>\n",
       "      <th>last_trip_date</th>\n",
       "      <th>phone</th>\n",
       "      <th>surge_pct</th>\n",
       "      <th>ultimate_black_user</th>\n",
       "      <th>weekday_pct</th>\n",
       "      <th>avg_dist</th>\n",
       "      <th>avg_rating_by_driver</th>\n",
       "    </tr>\n",
       "  </thead>\n",
       "  <tbody>\n",
       "    <tr>\n",
       "      <th>11557</th>\n",
       "      <td>Winterfell</td>\n",
       "      <td>1</td>\n",
       "      <td>2014-01-01</td>\n",
       "      <td>NaN</td>\n",
       "      <td>1.00</td>\n",
       "      <td>2014-01-01</td>\n",
       "      <td>iPhone</td>\n",
       "      <td>0.0</td>\n",
       "      <td>False</td>\n",
       "      <td>100.0</td>\n",
       "      <td>15.14</td>\n",
       "      <td>5.0</td>\n",
       "    </tr>\n",
       "    <tr>\n",
       "      <th>40336</th>\n",
       "      <td>Winterfell</td>\n",
       "      <td>1</td>\n",
       "      <td>2014-01-01</td>\n",
       "      <td>5.0</td>\n",
       "      <td>1.00</td>\n",
       "      <td>2014-01-01</td>\n",
       "      <td>iPhone</td>\n",
       "      <td>0.0</td>\n",
       "      <td>False</td>\n",
       "      <td>100.0</td>\n",
       "      <td>5.98</td>\n",
       "      <td>5.0</td>\n",
       "    </tr>\n",
       "    <tr>\n",
       "      <th>11794</th>\n",
       "      <td>Astapor</td>\n",
       "      <td>1</td>\n",
       "      <td>2014-01-01</td>\n",
       "      <td>1.0</td>\n",
       "      <td>1.00</td>\n",
       "      <td>2014-01-01</td>\n",
       "      <td>Android</td>\n",
       "      <td>0.0</td>\n",
       "      <td>False</td>\n",
       "      <td>100.0</td>\n",
       "      <td>1.45</td>\n",
       "      <td>5.0</td>\n",
       "    </tr>\n",
       "    <tr>\n",
       "      <th>33172</th>\n",
       "      <td>Winterfell</td>\n",
       "      <td>1</td>\n",
       "      <td>2014-01-01</td>\n",
       "      <td>4.0</td>\n",
       "      <td>1.00</td>\n",
       "      <td>2014-01-01</td>\n",
       "      <td>Android</td>\n",
       "      <td>0.0</td>\n",
       "      <td>False</td>\n",
       "      <td>100.0</td>\n",
       "      <td>1.55</td>\n",
       "      <td>4.0</td>\n",
       "    </tr>\n",
       "    <tr>\n",
       "      <th>33241</th>\n",
       "      <td>Winterfell</td>\n",
       "      <td>1</td>\n",
       "      <td>2014-01-01</td>\n",
       "      <td>4.0</td>\n",
       "      <td>1.00</td>\n",
       "      <td>2014-01-01</td>\n",
       "      <td>iPhone</td>\n",
       "      <td>0.0</td>\n",
       "      <td>False</td>\n",
       "      <td>100.0</td>\n",
       "      <td>6.83</td>\n",
       "      <td>3.0</td>\n",
       "    </tr>\n",
       "    <tr>\n",
       "      <th>23907</th>\n",
       "      <td>Winterfell</td>\n",
       "      <td>1</td>\n",
       "      <td>2014-01-01</td>\n",
       "      <td>5.0</td>\n",
       "      <td>3.00</td>\n",
       "      <td>2014-01-01</td>\n",
       "      <td>Android</td>\n",
       "      <td>100.0</td>\n",
       "      <td>False</td>\n",
       "      <td>100.0</td>\n",
       "      <td>3.36</td>\n",
       "      <td>5.0</td>\n",
       "    </tr>\n",
       "    <tr>\n",
       "      <th>47804</th>\n",
       "      <td>Astapor</td>\n",
       "      <td>1</td>\n",
       "      <td>2014-01-01</td>\n",
       "      <td>NaN</td>\n",
       "      <td>1.00</td>\n",
       "      <td>2014-01-01</td>\n",
       "      <td>Android</td>\n",
       "      <td>0.0</td>\n",
       "      <td>True</td>\n",
       "      <td>100.0</td>\n",
       "      <td>7.17</td>\n",
       "      <td>5.0</td>\n",
       "    </tr>\n",
       "    <tr>\n",
       "      <th>11578</th>\n",
       "      <td>Winterfell</td>\n",
       "      <td>1</td>\n",
       "      <td>2014-01-01</td>\n",
       "      <td>NaN</td>\n",
       "      <td>1.00</td>\n",
       "      <td>2014-01-01</td>\n",
       "      <td>Android</td>\n",
       "      <td>0.0</td>\n",
       "      <td>True</td>\n",
       "      <td>100.0</td>\n",
       "      <td>18.63</td>\n",
       "      <td>5.0</td>\n",
       "    </tr>\n",
       "    <tr>\n",
       "      <th>11573</th>\n",
       "      <td>Astapor</td>\n",
       "      <td>1</td>\n",
       "      <td>2014-01-01</td>\n",
       "      <td>NaN</td>\n",
       "      <td>1.25</td>\n",
       "      <td>2014-01-01</td>\n",
       "      <td>iPhone</td>\n",
       "      <td>100.0</td>\n",
       "      <td>False</td>\n",
       "      <td>100.0</td>\n",
       "      <td>2.47</td>\n",
       "      <td>5.0</td>\n",
       "    </tr>\n",
       "    <tr>\n",
       "      <th>15359</th>\n",
       "      <td>Winterfell</td>\n",
       "      <td>1</td>\n",
       "      <td>2014-01-01</td>\n",
       "      <td>4.0</td>\n",
       "      <td>1.00</td>\n",
       "      <td>2014-01-01</td>\n",
       "      <td>iPhone</td>\n",
       "      <td>0.0</td>\n",
       "      <td>False</td>\n",
       "      <td>100.0</td>\n",
       "      <td>6.16</td>\n",
       "      <td>5.0</td>\n",
       "    </tr>\n",
       "  </tbody>\n",
       "</table>\n",
       "</div>"
      ],
      "text/plain": [
       "             city  trips_in_first_30_days signup_date  avg_rating_of_driver  \\\n",
       "11557  Winterfell                       1  2014-01-01                   NaN   \n",
       "40336  Winterfell                       1  2014-01-01                   5.0   \n",
       "11794     Astapor                       1  2014-01-01                   1.0   \n",
       "33172  Winterfell                       1  2014-01-01                   4.0   \n",
       "33241  Winterfell                       1  2014-01-01                   4.0   \n",
       "23907  Winterfell                       1  2014-01-01                   5.0   \n",
       "47804     Astapor                       1  2014-01-01                   NaN   \n",
       "11578  Winterfell                       1  2014-01-01                   NaN   \n",
       "11573     Astapor                       1  2014-01-01                   NaN   \n",
       "15359  Winterfell                       1  2014-01-01                   4.0   \n",
       "\n",
       "       avg_surge last_trip_date    phone  surge_pct  ultimate_black_user  \\\n",
       "11557       1.00     2014-01-01   iPhone        0.0                False   \n",
       "40336       1.00     2014-01-01   iPhone        0.0                False   \n",
       "11794       1.00     2014-01-01  Android        0.0                False   \n",
       "33172       1.00     2014-01-01  Android        0.0                False   \n",
       "33241       1.00     2014-01-01   iPhone        0.0                False   \n",
       "23907       3.00     2014-01-01  Android      100.0                False   \n",
       "47804       1.00     2014-01-01  Android        0.0                 True   \n",
       "11578       1.00     2014-01-01  Android        0.0                 True   \n",
       "11573       1.25     2014-01-01   iPhone      100.0                False   \n",
       "15359       1.00     2014-01-01   iPhone        0.0                False   \n",
       "\n",
       "       weekday_pct  avg_dist  avg_rating_by_driver  \n",
       "11557        100.0     15.14                   5.0  \n",
       "40336        100.0      5.98                   5.0  \n",
       "11794        100.0      1.45                   5.0  \n",
       "33172        100.0      1.55                   4.0  \n",
       "33241        100.0      6.83                   3.0  \n",
       "23907        100.0      3.36                   5.0  \n",
       "47804        100.0      7.17                   5.0  \n",
       "11578        100.0     18.63                   5.0  \n",
       "11573        100.0      2.47                   5.0  \n",
       "15359        100.0      6.16                   5.0  "
      ]
     },
     "execution_count": 33,
     "metadata": {},
     "output_type": "execute_result"
    }
   ],
   "source": [
    "# check if it's sorted correctly\n",
    "df_rider.tail(10)"
   ]
  },
  {
   "cell_type": "markdown",
   "metadata": {},
   "source": [
    "2014-07-01 was the last day an entry was made for 'last_trip_date' in the dataframe. Therefore we need to subtract 30 day from this date. In order to be able to do that we need to convert 'last_trip_date' column (and 'signup_date' column as well) from a string format to a date format.\n",
    "If we look at the 'signup_date' and 'last_trip_date' the data covers about a 6 month timespan."
   ]
  },
  {
   "cell_type": "code",
   "execution_count": 32,
   "metadata": {},
   "outputs": [],
   "source": [
    "# change data type\n",
    "df_rider['signup_date'] = pd.to_datetime(df_rider['signup_date'])\n",
    "df_rider['last_trip_date'] = pd.to_datetime(df_rider['last_trip_date'])"
   ]
  },
  {
   "cell_type": "code",
   "execution_count": 41,
   "metadata": {},
   "outputs": [
    {
     "name": "stdout",
     "output_type": "stream",
     "text": [
      "<class 'pandas.core.frame.DataFrame'>\n",
      "Int64Index: 50000 entries, 4486 to 15359\n",
      "Data columns (total 12 columns):\n",
      "city                      50000 non-null object\n",
      "trips_in_first_30_days    50000 non-null int64\n",
      "signup_date               50000 non-null datetime64[ns]\n",
      "avg_rating_of_driver      41878 non-null float64\n",
      "avg_surge                 50000 non-null float64\n",
      "last_trip_date            50000 non-null datetime64[ns]\n",
      "phone                     49604 non-null object\n",
      "surge_pct                 50000 non-null float64\n",
      "ultimate_black_user       50000 non-null bool\n",
      "weekday_pct               50000 non-null float64\n",
      "avg_dist                  50000 non-null float64\n",
      "avg_rating_by_driver      49799 non-null float64\n",
      "dtypes: bool(1), datetime64[ns](2), float64(6), int64(1), object(2)\n",
      "memory usage: 4.6+ MB\n"
     ]
    }
   ],
   "source": [
    "# check if conversion was made \n",
    "df_rider.info()"
   ]
  },
  {
   "cell_type": "markdown",
   "metadata": {},
   "source": [
    "The next step is to subtract 30 days from the 'last_trip_date' in the dataframe "
   ]
  },
  {
   "cell_type": "code",
   "execution_count": 45,
   "metadata": {},
   "outputs": [
    {
     "data": {
      "text/plain": [
       "Timestamp('2014-06-01 00:00:00')"
      ]
     },
     "execution_count": 45,
     "metadata": {},
     "output_type": "execute_result"
    }
   ],
   "source": [
    "# substract 30 days from last date in the dataframe\n",
    "day = df_rider['last_trip_date'].iloc[0] -  pd.to_timedelta(30, unit='d')\n",
    "day"
   ]
  },
  {
   "cell_type": "markdown",
   "metadata": {},
   "source": [
    "We have to look for all dates that are after 2014-06-01, to get information on users who were retained."
   ]
  },
  {
   "cell_type": "code",
   "execution_count": 87,
   "metadata": {},
   "outputs": [],
   "source": [
    "# create a new column called 'last_30_day' where the value is yes \n",
    "# if 'last_trip_date' is greater than the 'day' and no if not\n",
    "df_rider['last_30_day'] = np.where(df_rider['last_trip_date']>=day, 'yes', 'no')"
   ]
  },
  {
   "cell_type": "code",
   "execution_count": 47,
   "metadata": {},
   "outputs": [
    {
     "data": {
      "text/html": [
       "<div>\n",
       "<style scoped>\n",
       "    .dataframe tbody tr th:only-of-type {\n",
       "        vertical-align: middle;\n",
       "    }\n",
       "\n",
       "    .dataframe tbody tr th {\n",
       "        vertical-align: top;\n",
       "    }\n",
       "\n",
       "    .dataframe thead th {\n",
       "        text-align: right;\n",
       "    }\n",
       "</style>\n",
       "<table border=\"1\" class=\"dataframe\">\n",
       "  <thead>\n",
       "    <tr style=\"text-align: right;\">\n",
       "      <th></th>\n",
       "      <th>city</th>\n",
       "      <th>trips_in_first_30_days</th>\n",
       "      <th>signup_date</th>\n",
       "      <th>avg_rating_of_driver</th>\n",
       "      <th>avg_surge</th>\n",
       "      <th>last_trip_date</th>\n",
       "      <th>phone</th>\n",
       "      <th>surge_pct</th>\n",
       "      <th>ultimate_black_user</th>\n",
       "      <th>weekday_pct</th>\n",
       "      <th>avg_dist</th>\n",
       "      <th>avg_rating_by_driver</th>\n",
       "      <th>last_30_day</th>\n",
       "    </tr>\n",
       "  </thead>\n",
       "  <tbody>\n",
       "    <tr>\n",
       "      <th>4486</th>\n",
       "      <td>Winterfell</td>\n",
       "      <td>4</td>\n",
       "      <td>2014-01-25</td>\n",
       "      <td>5.0</td>\n",
       "      <td>1.00</td>\n",
       "      <td>2014-07-01</td>\n",
       "      <td>Android</td>\n",
       "      <td>0.0</td>\n",
       "      <td>True</td>\n",
       "      <td>25.0</td>\n",
       "      <td>11.94</td>\n",
       "      <td>5.0</td>\n",
       "      <td>yes</td>\n",
       "    </tr>\n",
       "    <tr>\n",
       "      <th>43047</th>\n",
       "      <td>King's Landing</td>\n",
       "      <td>1</td>\n",
       "      <td>2014-01-15</td>\n",
       "      <td>5.0</td>\n",
       "      <td>1.01</td>\n",
       "      <td>2014-07-01</td>\n",
       "      <td>iPhone</td>\n",
       "      <td>0.8</td>\n",
       "      <td>True</td>\n",
       "      <td>89.3</td>\n",
       "      <td>5.49</td>\n",
       "      <td>4.7</td>\n",
       "      <td>yes</td>\n",
       "    </tr>\n",
       "    <tr>\n",
       "      <th>24059</th>\n",
       "      <td>Astapor</td>\n",
       "      <td>1</td>\n",
       "      <td>2014-01-24</td>\n",
       "      <td>4.3</td>\n",
       "      <td>1.11</td>\n",
       "      <td>2014-07-01</td>\n",
       "      <td>iPhone</td>\n",
       "      <td>14.3</td>\n",
       "      <td>False</td>\n",
       "      <td>71.4</td>\n",
       "      <td>8.62</td>\n",
       "      <td>4.9</td>\n",
       "      <td>yes</td>\n",
       "    </tr>\n",
       "    <tr>\n",
       "      <th>40290</th>\n",
       "      <td>King's Landing</td>\n",
       "      <td>2</td>\n",
       "      <td>2014-01-07</td>\n",
       "      <td>4.9</td>\n",
       "      <td>1.02</td>\n",
       "      <td>2014-07-01</td>\n",
       "      <td>iPhone</td>\n",
       "      <td>1.6</td>\n",
       "      <td>True</td>\n",
       "      <td>95.2</td>\n",
       "      <td>7.51</td>\n",
       "      <td>4.8</td>\n",
       "      <td>yes</td>\n",
       "    </tr>\n",
       "    <tr>\n",
       "      <th>28689</th>\n",
       "      <td>King's Landing</td>\n",
       "      <td>5</td>\n",
       "      <td>2014-01-16</td>\n",
       "      <td>5.0</td>\n",
       "      <td>1.00</td>\n",
       "      <td>2014-07-01</td>\n",
       "      <td>iPhone</td>\n",
       "      <td>0.0</td>\n",
       "      <td>False</td>\n",
       "      <td>75.0</td>\n",
       "      <td>16.32</td>\n",
       "      <td>5.0</td>\n",
       "      <td>yes</td>\n",
       "    </tr>\n",
       "  </tbody>\n",
       "</table>\n",
       "</div>"
      ],
      "text/plain": [
       "                 city  trips_in_first_30_days signup_date  \\\n",
       "4486       Winterfell                       4  2014-01-25   \n",
       "43047  King's Landing                       1  2014-01-15   \n",
       "24059         Astapor                       1  2014-01-24   \n",
       "40290  King's Landing                       2  2014-01-07   \n",
       "28689  King's Landing                       5  2014-01-16   \n",
       "\n",
       "       avg_rating_of_driver  avg_surge last_trip_date    phone  surge_pct  \\\n",
       "4486                    5.0       1.00     2014-07-01  Android        0.0   \n",
       "43047                   5.0       1.01     2014-07-01   iPhone        0.8   \n",
       "24059                   4.3       1.11     2014-07-01   iPhone       14.3   \n",
       "40290                   4.9       1.02     2014-07-01   iPhone        1.6   \n",
       "28689                   5.0       1.00     2014-07-01   iPhone        0.0   \n",
       "\n",
       "       ultimate_black_user  weekday_pct  avg_dist  avg_rating_by_driver  \\\n",
       "4486                  True         25.0     11.94                   5.0   \n",
       "43047                 True         89.3      5.49                   4.7   \n",
       "24059                False         71.4      8.62                   4.9   \n",
       "40290                 True         95.2      7.51                   4.8   \n",
       "28689                False         75.0     16.32                   5.0   \n",
       "\n",
       "      last_30_day  \n",
       "4486          yes  \n",
       "43047         yes  \n",
       "24059         yes  \n",
       "40290         yes  \n",
       "28689         yes  "
      ]
     },
     "execution_count": 47,
     "metadata": {},
     "output_type": "execute_result"
    }
   ],
   "source": [
    "df_rider.head()"
   ]
  },
  {
   "cell_type": "markdown",
   "metadata": {},
   "source": [
    "Let's get familiar with our newly created column, to see how it looks like."
   ]
  },
  {
   "cell_type": "code",
   "execution_count": 50,
   "metadata": {},
   "outputs": [
    {
     "data": {
      "text/plain": [
       "count     50000\n",
       "unique        2\n",
       "top          no\n",
       "freq      31196\n",
       "Name: last_30_day, dtype: object"
      ]
     },
     "execution_count": 50,
     "metadata": {},
     "output_type": "execute_result"
    }
   ],
   "source": [
    "# get info about the column\n",
    "df_rider['last_30_day'].describe()"
   ]
  },
  {
   "cell_type": "markdown",
   "metadata": {},
   "source": [
    "Having 50000 values is a good start, it means there are no missing values in this column. There are two different values, yes or no, which is correct. And there are more no-es that yes-es, which means there are more users that did not make a trip in the last 30 days than users who did.\n",
    "Let's see how many of each users there are exactly."
   ]
  },
  {
   "cell_type": "code",
   "execution_count": 57,
   "metadata": {},
   "outputs": [
    {
     "data": {
      "text/plain": [
       "no     31196\n",
       "yes    18804\n",
       "Name: last_30_day, dtype: int64"
      ]
     },
     "execution_count": 57,
     "metadata": {},
     "output_type": "execute_result"
    }
   ],
   "source": [
    "# count values in a column\n",
    "df_rider['last_30_day'].value_counts()"
   ]
  },
  {
   "cell_type": "code",
   "execution_count": 62,
   "metadata": {},
   "outputs": [
    {
     "data": {
      "text/plain": [
       "<matplotlib.axes._subplots.AxesSubplot at 0x11a1aae48>"
      ]
     },
     "execution_count": 62,
     "metadata": {},
     "output_type": "execute_result"
    },
    {
     "data": {
      "image/png": "[encoded data removed]",
      "text/plain": [
       "<Figure size 432x288 with 1 Axes>"
      ]
     },
     "metadata": {
      "needs_background": "light"
     },
     "output_type": "display_data"
    }
   ],
   "source": [
    "# plot number of \n",
    "df_rider['last_30_day'].value_counts().plot.barh(title='Number of a retained users', fontsize=14)"
   ]
  },
  {
   "cell_type": "code",
   "execution_count": 357,
   "metadata": {},
   "outputs": [
    {
     "name": "stdout",
     "output_type": "stream",
     "text": [
      "Fraction of the observed users that were retained: 37.608 %.\n"
     ]
    }
   ],
   "source": [
    "# compute percentige\n",
    "tot = len(df_rider['last_30_day'])\n",
    "n = 31196\n",
    "y = 18804\n",
    "\n",
    "n_per = (n*100)/tot\n",
    "y_per = (y*100)/tot\n",
    "print('Fraction of the observed users that were retained:', y_per, '%.')"
   ]
  },
  {
   "cell_type": "markdown",
   "metadata": {},
   "source": []
  },
  {
   "cell_type": "markdown",
   "metadata": {},
   "source": [
    "Build a predictive model to help Ultimate determine whether or not a user will be active in their 6th month on the system. Discuss why you chose your approach, what alternatives you considered, and any concerns you have. How valid is your model? Include any key indicators of model performance."
   ]
  },
  {
   "cell_type": "markdown",
   "metadata": {},
   "source": [
    "Approach:\n",
    "- Create a column 'six_month_active': subtract signup_date from last_trip_date, and check if a user is active in their 6th month since signing up or not\n",
    "- Column 'six_month_active' can have two values: 1-if user is active in their 6th month, 0-if not.\n",
    "- Use correlation matrix to check if there are any relationships between variables, to figure out what might affect activeness in the 6th month.\n",
    "- Use these as features in the model. Since the goal is to determine class (active or not) we can use Random Forest, Logistic regression, LinearSVC."
   ]
  },
  {
   "cell_type": "code",
   "execution_count": 390,
   "metadata": {},
   "outputs": [],
   "source": [
    "# create a column which states if the user was active in the 6th month\n",
    "df_rider['diff_last_trip_signup'] = (pd.to_datetime(df_rider['last_trip_date'])-pd.to_datetime(df_rider['signup_date']))/np.timedelta64(1, 'M')\n",
    "df_rider['active_6th_month'] = np.where(df_rider['diff_last_trip_signup']>5, 1, 0)"
   ]
  },
  {
   "cell_type": "code",
   "execution_count": 526,
   "metadata": {},
   "outputs": [
    {
     "data": {
      "text/html": [
       "<div>\n",
       "<style scoped>\n",
       "    .dataframe tbody tr th:only-of-type {\n",
       "        vertical-align: middle;\n",
       "    }\n",
       "\n",
       "    .dataframe tbody tr th {\n",
       "        vertical-align: top;\n",
       "    }\n",
       "\n",
       "    .dataframe thead th {\n",
       "        text-align: right;\n",
       "    }\n",
       "</style>\n",
       "<table border=\"1\" class=\"dataframe\">\n",
       "  <thead>\n",
       "    <tr style=\"text-align: right;\">\n",
       "      <th></th>\n",
       "      <th>city</th>\n",
       "      <th>trips_in_first_30_days</th>\n",
       "      <th>signup_date</th>\n",
       "      <th>avg_rating_of_driver</th>\n",
       "      <th>avg_surge</th>\n",
       "      <th>last_trip_date</th>\n",
       "      <th>phone</th>\n",
       "      <th>surge_pct</th>\n",
       "      <th>ultimate_black_user</th>\n",
       "      <th>weekday_pct</th>\n",
       "      <th>avg_dist</th>\n",
       "      <th>avg_rating_by_driver</th>\n",
       "      <th>last_30_day</th>\n",
       "      <th>diff_last_trip_signup</th>\n",
       "      <th>active_6th_month</th>\n",
       "    </tr>\n",
       "  </thead>\n",
       "  <tbody>\n",
       "    <tr>\n",
       "      <th>4486</th>\n",
       "      <td>Winterfell</td>\n",
       "      <td>4</td>\n",
       "      <td>2014-01-25</td>\n",
       "      <td>5.0</td>\n",
       "      <td>1.00</td>\n",
       "      <td>2014-07-01</td>\n",
       "      <td>Android</td>\n",
       "      <td>0.0</td>\n",
       "      <td>True</td>\n",
       "      <td>25.0</td>\n",
       "      <td>11.94</td>\n",
       "      <td>5.0</td>\n",
       "      <td>yes</td>\n",
       "      <td>5.158217</td>\n",
       "      <td>1</td>\n",
       "    </tr>\n",
       "    <tr>\n",
       "      <th>43047</th>\n",
       "      <td>King's Landing</td>\n",
       "      <td>1</td>\n",
       "      <td>2014-01-15</td>\n",
       "      <td>5.0</td>\n",
       "      <td>1.01</td>\n",
       "      <td>2014-07-01</td>\n",
       "      <td>iPhone</td>\n",
       "      <td>0.8</td>\n",
       "      <td>True</td>\n",
       "      <td>89.3</td>\n",
       "      <td>5.49</td>\n",
       "      <td>4.7</td>\n",
       "      <td>yes</td>\n",
       "      <td>5.486766</td>\n",
       "      <td>1</td>\n",
       "    </tr>\n",
       "    <tr>\n",
       "      <th>24059</th>\n",
       "      <td>Astapor</td>\n",
       "      <td>1</td>\n",
       "      <td>2014-01-24</td>\n",
       "      <td>4.3</td>\n",
       "      <td>1.11</td>\n",
       "      <td>2014-07-01</td>\n",
       "      <td>iPhone</td>\n",
       "      <td>14.3</td>\n",
       "      <td>False</td>\n",
       "      <td>71.4</td>\n",
       "      <td>8.62</td>\n",
       "      <td>4.9</td>\n",
       "      <td>yes</td>\n",
       "      <td>5.191072</td>\n",
       "      <td>1</td>\n",
       "    </tr>\n",
       "    <tr>\n",
       "      <th>40290</th>\n",
       "      <td>King's Landing</td>\n",
       "      <td>2</td>\n",
       "      <td>2014-01-07</td>\n",
       "      <td>4.9</td>\n",
       "      <td>1.02</td>\n",
       "      <td>2014-07-01</td>\n",
       "      <td>iPhone</td>\n",
       "      <td>1.6</td>\n",
       "      <td>True</td>\n",
       "      <td>95.2</td>\n",
       "      <td>7.51</td>\n",
       "      <td>4.8</td>\n",
       "      <td>yes</td>\n",
       "      <td>5.749605</td>\n",
       "      <td>1</td>\n",
       "    </tr>\n",
       "    <tr>\n",
       "      <th>28689</th>\n",
       "      <td>King's Landing</td>\n",
       "      <td>5</td>\n",
       "      <td>2014-01-16</td>\n",
       "      <td>5.0</td>\n",
       "      <td>1.00</td>\n",
       "      <td>2014-07-01</td>\n",
       "      <td>iPhone</td>\n",
       "      <td>0.0</td>\n",
       "      <td>False</td>\n",
       "      <td>75.0</td>\n",
       "      <td>16.32</td>\n",
       "      <td>5.0</td>\n",
       "      <td>yes</td>\n",
       "      <td>5.453911</td>\n",
       "      <td>1</td>\n",
       "    </tr>\n",
       "  </tbody>\n",
       "</table>\n",
       "</div>"
      ],
      "text/plain": [
       "                 city  trips_in_first_30_days signup_date  \\\n",
       "4486       Winterfell                       4  2014-01-25   \n",
       "43047  King's Landing                       1  2014-01-15   \n",
       "24059         Astapor                       1  2014-01-24   \n",
       "40290  King's Landing                       2  2014-01-07   \n",
       "28689  King's Landing                       5  2014-01-16   \n",
       "\n",
       "       avg_rating_of_driver  avg_surge last_trip_date    phone  surge_pct  \\\n",
       "4486                    5.0       1.00     2014-07-01  Android        0.0   \n",
       "43047                   5.0       1.01     2014-07-01   iPhone        0.8   \n",
       "24059                   4.3       1.11     2014-07-01   iPhone       14.3   \n",
       "40290                   4.9       1.02     2014-07-01   iPhone        1.6   \n",
       "28689                   5.0       1.00     2014-07-01   iPhone        0.0   \n",
       "\n",
       "       ultimate_black_user  weekday_pct  avg_dist  avg_rating_by_driver  \\\n",
       "4486                  True         25.0     11.94                   5.0   \n",
       "43047                 True         89.3      5.49                   4.7   \n",
       "24059                False         71.4      8.62                   4.9   \n",
       "40290                 True         95.2      7.51                   4.8   \n",
       "28689                False         75.0     16.32                   5.0   \n",
       "\n",
       "      last_30_day  diff_last_trip_signup  active_6th_month  \n",
       "4486          yes               5.158217                 1  \n",
       "43047         yes               5.486766                 1  \n",
       "24059         yes               5.191072                 1  \n",
       "40290         yes               5.749605                 1  \n",
       "28689         yes               5.453911                 1  "
      ]
     },
     "execution_count": 526,
     "metadata": {},
     "output_type": "execute_result"
    }
   ],
   "source": [
    "df_rider.head()"
   ]
  },
  {
   "cell_type": "markdown",
   "metadata": {},
   "source": [
    "Since models can deal only with numbers, we can convert categories in some columns into integers. Like yes/no to 1/0."
   ]
  },
  {
   "cell_type": "code",
   "execution_count": 527,
   "metadata": {},
   "outputs": [],
   "source": [
    "# make a copy of the dataframe\n",
    "df_rider_copy = df_rider.copy()"
   ]
  },
  {
   "cell_type": "code",
   "execution_count": 528,
   "metadata": {},
   "outputs": [],
   "source": [
    "# change values from yes to 1 and no to 0\n",
    "df_rider_copy = df_rider_copy.replace({'last_30_day': {'yes': 1, 'no': 0}})"
   ]
  },
  {
   "cell_type": "code",
   "execution_count": 529,
   "metadata": {},
   "outputs": [],
   "source": [
    "# change values from True to 1 and False to 0\n",
    "df_rider_copy['ultimate_black_user'] *= 1"
   ]
  },
  {
   "cell_type": "code",
   "execution_count": 530,
   "metadata": {},
   "outputs": [
    {
     "data": {
      "text/plain": [
       "array(['Android', 'iPhone', None], dtype=object)"
      ]
     },
     "execution_count": 530,
     "metadata": {},
     "output_type": "execute_result"
    }
   ],
   "source": [
    "# check what types of values are in 'phone' column\n",
    "df_rider_copy.phone.unique()"
   ]
  },
  {
   "cell_type": "code",
   "execution_count": 531,
   "metadata": {},
   "outputs": [
    {
     "data": {
      "text/plain": [
       "count      49604\n",
       "unique         2\n",
       "top       iPhone\n",
       "freq       34582\n",
       "Name: phone, dtype: object"
      ]
     },
     "execution_count": 531,
     "metadata": {},
     "output_type": "execute_result"
    }
   ],
   "source": [
    "df_rider_copy.phone.describe()"
   ]
  },
  {
   "cell_type": "code",
   "execution_count": 532,
   "metadata": {},
   "outputs": [
    {
     "data": {
      "text/plain": [
       "iPhone     34582\n",
       "Android    15022\n",
       "Name: phone, dtype: int64"
      ]
     },
     "execution_count": 532,
     "metadata": {},
     "output_type": "execute_result"
    }
   ],
   "source": [
    "# count values in 'phone' column\n",
    "df_rider_copy.phone.value_counts()"
   ]
  },
  {
   "cell_type": "markdown",
   "metadata": {},
   "source": [
    "Seems like iPhone is the most popular mobile type.\n",
    "\n",
    "Let's convert iPhone value to 1 and Android to 0."
   ]
  },
  {
   "cell_type": "code",
   "execution_count": 533,
   "metadata": {},
   "outputs": [],
   "source": [
    "# change values from iPhone to 1 and Android to 0\n",
    "df_rider_copy = df_rider_copy.replace({'phone': {'iPhone': 1, 'Android': 0}})"
   ]
  },
  {
   "cell_type": "code",
   "execution_count": 534,
   "metadata": {},
   "outputs": [
    {
     "data": {
      "text/plain": [
       "1.0    34582\n",
       "0.0    15022\n",
       "Name: phone, dtype: int64"
      ]
     },
     "execution_count": 534,
     "metadata": {},
     "output_type": "execute_result"
    }
   ],
   "source": [
    "# check if the conversion was done correctly\n",
    "df_rider_copy.phone.value_counts()"
   ]
  },
  {
   "cell_type": "code",
   "execution_count": 535,
   "metadata": {},
   "outputs": [
    {
     "data": {
      "text/plain": [
       "Winterfell        23336\n",
       "Astapor           16534\n",
       "King's Landing    10130\n",
       "Name: city, dtype: int64"
      ]
     },
     "execution_count": 535,
     "metadata": {},
     "output_type": "execute_result"
    }
   ],
   "source": [
    "# see what values are in the 'city' column\n",
    "df_rider_copy.city.value_counts()"
   ]
  },
  {
   "cell_type": "markdown",
   "metadata": {},
   "source": [
    "We can convert categorical variable 'city' into dummy variables, one for each city."
   ]
  },
  {
   "cell_type": "code",
   "execution_count": 536,
   "metadata": {},
   "outputs": [],
   "source": [
    "# create dummy variables\n",
    "df_with_dummies = pd.get_dummies(df_rider_copy, prefix='category', columns=['city'])"
   ]
  },
  {
   "cell_type": "code",
   "execution_count": 537,
   "metadata": {},
   "outputs": [
    {
     "data": {
      "text/html": [
       "<div>\n",
       "<style scoped>\n",
       "    .dataframe tbody tr th:only-of-type {\n",
       "        vertical-align: middle;\n",
       "    }\n",
       "\n",
       "    .dataframe tbody tr th {\n",
       "        vertical-align: top;\n",
       "    }\n",
       "\n",
       "    .dataframe thead th {\n",
       "        text-align: right;\n",
       "    }\n",
       "</style>\n",
       "<table border=\"1\" class=\"dataframe\">\n",
       "  <thead>\n",
       "    <tr style=\"text-align: right;\">\n",
       "      <th></th>\n",
       "      <th>trips_in_first_30_days</th>\n",
       "      <th>signup_date</th>\n",
       "      <th>avg_rating_of_driver</th>\n",
       "      <th>avg_surge</th>\n",
       "      <th>last_trip_date</th>\n",
       "      <th>phone</th>\n",
       "      <th>surge_pct</th>\n",
       "      <th>ultimate_black_user</th>\n",
       "      <th>weekday_pct</th>\n",
       "      <th>avg_dist</th>\n",
       "      <th>avg_rating_by_driver</th>\n",
       "      <th>last_30_day</th>\n",
       "      <th>diff_last_trip_signup</th>\n",
       "      <th>active_6th_month</th>\n",
       "      <th>category_Astapor</th>\n",
       "      <th>category_King's Landing</th>\n",
       "      <th>category_Winterfell</th>\n",
       "    </tr>\n",
       "  </thead>\n",
       "  <tbody>\n",
       "    <tr>\n",
       "      <th>4486</th>\n",
       "      <td>4</td>\n",
       "      <td>2014-01-25</td>\n",
       "      <td>5.0</td>\n",
       "      <td>1.00</td>\n",
       "      <td>2014-07-01</td>\n",
       "      <td>0.0</td>\n",
       "      <td>0.0</td>\n",
       "      <td>1</td>\n",
       "      <td>25.0</td>\n",
       "      <td>11.94</td>\n",
       "      <td>5.0</td>\n",
       "      <td>1</td>\n",
       "      <td>5.158217</td>\n",
       "      <td>1</td>\n",
       "      <td>0</td>\n",
       "      <td>0</td>\n",
       "      <td>1</td>\n",
       "    </tr>\n",
       "    <tr>\n",
       "      <th>43047</th>\n",
       "      <td>1</td>\n",
       "      <td>2014-01-15</td>\n",
       "      <td>5.0</td>\n",
       "      <td>1.01</td>\n",
       "      <td>2014-07-01</td>\n",
       "      <td>1.0</td>\n",
       "      <td>0.8</td>\n",
       "      <td>1</td>\n",
       "      <td>89.3</td>\n",
       "      <td>5.49</td>\n",
       "      <td>4.7</td>\n",
       "      <td>1</td>\n",
       "      <td>5.486766</td>\n",
       "      <td>1</td>\n",
       "      <td>0</td>\n",
       "      <td>1</td>\n",
       "      <td>0</td>\n",
       "    </tr>\n",
       "    <tr>\n",
       "      <th>24059</th>\n",
       "      <td>1</td>\n",
       "      <td>2014-01-24</td>\n",
       "      <td>4.3</td>\n",
       "      <td>1.11</td>\n",
       "      <td>2014-07-01</td>\n",
       "      <td>1.0</td>\n",
       "      <td>14.3</td>\n",
       "      <td>0</td>\n",
       "      <td>71.4</td>\n",
       "      <td>8.62</td>\n",
       "      <td>4.9</td>\n",
       "      <td>1</td>\n",
       "      <td>5.191072</td>\n",
       "      <td>1</td>\n",
       "      <td>1</td>\n",
       "      <td>0</td>\n",
       "      <td>0</td>\n",
       "    </tr>\n",
       "    <tr>\n",
       "      <th>40290</th>\n",
       "      <td>2</td>\n",
       "      <td>2014-01-07</td>\n",
       "      <td>4.9</td>\n",
       "      <td>1.02</td>\n",
       "      <td>2014-07-01</td>\n",
       "      <td>1.0</td>\n",
       "      <td>1.6</td>\n",
       "      <td>1</td>\n",
       "      <td>95.2</td>\n",
       "      <td>7.51</td>\n",
       "      <td>4.8</td>\n",
       "      <td>1</td>\n",
       "      <td>5.749605</td>\n",
       "      <td>1</td>\n",
       "      <td>0</td>\n",
       "      <td>1</td>\n",
       "      <td>0</td>\n",
       "    </tr>\n",
       "    <tr>\n",
       "      <th>28689</th>\n",
       "      <td>5</td>\n",
       "      <td>2014-01-16</td>\n",
       "      <td>5.0</td>\n",
       "      <td>1.00</td>\n",
       "      <td>2014-07-01</td>\n",
       "      <td>1.0</td>\n",
       "      <td>0.0</td>\n",
       "      <td>0</td>\n",
       "      <td>75.0</td>\n",
       "      <td>16.32</td>\n",
       "      <td>5.0</td>\n",
       "      <td>1</td>\n",
       "      <td>5.453911</td>\n",
       "      <td>1</td>\n",
       "      <td>0</td>\n",
       "      <td>1</td>\n",
       "      <td>0</td>\n",
       "    </tr>\n",
       "  </tbody>\n",
       "</table>\n",
       "</div>"
      ],
      "text/plain": [
       "       trips_in_first_30_days signup_date  avg_rating_of_driver  avg_surge  \\\n",
       "4486                        4  2014-01-25                   5.0       1.00   \n",
       "43047                       1  2014-01-15                   5.0       1.01   \n",
       "24059                       1  2014-01-24                   4.3       1.11   \n",
       "40290                       2  2014-01-07                   4.9       1.02   \n",
       "28689                       5  2014-01-16                   5.0       1.00   \n",
       "\n",
       "      last_trip_date  phone  surge_pct  ultimate_black_user  weekday_pct  \\\n",
       "4486      2014-07-01    0.0        0.0                    1         25.0   \n",
       "43047     2014-07-01    1.0        0.8                    1         89.3   \n",
       "24059     2014-07-01    1.0       14.3                    0         71.4   \n",
       "40290     2014-07-01    1.0        1.6                    1         95.2   \n",
       "28689     2014-07-01    1.0        0.0                    0         75.0   \n",
       "\n",
       "       avg_dist  avg_rating_by_driver  last_30_day  diff_last_trip_signup  \\\n",
       "4486      11.94                   5.0            1               5.158217   \n",
       "43047      5.49                   4.7            1               5.486766   \n",
       "24059      8.62                   4.9            1               5.191072   \n",
       "40290      7.51                   4.8            1               5.749605   \n",
       "28689     16.32                   5.0            1               5.453911   \n",
       "\n",
       "       active_6th_month  category_Astapor  category_King's Landing  \\\n",
       "4486                  1                 0                        0   \n",
       "43047                 1                 0                        1   \n",
       "24059                 1                 1                        0   \n",
       "40290                 1                 0                        1   \n",
       "28689                 1                 0                        1   \n",
       "\n",
       "       category_Winterfell  \n",
       "4486                     1  \n",
       "43047                    0  \n",
       "24059                    0  \n",
       "40290                    0  \n",
       "28689                    0  "
      ]
     },
     "execution_count": 537,
     "metadata": {},
     "output_type": "execute_result"
    }
   ],
   "source": [
    "df_with_dummies.head()"
   ]
  },
  {
   "cell_type": "markdown",
   "metadata": {},
   "source": [
    "Let's rename King's Landing so it won't cause any problems:"
   ]
  },
  {
   "cell_type": "code",
   "execution_count": 538,
   "metadata": {},
   "outputs": [],
   "source": [
    "df_with_dummies = df_with_dummies.rename(columns={\"category_King's Landing\": \"category_Kings_Landing\"})"
   ]
  },
  {
   "cell_type": "code",
   "execution_count": 539,
   "metadata": {},
   "outputs": [
    {
     "name": "stdout",
     "output_type": "stream",
     "text": [
      "<class 'pandas.core.frame.DataFrame'>\n",
      "Int64Index: 50000 entries, 4486 to 15359\n",
      "Data columns (total 17 columns):\n",
      "trips_in_first_30_days    50000 non-null int64\n",
      "signup_date               50000 non-null datetime64[ns]\n",
      "avg_rating_of_driver      41878 non-null float64\n",
      "avg_surge                 50000 non-null float64\n",
      "last_trip_date            50000 non-null datetime64[ns]\n",
      "phone                     49604 non-null float64\n",
      "surge_pct                 50000 non-null float64\n",
      "ultimate_black_user       50000 non-null int64\n",
      "weekday_pct               50000 non-null float64\n",
      "avg_dist                  50000 non-null float64\n",
      "avg_rating_by_driver      49799 non-null float64\n",
      "last_30_day               50000 non-null int64\n",
      "diff_last_trip_signup     50000 non-null float64\n",
      "active_6th_month          50000 non-null int64\n",
      "category_Astapor          50000 non-null uint8\n",
      "category_Kings_Landing    50000 non-null uint8\n",
      "category_Winterfell       50000 non-null uint8\n",
      "dtypes: datetime64[ns](2), float64(8), int64(4), uint8(3)\n",
      "memory usage: 5.9 MB\n"
     ]
    }
   ],
   "source": [
    "df_with_dummies.info()"
   ]
  },
  {
   "cell_type": "markdown",
   "metadata": {},
   "source": [
    "For now, we are done with conversions. Let's move to the next step, where we check if we can find any correlation between variables."
   ]
  },
  {
   "cell_type": "markdown",
   "metadata": {},
   "source": [
    "But first we let's get a basic summary statistics for each of the columns."
   ]
  },
  {
   "cell_type": "code",
   "execution_count": 407,
   "metadata": {},
   "outputs": [
    {
     "data": {
      "text/html": [
       "<div>\n",
       "<style scoped>\n",
       "    .dataframe tbody tr th:only-of-type {\n",
       "        vertical-align: middle;\n",
       "    }\n",
       "\n",
       "    .dataframe tbody tr th {\n",
       "        vertical-align: top;\n",
       "    }\n",
       "\n",
       "    .dataframe thead th {\n",
       "        text-align: right;\n",
       "    }\n",
       "</style>\n",
       "<table border=\"1\" class=\"dataframe\">\n",
       "  <thead>\n",
       "    <tr style=\"text-align: right;\">\n",
       "      <th></th>\n",
       "      <th>trips_in_first_30_days</th>\n",
       "      <th>avg_rating_of_driver</th>\n",
       "      <th>avg_surge</th>\n",
       "      <th>phone</th>\n",
       "      <th>surge_pct</th>\n",
       "      <th>ultimate_black_user</th>\n",
       "      <th>weekday_pct</th>\n",
       "      <th>avg_dist</th>\n",
       "      <th>avg_rating_by_driver</th>\n",
       "      <th>last_30_day</th>\n",
       "      <th>member_duration</th>\n",
       "      <th>days_last_trip</th>\n",
       "      <th>diff_last_trip_signup</th>\n",
       "      <th>active_6th_month</th>\n",
       "      <th>category_Astapor</th>\n",
       "      <th>category_King's Landing</th>\n",
       "      <th>category_Winterfell</th>\n",
       "    </tr>\n",
       "  </thead>\n",
       "  <tbody>\n",
       "    <tr>\n",
       "      <th>count</th>\n",
       "      <td>50000.000000</td>\n",
       "      <td>41878.000000</td>\n",
       "      <td>50000.000000</td>\n",
       "      <td>49604.000000</td>\n",
       "      <td>50000.000000</td>\n",
       "      <td>50000.00000</td>\n",
       "      <td>50000.000000</td>\n",
       "      <td>50000.000000</td>\n",
       "      <td>49799.000000</td>\n",
       "      <td>50000.000000</td>\n",
       "      <td>50000.000000</td>\n",
       "      <td>50000.000000</td>\n",
       "      <td>50000.000000</td>\n",
       "      <td>50000.000000</td>\n",
       "      <td>50000.000000</td>\n",
       "      <td>50000.000000</td>\n",
       "      <td>50000.000000</td>\n",
       "    </tr>\n",
       "    <tr>\n",
       "      <th>mean</th>\n",
       "      <td>2.278200</td>\n",
       "      <td>4.601559</td>\n",
       "      <td>1.074764</td>\n",
       "      <td>0.697162</td>\n",
       "      <td>8.849536</td>\n",
       "      <td>0.37708</td>\n",
       "      <td>60.926084</td>\n",
       "      <td>5.796827</td>\n",
       "      <td>4.778158</td>\n",
       "      <td>0.376080</td>\n",
       "      <td>92.790100</td>\n",
       "      <td>72.665220</td>\n",
       "      <td>3.048608</td>\n",
       "      <td>0.223880</td>\n",
       "      <td>0.330680</td>\n",
       "      <td>0.202600</td>\n",
       "      <td>0.466720</td>\n",
       "    </tr>\n",
       "    <tr>\n",
       "      <th>std</th>\n",
       "      <td>3.792684</td>\n",
       "      <td>0.617338</td>\n",
       "      <td>0.222336</td>\n",
       "      <td>0.459491</td>\n",
       "      <td>19.958811</td>\n",
       "      <td>0.48466</td>\n",
       "      <td>37.081503</td>\n",
       "      <td>5.707357</td>\n",
       "      <td>0.446652</td>\n",
       "      <td>0.484405</td>\n",
       "      <td>62.129822</td>\n",
       "      <td>61.718985</td>\n",
       "      <td>2.041268</td>\n",
       "      <td>0.416847</td>\n",
       "      <td>0.470463</td>\n",
       "      <td>0.401941</td>\n",
       "      <td>0.498896</td>\n",
       "    </tr>\n",
       "    <tr>\n",
       "      <th>min</th>\n",
       "      <td>0.000000</td>\n",
       "      <td>1.000000</td>\n",
       "      <td>1.000000</td>\n",
       "      <td>0.000000</td>\n",
       "      <td>0.000000</td>\n",
       "      <td>0.00000</td>\n",
       "      <td>0.000000</td>\n",
       "      <td>0.000000</td>\n",
       "      <td>1.000000</td>\n",
       "      <td>0.000000</td>\n",
       "      <td>0.000000</td>\n",
       "      <td>0.000000</td>\n",
       "      <td>0.000000</td>\n",
       "      <td>0.000000</td>\n",
       "      <td>0.000000</td>\n",
       "      <td>0.000000</td>\n",
       "      <td>0.000000</td>\n",
       "    </tr>\n",
       "    <tr>\n",
       "      <th>25%</th>\n",
       "      <td>0.000000</td>\n",
       "      <td>4.300000</td>\n",
       "      <td>1.000000</td>\n",
       "      <td>0.000000</td>\n",
       "      <td>0.000000</td>\n",
       "      <td>0.00000</td>\n",
       "      <td>33.300000</td>\n",
       "      <td>2.420000</td>\n",
       "      <td>4.700000</td>\n",
       "      <td>0.000000</td>\n",
       "      <td>27.000000</td>\n",
       "      <td>13.000000</td>\n",
       "      <td>0.887082</td>\n",
       "      <td>0.000000</td>\n",
       "      <td>0.000000</td>\n",
       "      <td>0.000000</td>\n",
       "      <td>0.000000</td>\n",
       "    </tr>\n",
       "    <tr>\n",
       "      <th>50%</th>\n",
       "      <td>1.000000</td>\n",
       "      <td>4.900000</td>\n",
       "      <td>1.000000</td>\n",
       "      <td>1.000000</td>\n",
       "      <td>0.000000</td>\n",
       "      <td>0.00000</td>\n",
       "      <td>66.700000</td>\n",
       "      <td>3.880000</td>\n",
       "      <td>5.000000</td>\n",
       "      <td>0.000000</td>\n",
       "      <td>110.000000</td>\n",
       "      <td>54.000000</td>\n",
       "      <td>3.614037</td>\n",
       "      <td>0.000000</td>\n",
       "      <td>0.000000</td>\n",
       "      <td>0.000000</td>\n",
       "      <td>0.000000</td>\n",
       "    </tr>\n",
       "    <tr>\n",
       "      <th>75%</th>\n",
       "      <td>3.000000</td>\n",
       "      <td>5.000000</td>\n",
       "      <td>1.050000</td>\n",
       "      <td>1.000000</td>\n",
       "      <td>8.600000</td>\n",
       "      <td>1.00000</td>\n",
       "      <td>100.000000</td>\n",
       "      <td>6.940000</td>\n",
       "      <td>5.000000</td>\n",
       "      <td>1.000000</td>\n",
       "      <td>150.000000</td>\n",
       "      <td>137.000000</td>\n",
       "      <td>4.928233</td>\n",
       "      <td>0.000000</td>\n",
       "      <td>1.000000</td>\n",
       "      <td>0.000000</td>\n",
       "      <td>1.000000</td>\n",
       "    </tr>\n",
       "    <tr>\n",
       "      <th>max</th>\n",
       "      <td>125.000000</td>\n",
       "      <td>5.000000</td>\n",
       "      <td>8.000000</td>\n",
       "      <td>1.000000</td>\n",
       "      <td>100.000000</td>\n",
       "      <td>1.00000</td>\n",
       "      <td>100.000000</td>\n",
       "      <td>160.960000</td>\n",
       "      <td>5.000000</td>\n",
       "      <td>1.000000</td>\n",
       "      <td>181.000000</td>\n",
       "      <td>181.000000</td>\n",
       "      <td>5.946734</td>\n",
       "      <td>1.000000</td>\n",
       "      <td>1.000000</td>\n",
       "      <td>1.000000</td>\n",
       "      <td>1.000000</td>\n",
       "    </tr>\n",
       "  </tbody>\n",
       "</table>\n",
       "</div>"
      ],
      "text/plain": [
       "       trips_in_first_30_days  avg_rating_of_driver     avg_surge  \\\n",
       "count            50000.000000          41878.000000  50000.000000   \n",
       "mean                 2.278200              4.601559      1.074764   \n",
       "std                  3.792684              0.617338      0.222336   \n",
       "min                  0.000000              1.000000      1.000000   \n",
       "25%                  0.000000              4.300000      1.000000   \n",
       "50%                  1.000000              4.900000      1.000000   \n",
       "75%                  3.000000              5.000000      1.050000   \n",
       "max                125.000000              5.000000      8.000000   \n",
       "\n",
       "              phone     surge_pct  ultimate_black_user   weekday_pct  \\\n",
       "count  49604.000000  50000.000000          50000.00000  50000.000000   \n",
       "mean       0.697162      8.849536              0.37708     60.926084   \n",
       "std        0.459491     19.958811              0.48466     37.081503   \n",
       "min        0.000000      0.000000              0.00000      0.000000   \n",
       "25%        0.000000      0.000000              0.00000     33.300000   \n",
       "50%        1.000000      0.000000              0.00000     66.700000   \n",
       "75%        1.000000      8.600000              1.00000    100.000000   \n",
       "max        1.000000    100.000000              1.00000    100.000000   \n",
       "\n",
       "           avg_dist  avg_rating_by_driver   last_30_day  member_duration  \\\n",
       "count  50000.000000          49799.000000  50000.000000     50000.000000   \n",
       "mean       5.796827              4.778158      0.376080        92.790100   \n",
       "std        5.707357              0.446652      0.484405        62.129822   \n",
       "min        0.000000              1.000000      0.000000         0.000000   \n",
       "25%        2.420000              4.700000      0.000000        27.000000   \n",
       "50%        3.880000              5.000000      0.000000       110.000000   \n",
       "75%        6.940000              5.000000      1.000000       150.000000   \n",
       "max      160.960000              5.000000      1.000000       181.000000   \n",
       "\n",
       "       days_last_trip  diff_last_trip_signup  active_6th_month  \\\n",
       "count    50000.000000           50000.000000      50000.000000   \n",
       "mean        72.665220               3.048608          0.223880   \n",
       "std         61.718985               2.041268          0.416847   \n",
       "min          0.000000               0.000000          0.000000   \n",
       "25%         13.000000               0.887082          0.000000   \n",
       "50%         54.000000               3.614037          0.000000   \n",
       "75%        137.000000               4.928233          0.000000   \n",
       "max        181.000000               5.946734          1.000000   \n",
       "\n",
       "       category_Astapor  category_King's Landing  category_Winterfell  \n",
       "count      50000.000000             50000.000000         50000.000000  \n",
       "mean           0.330680                 0.202600             0.466720  \n",
       "std            0.470463                 0.401941             0.498896  \n",
       "min            0.000000                 0.000000             0.000000  \n",
       "25%            0.000000                 0.000000             0.000000  \n",
       "50%            0.000000                 0.000000             0.000000  \n",
       "75%            1.000000                 0.000000             1.000000  \n",
       "max            1.000000                 1.000000             1.000000  "
      ]
     },
     "execution_count": 407,
     "metadata": {},
     "output_type": "execute_result"
    }
   ],
   "source": [
    "df_with_dummies.describe()"
   ]
  },
  {
   "cell_type": "code",
   "execution_count": 540,
   "metadata": {},
   "outputs": [
    {
     "data": {
      "text/plain": [
       "<matplotlib.axes._subplots.AxesSubplot at 0x1a2b0275c0>"
      ]
     },
     "execution_count": 540,
     "metadata": {},
     "output_type": "execute_result"
    },
    {
     "data": {
      "image/png": "[encoded data removed]",
      "text/plain": [
       "<Figure size 648x576 with 2 Axes>"
      ]
     },
     "metadata": {},
     "output_type": "display_data"
    }
   ],
   "source": [
    "# correlation Matrix for all variables\n",
    "corrmat_dum = df_with_dummies.corr()   \n",
    "f, ax = plt.subplots(figsize =(9, 8)) \n",
    "sns.heatmap(corrmat_dum, ax = ax, cmap =\"YlGnBu\", linewidths = 0.1)"
   ]
  },
  {
   "cell_type": "markdown",
   "metadata": {},
   "source": [
    "From the correlation matrix we notice that there are a few strong correlations. Last_30_day (active users) and diff_last_trip_signup are strongly correlated with users active in the 6th month, which makes sense because all are calculated from last_trip_date or/and signup_date. For this reason we won't include these variables in models. Another correlation is between avg_surge and surge_pct, but we are not interested in this one."
   ]
  },
  {
   "cell_type": "code",
   "execution_count": 541,
   "metadata": {},
   "outputs": [
    {
     "data": {
      "text/plain": [
       "active_6th_month          1.000000\n",
       "last_30_day               0.691779\n",
       "diff_last_trip_signup     0.610992\n",
       "trips_in_first_30_days    0.200563\n",
       "phone                     0.170201\n",
       "category_Kings_Landing    0.166057\n",
       "ultimate_black_user       0.154334\n",
       "surge_pct                 0.018170\n",
       "avg_surge                 0.007247\n",
       "weekday_pct               0.001407\n",
       "avg_rating_of_driver     -0.007815\n",
       "category_Winterfell      -0.015240\n",
       "avg_rating_by_driver     -0.021244\n",
       "avg_dist                 -0.089616\n",
       "category_Astapor         -0.125710\n",
       "Name: active_6th_month, dtype: float64"
      ]
     },
     "execution_count": 541,
     "metadata": {},
     "output_type": "execute_result"
    }
   ],
   "source": [
    "# correlation of valiables with 'active' user\n",
    "corrmat_dum['active_6th_month'].sort_values(ascending=False)"
   ]
  },
  {
   "cell_type": "markdown",
   "metadata": {},
   "source": [
    "If we exclude variables mentioned above, it seems that trips_in_first_30_days might be the most important feature that affects activeness of a user in their 6th month."
   ]
  },
  {
   "cell_type": "code",
   "execution_count": 413,
   "metadata": {},
   "outputs": [
    {
     "name": "stdout",
     "output_type": "stream",
     "text": [
      "<class 'pandas.core.frame.DataFrame'>\n",
      "Int64Index: 50000 entries, 4486 to 15359\n",
      "Data columns (total 19 columns):\n",
      "trips_in_first_30_days    50000 non-null int64\n",
      "signup_date               50000 non-null datetime64[ns]\n",
      "avg_rating_of_driver      41878 non-null float64\n",
      "avg_surge                 50000 non-null float64\n",
      "last_trip_date            50000 non-null datetime64[ns]\n",
      "phone                     49604 non-null float64\n",
      "surge_pct                 50000 non-null float64\n",
      "ultimate_black_user       50000 non-null int64\n",
      "weekday_pct               50000 non-null float64\n",
      "avg_dist                  50000 non-null float64\n",
      "avg_rating_by_driver      49799 non-null float64\n",
      "last_30_day               50000 non-null int64\n",
      "member_duration           50000 non-null int64\n",
      "days_last_trip            50000 non-null int64\n",
      "diff_last_trip_signup     50000 non-null float64\n",
      "active_6th_month          50000 non-null int64\n",
      "category_Astapor          50000 non-null uint8\n",
      "category_Kings_Landing    50000 non-null uint8\n",
      "category_Winterfell       50000 non-null uint8\n",
      "dtypes: datetime64[ns](2), float64(8), int64(6), uint8(3)\n",
      "memory usage: 6.6 MB\n"
     ]
    }
   ],
   "source": [
    "# get information about the dataframe\n",
    "df_with_dummies.info()"
   ]
  },
  {
   "cell_type": "code",
   "execution_count": null,
   "metadata": {},
   "outputs": [],
   "source": []
  },
  {
   "cell_type": "markdown",
   "metadata": {},
   "source": [
    "### Instead of filling out the empty rows with average values of a specific column, we are going to eliminate all empty rows, to get results from real entries and not based on generic values."
   ]
  },
  {
   "cell_type": "code",
   "execution_count": 414,
   "metadata": {},
   "outputs": [],
   "source": [
    "# drop all rows that are empty\n",
    "df_with_dummies_non_null = df_with_dummies.dropna(subset=['avg_rating_of_driver', 'phone', 'avg_rating_by_driver'])"
   ]
  },
  {
   "cell_type": "code",
   "execution_count": 415,
   "metadata": {},
   "outputs": [
    {
     "name": "stdout",
     "output_type": "stream",
     "text": [
      "<class 'pandas.core.frame.DataFrame'>\n",
      "Int64Index: 41445 entries, 4486 to 15359\n",
      "Data columns (total 19 columns):\n",
      "trips_in_first_30_days    41445 non-null int64\n",
      "signup_date               41445 non-null datetime64[ns]\n",
      "avg_rating_of_driver      41445 non-null float64\n",
      "avg_surge                 41445 non-null float64\n",
      "last_trip_date            41445 non-null datetime64[ns]\n",
      "phone                     41445 non-null float64\n",
      "surge_pct                 41445 non-null float64\n",
      "ultimate_black_user       41445 non-null int64\n",
      "weekday_pct               41445 non-null float64\n",
      "avg_dist                  41445 non-null float64\n",
      "avg_rating_by_driver      41445 non-null float64\n",
      "last_30_day               41445 non-null int64\n",
      "member_duration           41445 non-null int64\n",
      "days_last_trip            41445 non-null int64\n",
      "diff_last_trip_signup     41445 non-null float64\n",
      "active_6th_month          41445 non-null int64\n",
      "category_Astapor          41445 non-null uint8\n",
      "category_Kings_Landing    41445 non-null uint8\n",
      "category_Winterfell       41445 non-null uint8\n",
      "dtypes: datetime64[ns](2), float64(8), int64(6), uint8(3)\n",
      "memory usage: 5.5 MB\n"
     ]
    }
   ],
   "source": [
    "df_with_dummies_non_null.info()"
   ]
  },
  {
   "cell_type": "code",
   "execution_count": 416,
   "metadata": {},
   "outputs": [
    {
     "name": "stderr",
     "output_type": "stream",
     "text": [
      "/anaconda3/envs/statenv/lib/python3.6/site-packages/pandas/core/generic.py:5209: SettingWithCopyWarning: \n",
      "A value is trying to be set on a copy of a slice from a DataFrame.\n",
      "Try using .loc[row_indexer,col_indexer] = value instead\n",
      "\n",
      "See the caveats in the documentation: http://pandas.pydata.org/pandas-docs/stable/user_guide/indexing.html#returning-a-view-versus-a-copy\n",
      "  self[name] = value\n"
     ]
    }
   ],
   "source": [
    "# change float type into integer\n",
    "df_with_dummies_non_null.phone = df_with_dummies_non_null.phone.astype(int)"
   ]
  },
  {
   "cell_type": "markdown",
   "metadata": {},
   "source": []
  },
  {
   "cell_type": "markdown",
   "metadata": {},
   "source": [
    "First, we will create a simple model with just one independent variable 'trips_in_first_30_days' and our dependent variable 'active_6th_month'."
   ]
  },
  {
   "cell_type": "code",
   "execution_count": 417,
   "metadata": {},
   "outputs": [],
   "source": [
    "df_with_dummies_non_null_1 = df_with_dummies_non_null[['active_6th_month', 'trips_in_first_30_days']]"
   ]
  },
  {
   "cell_type": "code",
   "execution_count": 418,
   "metadata": {},
   "outputs": [],
   "source": [
    "# labels are the values we want to predict\n",
    "labels_1 = np.array(df_with_dummies_non_null_1['active_6th_month']) \n",
    "\n",
    "# remove the labels from the features\n",
    "# axis 1 refers to the columns\n",
    "features_1 = df_with_dummies_non_null_1[['trips_in_first_30_days']]\n",
    "\n",
    "# saving feature names for later use\n",
    "feature_list_1 = list(features_1.columns) \n",
    "\n",
    "# convert to numpy array\n",
    "features_1 = np.array(features_1)"
   ]
  },
  {
   "cell_type": "code",
   "execution_count": null,
   "metadata": {},
   "outputs": [],
   "source": [
    "We will do a cross validation on selected classifiers to see which perform the best. "
   ]
  },
  {
   "cell_type": "code",
   "execution_count": 419,
   "metadata": {},
   "outputs": [
    {
     "name": "stderr",
     "output_type": "stream",
     "text": [
      "/anaconda3/envs/statenv/lib/python3.6/site-packages/sklearn/ensemble/forest.py:245: FutureWarning: The default value of n_estimators will change from 10 in version 0.20 to 100 in 0.22.\n",
      "  \"10 in version 0.20 to 100 in 0.22.\", FutureWarning)\n",
      "/anaconda3/envs/statenv/lib/python3.6/site-packages/sklearn/ensemble/forest.py:245: FutureWarning: The default value of n_estimators will change from 10 in version 0.20 to 100 in 0.22.\n",
      "  \"10 in version 0.20 to 100 in 0.22.\", FutureWarning)\n",
      "/anaconda3/envs/statenv/lib/python3.6/site-packages/sklearn/ensemble/forest.py:245: FutureWarning: The default value of n_estimators will change from 10 in version 0.20 to 100 in 0.22.\n",
      "  \"10 in version 0.20 to 100 in 0.22.\", FutureWarning)\n",
      "/anaconda3/envs/statenv/lib/python3.6/site-packages/sklearn/ensemble/forest.py:245: FutureWarning: The default value of n_estimators will change from 10 in version 0.20 to 100 in 0.22.\n",
      "  \"10 in version 0.20 to 100 in 0.22.\", FutureWarning)\n",
      "/anaconda3/envs/statenv/lib/python3.6/site-packages/sklearn/ensemble/forest.py:245: FutureWarning: The default value of n_estimators will change from 10 in version 0.20 to 100 in 0.22.\n",
      "  \"10 in version 0.20 to 100 in 0.22.\", FutureWarning)\n",
      "/anaconda3/envs/statenv/lib/python3.6/site-packages/sklearn/svm/base.py:929: ConvergenceWarning: Liblinear failed to converge, increase the number of iterations.\n",
      "  \"the number of iterations.\", ConvergenceWarning)\n",
      "/anaconda3/envs/statenv/lib/python3.6/site-packages/sklearn/svm/base.py:929: ConvergenceWarning: Liblinear failed to converge, increase the number of iterations.\n",
      "  \"the number of iterations.\", ConvergenceWarning)\n",
      "/anaconda3/envs/statenv/lib/python3.6/site-packages/sklearn/svm/base.py:929: ConvergenceWarning: Liblinear failed to converge, increase the number of iterations.\n",
      "  \"the number of iterations.\", ConvergenceWarning)\n",
      "/anaconda3/envs/statenv/lib/python3.6/site-packages/sklearn/svm/base.py:929: ConvergenceWarning: Liblinear failed to converge, increase the number of iterations.\n",
      "  \"the number of iterations.\", ConvergenceWarning)\n",
      "/anaconda3/envs/statenv/lib/python3.6/site-packages/sklearn/svm/base.py:929: ConvergenceWarning: Liblinear failed to converge, increase the number of iterations.\n",
      "  \"the number of iterations.\", ConvergenceWarning)\n",
      "/anaconda3/envs/statenv/lib/python3.6/site-packages/sklearn/linear_model/logistic.py:432: FutureWarning: Default solver will be changed to 'lbfgs' in 0.22. Specify a solver to silence this warning.\n",
      "  FutureWarning)\n",
      "/anaconda3/envs/statenv/lib/python3.6/site-packages/sklearn/linear_model/logistic.py:432: FutureWarning: Default solver will be changed to 'lbfgs' in 0.22. Specify a solver to silence this warning.\n",
      "  FutureWarning)\n",
      "/anaconda3/envs/statenv/lib/python3.6/site-packages/sklearn/linear_model/logistic.py:432: FutureWarning: Default solver will be changed to 'lbfgs' in 0.22. Specify a solver to silence this warning.\n",
      "  FutureWarning)\n",
      "/anaconda3/envs/statenv/lib/python3.6/site-packages/sklearn/linear_model/logistic.py:432: FutureWarning: Default solver will be changed to 'lbfgs' in 0.22. Specify a solver to silence this warning.\n",
      "  FutureWarning)\n",
      "/anaconda3/envs/statenv/lib/python3.6/site-packages/sklearn/linear_model/logistic.py:432: FutureWarning: Default solver will be changed to 'lbfgs' in 0.22. Specify a solver to silence this warning.\n",
      "  FutureWarning)\n"
     ]
    }
   ],
   "source": [
    "# cros validate selected classifiers\n",
    "np.random.seed(42)\n",
    "models = [\n",
    "    RandomForestClassifier(),\n",
    "    LinearSVC(),\n",
    "    LogisticRegression(),\n",
    "]\n",
    "\n",
    "CV = 5\n",
    "cv_df = pd.DataFrame(index=range(CV * len(models)))\n",
    "entries = []\n",
    "for model in models:\n",
    "    model_name = model.__class__.__name__\n",
    "    auc_Xt = cross_val_score(model, features_1, labels_1, scoring='roc_auc', cv=CV)\n",
    "    for fold_idx, auc in enumerate(auc_Xt):\n",
    "        entries.append((model_name, fold_idx, auc))\n",
    "cv_df = pd.DataFrame(entries, columns=['model_name', 'fold_idx', 'roc_auc'])"
   ]
  },
  {
   "cell_type": "code",
   "execution_count": 420,
   "metadata": {},
   "outputs": [
    {
     "data": {
      "text/html": [
       "<div>\n",
       "<style scoped>\n",
       "    .dataframe tbody tr th:only-of-type {\n",
       "        vertical-align: middle;\n",
       "    }\n",
       "\n",
       "    .dataframe tbody tr th {\n",
       "        vertical-align: top;\n",
       "    }\n",
       "\n",
       "    .dataframe thead th {\n",
       "        text-align: right;\n",
       "    }\n",
       "</style>\n",
       "<table border=\"1\" class=\"dataframe\">\n",
       "  <thead>\n",
       "    <tr style=\"text-align: right;\">\n",
       "      <th></th>\n",
       "      <th>model_name</th>\n",
       "      <th>fold_idx</th>\n",
       "      <th>roc_auc</th>\n",
       "    </tr>\n",
       "  </thead>\n",
       "  <tbody>\n",
       "    <tr>\n",
       "      <th>0</th>\n",
       "      <td>RandomForestClassifier</td>\n",
       "      <td>0</td>\n",
       "      <td>0.604725</td>\n",
       "    </tr>\n",
       "    <tr>\n",
       "      <th>1</th>\n",
       "      <td>RandomForestClassifier</td>\n",
       "      <td>1</td>\n",
       "      <td>0.595984</td>\n",
       "    </tr>\n",
       "    <tr>\n",
       "      <th>2</th>\n",
       "      <td>RandomForestClassifier</td>\n",
       "      <td>2</td>\n",
       "      <td>0.560889</td>\n",
       "    </tr>\n",
       "    <tr>\n",
       "      <th>3</th>\n",
       "      <td>RandomForestClassifier</td>\n",
       "      <td>3</td>\n",
       "      <td>0.581239</td>\n",
       "    </tr>\n",
       "    <tr>\n",
       "      <th>4</th>\n",
       "      <td>RandomForestClassifier</td>\n",
       "      <td>4</td>\n",
       "      <td>0.487582</td>\n",
       "    </tr>\n",
       "    <tr>\n",
       "      <th>5</th>\n",
       "      <td>LinearSVC</td>\n",
       "      <td>0</td>\n",
       "      <td>0.615219</td>\n",
       "    </tr>\n",
       "    <tr>\n",
       "      <th>6</th>\n",
       "      <td>LinearSVC</td>\n",
       "      <td>1</td>\n",
       "      <td>0.654760</td>\n",
       "    </tr>\n",
       "    <tr>\n",
       "      <th>7</th>\n",
       "      <td>LinearSVC</td>\n",
       "      <td>2</td>\n",
       "      <td>0.687810</td>\n",
       "    </tr>\n",
       "    <tr>\n",
       "      <th>8</th>\n",
       "      <td>LinearSVC</td>\n",
       "      <td>3</td>\n",
       "      <td>0.546509</td>\n",
       "    </tr>\n",
       "    <tr>\n",
       "      <th>9</th>\n",
       "      <td>LinearSVC</td>\n",
       "      <td>4</td>\n",
       "      <td>0.487726</td>\n",
       "    </tr>\n",
       "    <tr>\n",
       "      <th>10</th>\n",
       "      <td>LogisticRegression</td>\n",
       "      <td>0</td>\n",
       "      <td>0.615219</td>\n",
       "    </tr>\n",
       "    <tr>\n",
       "      <th>11</th>\n",
       "      <td>LogisticRegression</td>\n",
       "      <td>1</td>\n",
       "      <td>0.654760</td>\n",
       "    </tr>\n",
       "    <tr>\n",
       "      <th>12</th>\n",
       "      <td>LogisticRegression</td>\n",
       "      <td>2</td>\n",
       "      <td>0.687810</td>\n",
       "    </tr>\n",
       "    <tr>\n",
       "      <th>13</th>\n",
       "      <td>LogisticRegression</td>\n",
       "      <td>3</td>\n",
       "      <td>0.546509</td>\n",
       "    </tr>\n",
       "    <tr>\n",
       "      <th>14</th>\n",
       "      <td>LogisticRegression</td>\n",
       "      <td>4</td>\n",
       "      <td>0.487726</td>\n",
       "    </tr>\n",
       "  </tbody>\n",
       "</table>\n",
       "</div>"
      ],
      "text/plain": [
       "                model_name  fold_idx   roc_auc\n",
       "0   RandomForestClassifier         0  0.604725\n",
       "1   RandomForestClassifier         1  0.595984\n",
       "2   RandomForestClassifier         2  0.560889\n",
       "3   RandomForestClassifier         3  0.581239\n",
       "4   RandomForestClassifier         4  0.487582\n",
       "5                LinearSVC         0  0.615219\n",
       "6                LinearSVC         1  0.654760\n",
       "7                LinearSVC         2  0.687810\n",
       "8                LinearSVC         3  0.546509\n",
       "9                LinearSVC         4  0.487726\n",
       "10      LogisticRegression         0  0.615219\n",
       "11      LogisticRegression         1  0.654760\n",
       "12      LogisticRegression         2  0.687810\n",
       "13      LogisticRegression         3  0.546509\n",
       "14      LogisticRegression         4  0.487726"
      ]
     },
     "execution_count": 420,
     "metadata": {},
     "output_type": "execute_result"
    }
   ],
   "source": [
    "# print the scoring dataframe with results\n",
    "cv_df"
   ]
  },
  {
   "cell_type": "markdown",
   "metadata": {},
   "source": [
    "It is interesting to see that LineraSVC and Logistic Refression performed the same.\n",
    "\n",
    "Let's try it with a train/test split method."
   ]
  },
  {
   "cell_type": "code",
   "execution_count": 421,
   "metadata": {},
   "outputs": [],
   "source": [
    "# split dataset into training set and test set, 70% training and 30% test\n",
    "X_train_1, X_test_1, y_train_1, y_test_1 = train_test_split(features_1, labels_1, test_size=0.3, random_state=42)"
   ]
  },
  {
   "cell_type": "code",
   "execution_count": 422,
   "metadata": {},
   "outputs": [
    {
     "name": "stderr",
     "output_type": "stream",
     "text": [
      "/anaconda3/envs/statenv/lib/python3.6/site-packages/sklearn/ensemble/forest.py:245: FutureWarning: The default value of n_estimators will change from 10 in version 0.20 to 100 in 0.22.\n",
      "  \"10 in version 0.20 to 100 in 0.22.\", FutureWarning)\n"
     ]
    },
    {
     "data": {
      "text/plain": [
       "RandomForestClassifier(bootstrap=True, class_weight=None, criterion='gini',\n",
       "                       max_depth=None, max_features='auto', max_leaf_nodes=None,\n",
       "                       min_impurity_decrease=0.0, min_impurity_split=None,\n",
       "                       min_samples_leaf=1, min_samples_split=2,\n",
       "                       min_weight_fraction_leaf=0.0, n_estimators=10,\n",
       "                       n_jobs=None, oob_score=False, random_state=None,\n",
       "                       verbose=0, warm_start=False)"
      ]
     },
     "execution_count": 422,
     "metadata": {},
     "output_type": "execute_result"
    }
   ],
   "source": [
    "# instantiate model \n",
    "rand_forest_1 = RandomForestClassifier()\n",
    "\n",
    "# train the model on training data\n",
    "rand_forest_1.fit(X_train_1, y_train_1)"
   ]
  },
  {
   "cell_type": "code",
   "execution_count": 423,
   "metadata": {},
   "outputs": [],
   "source": [
    "# use the forest's predict method on the test data\n",
    "rf_pred_1 = rand_forest_1.predict(X_test_1)"
   ]
  },
  {
   "cell_type": "code",
   "execution_count": 424,
   "metadata": {},
   "outputs": [
    {
     "name": "stdout",
     "output_type": "stream",
     "text": [
      "ROC AUC score:  0.5214940440891814\n"
     ]
    }
   ],
   "source": [
    "# calculate ROC AUC from prediction scores\n",
    "print('ROC AUC score: ', metrics.roc_auc_score(y_test_1, rf_pred_1))"
   ]
  },
  {
   "cell_type": "code",
   "execution_count": 425,
   "metadata": {},
   "outputs": [
    {
     "name": "stdout",
     "output_type": "stream",
     "text": [
      "f1_score:  0.11483253588516747\n"
     ]
    }
   ],
   "source": [
    "# calculate F1 score from prediction scores\n",
    "print('f1_score: ', metrics.f1_score(y_test_1, rf_pred_1))"
   ]
  },
  {
   "cell_type": "code",
   "execution_count": 426,
   "metadata": {},
   "outputs": [
    {
     "name": "stdout",
     "output_type": "stream",
     "text": [
      "[[9085  203]\n",
      " [2942  204]]\n"
     ]
    }
   ],
   "source": [
    "# print confusion matrix\n",
    "print(metrics.confusion_matrix(y_test_1, rf_pred_1))"
   ]
  },
  {
   "cell_type": "code",
   "execution_count": 211,
   "metadata": {},
   "outputs": [],
   "source": [
    "from sklearn.metrics import roc_auc_score\n",
    "from sklearn.metrics import accuracy_score\n",
    "from sklearn.metrics import f1_score"
   ]
  },
  {
   "cell_type": "code",
   "execution_count": 429,
   "metadata": {},
   "outputs": [],
   "source": [
    "def cv_score(clf, x, y, score_func=roc_auc_score):\n",
    "    result = 0\n",
    "    nfold = 5\n",
    "    for train, test in KFold(nfold).split(x): # split data into train/test groups, 5 times\n",
    "        clf.fit(x[train], y[train]) # fit\n",
    "        result += score_func(y[test], clf.predict(x[test])) # evaluate score function on held-out data\n",
    "    return result / nfold # average"
   ]
  },
  {
   "cell_type": "code",
   "execution_count": 430,
   "metadata": {},
   "outputs": [
    {
     "name": "stdout",
     "output_type": "stream",
     "text": [
      "0.5268021688766206\n"
     ]
    }
   ],
   "source": [
    "score_rd1 = cv_score(rand_forest_1, X_train_1, y_train_1)\n",
    "print(score_rd1)"
   ]
  },
  {
   "cell_type": "code",
   "execution_count": 431,
   "metadata": {},
   "outputs": [
    {
     "name": "stdout",
     "output_type": "stream",
     "text": [
      "0.5223319283024066\n"
     ]
    }
   ],
   "source": [
    "clf_log1 = LogisticRegression(solver='lbfgs')\n",
    "score_log1 = cv_score(clf_log1, X_train_1, y_train_1)\n",
    "print(score_log1)"
   ]
  },
  {
   "cell_type": "code",
   "execution_count": 433,
   "metadata": {},
   "outputs": [
    {
     "name": "stderr",
     "output_type": "stream",
     "text": [
      "/anaconda3/envs/statenv/lib/python3.6/site-packages/sklearn/svm/base.py:929: ConvergenceWarning: Liblinear failed to converge, increase the number of iterations.\n",
      "  \"the number of iterations.\", ConvergenceWarning)\n",
      "/anaconda3/envs/statenv/lib/python3.6/site-packages/sklearn/svm/base.py:929: ConvergenceWarning: Liblinear failed to converge, increase the number of iterations.\n",
      "  \"the number of iterations.\", ConvergenceWarning)\n",
      "/anaconda3/envs/statenv/lib/python3.6/site-packages/sklearn/svm/base.py:929: ConvergenceWarning: Liblinear failed to converge, increase the number of iterations.\n",
      "  \"the number of iterations.\", ConvergenceWarning)\n",
      "/anaconda3/envs/statenv/lib/python3.6/site-packages/sklearn/svm/base.py:929: ConvergenceWarning: Liblinear failed to converge, increase the number of iterations.\n",
      "  \"the number of iterations.\", ConvergenceWarning)\n"
     ]
    },
    {
     "name": "stdout",
     "output_type": "stream",
     "text": [
      "0.5228344147321589\n"
     ]
    },
    {
     "name": "stderr",
     "output_type": "stream",
     "text": [
      "/anaconda3/envs/statenv/lib/python3.6/site-packages/sklearn/svm/base.py:929: ConvergenceWarning: Liblinear failed to converge, increase the number of iterations.\n",
      "  \"the number of iterations.\", ConvergenceWarning)\n"
     ]
    }
   ],
   "source": [
    "clf_lin1 = LinearSVC(max_iter=1000)\n",
    "score_lin1 = cv_score(clf_lin1, X_train_1, y_train_1)\n",
    "print(score_lin1)"
   ]
  },
  {
   "cell_type": "markdown",
   "metadata": {},
   "source": [
    "In this first round, while using only 'trips_in_first_30_days' as independent variable, LinearSVC performed slightly better than the Logistic Regression classifier or Random ForestClassifier."
   ]
  },
  {
   "cell_type": "markdown",
   "metadata": {},
   "source": [
    "Let's include more features:"
   ]
  },
  {
   "cell_type": "code",
   "execution_count": 434,
   "metadata": {},
   "outputs": [],
   "source": [
    "df_with_dummies_non_null_2 = df_with_dummies_non_null[['active_6th_month', 'trips_in_first_30_days', 'phone', 'ultimate_black_user']]"
   ]
  },
  {
   "cell_type": "code",
   "execution_count": 435,
   "metadata": {},
   "outputs": [],
   "source": [
    "# labels are the values we want to predict\n",
    "labels_2 = np.array(df_with_dummies_non_null_2['active_6th_month']) \n",
    "\n",
    "# remove the labels from the features\n",
    "# axis 1 refers to the columns\n",
    "features_2 = df_with_dummies_non_null_2.drop('active_6th_month', axis=1)\n",
    "\n",
    "# saving feature names for later use\n",
    "feature_list_2 = list(features_2.columns) \n",
    "\n",
    "# convert to numpy array\n",
    "features_2 = np.array(features_2)"
   ]
  },
  {
   "cell_type": "code",
   "execution_count": 436,
   "metadata": {},
   "outputs": [],
   "source": [
    "# split dataset into training set and test set, 70% training and 30% test\n",
    "X_train_2, X_test_2, y_train_2, y_test_2 = train_test_split(features_2, labels_2, test_size=0.3, random_state=42)"
   ]
  },
  {
   "cell_type": "code",
   "execution_count": 437,
   "metadata": {},
   "outputs": [
    {
     "name": "stderr",
     "output_type": "stream",
     "text": [
      "/anaconda3/envs/statenv/lib/python3.6/site-packages/sklearn/ensemble/forest.py:245: FutureWarning: The default value of n_estimators will change from 10 in version 0.20 to 100 in 0.22.\n",
      "  \"10 in version 0.20 to 100 in 0.22.\", FutureWarning)\n"
     ]
    },
    {
     "data": {
      "text/plain": [
       "RandomForestClassifier(bootstrap=True, class_weight=None, criterion='gini',\n",
       "                       max_depth=None, max_features='auto', max_leaf_nodes=None,\n",
       "                       min_impurity_decrease=0.0, min_impurity_split=None,\n",
       "                       min_samples_leaf=1, min_samples_split=2,\n",
       "                       min_weight_fraction_leaf=0.0, n_estimators=10,\n",
       "                       n_jobs=None, oob_score=False, random_state=None,\n",
       "                       verbose=0, warm_start=False)"
      ]
     },
     "execution_count": 437,
     "metadata": {},
     "output_type": "execute_result"
    }
   ],
   "source": [
    "# instantiate model \n",
    "rand_forest_2 = RandomForestClassifier()\n",
    "\n",
    "# train the model on training data\n",
    "rand_forest_2.fit(X_train_2, y_train_2)"
   ]
  },
  {
   "cell_type": "code",
   "execution_count": 438,
   "metadata": {},
   "outputs": [],
   "source": [
    "# use the forest's predict method on the test data\n",
    "rf_pred_2 = rand_forest_2.predict(X_test_2)"
   ]
  },
  {
   "cell_type": "code",
   "execution_count": 439,
   "metadata": {},
   "outputs": [
    {
     "name": "stdout",
     "output_type": "stream",
     "text": [
      "f1_score:  0.18763213530655393\n"
     ]
    }
   ],
   "source": [
    "# calculate F1 score from prediction scores\n",
    "print('f1_score: ', metrics.f1_score(y_test_2, rf_pred_2))"
   ]
  },
  {
   "cell_type": "code",
   "execution_count": 440,
   "metadata": {},
   "outputs": [
    {
     "name": "stdout",
     "output_type": "stream",
     "text": [
      "accuracy_score:  0.7527746501528069\n"
     ]
    }
   ],
   "source": [
    "# calculate accuracy score\n",
    "print('accuracy_score: ', metrics.accuracy_score(y_test_2, rf_pred_2))"
   ]
  },
  {
   "cell_type": "code",
   "execution_count": 497,
   "metadata": {},
   "outputs": [
    {
     "name": "stdout",
     "output_type": "stream",
     "text": [
      "roc_auc_score: 0.5455046471854088\n"
     ]
    }
   ],
   "source": [
    "# calculate the roc_auc score\n",
    "score_rd2 = cv_score(rand_forest_2, X_train_2, y_train_2)\n",
    "print('roc_auc_score:', score_rd2)"
   ]
  },
  {
   "cell_type": "code",
   "execution_count": 442,
   "metadata": {},
   "outputs": [
    {
     "data": {
      "text/plain": [
       "trips_in_first_30_days    0.508563\n",
       "phone                     0.287183\n",
       "ultimate_black_user       0.204254\n",
       "dtype: float64"
      ]
     },
     "execution_count": 442,
     "metadata": {},
     "output_type": "execute_result"
    }
   ],
   "source": [
    "# create pandas Searies from feature importance\n",
    "feature_imp_rf2 = pd.Series(rand_forest_2.feature_importances_, index=feature_list_2).sort_values(ascending=False)\n",
    "feature_imp_rf2"
   ]
  },
  {
   "cell_type": "code",
   "execution_count": 443,
   "metadata": {},
   "outputs": [
    {
     "name": "stdout",
     "output_type": "stream",
     "text": [
      "0.533524665016652\n"
     ]
    }
   ],
   "source": [
    "# use Logistic Regression classifier and calculate the roc_auc score\n",
    "clf_log2 = LogisticRegression(solver='lbfgs')\n",
    "score_log2 = cv_score(clf_log2, X_train_2, y_train_2)\n",
    "print(score_log2)"
   ]
  },
  {
   "cell_type": "code",
   "execution_count": 444,
   "metadata": {},
   "outputs": [
    {
     "data": {
      "text/plain": [
       "phone                     0.967429\n",
       "ultimate_black_user       0.624522\n",
       "trips_in_first_30_days    0.090159\n",
       "dtype: float64"
      ]
     },
     "execution_count": 444,
     "metadata": {},
     "output_type": "execute_result"
    }
   ],
   "source": [
    "# create pandas Searies from feature importance\n",
    "feature_imp_log2 = pd.Series(clf_log2.coef_[0], index=feature_list_2).sort_values(ascending=False)\n",
    "feature_imp_log2"
   ]
  },
  {
   "cell_type": "code",
   "execution_count": 447,
   "metadata": {},
   "outputs": [
    {
     "name": "stderr",
     "output_type": "stream",
     "text": [
      "/anaconda3/envs/statenv/lib/python3.6/site-packages/sklearn/svm/base.py:929: ConvergenceWarning: Liblinear failed to converge, increase the number of iterations.\n",
      "  \"the number of iterations.\", ConvergenceWarning)\n",
      "/anaconda3/envs/statenv/lib/python3.6/site-packages/sklearn/svm/base.py:929: ConvergenceWarning: Liblinear failed to converge, increase the number of iterations.\n",
      "  \"the number of iterations.\", ConvergenceWarning)\n",
      "/anaconda3/envs/statenv/lib/python3.6/site-packages/sklearn/svm/base.py:929: ConvergenceWarning: Liblinear failed to converge, increase the number of iterations.\n",
      "  \"the number of iterations.\", ConvergenceWarning)\n",
      "/anaconda3/envs/statenv/lib/python3.6/site-packages/sklearn/svm/base.py:929: ConvergenceWarning: Liblinear failed to converge, increase the number of iterations.\n",
      "  \"the number of iterations.\", ConvergenceWarning)\n"
     ]
    },
    {
     "name": "stdout",
     "output_type": "stream",
     "text": [
      "0.5313553493862401\n"
     ]
    },
    {
     "name": "stderr",
     "output_type": "stream",
     "text": [
      "/anaconda3/envs/statenv/lib/python3.6/site-packages/sklearn/svm/base.py:929: ConvergenceWarning: Liblinear failed to converge, increase the number of iterations.\n",
      "  \"the number of iterations.\", ConvergenceWarning)\n"
     ]
    }
   ],
   "source": [
    "# use LinerSVC classifier and calculate the roc_auc score\n",
    "clf_lin2 = LinearSVC(max_iter=1000)\n",
    "score_lin2 = cv_score(clf_lin2, X_train_2, y_train_2)\n",
    "print(score_lin2)"
   ]
  },
  {
   "cell_type": "code",
   "execution_count": 448,
   "metadata": {},
   "outputs": [
    {
     "data": {
      "text/plain": [
       "phone                     0.292985\n",
       "ultimate_black_user       0.227407\n",
       "trips_in_first_30_days    0.041264\n",
       "dtype: float64"
      ]
     },
     "execution_count": 448,
     "metadata": {},
     "output_type": "execute_result"
    }
   ],
   "source": [
    "# create pandas Searies from feature importance\n",
    "feature_imp_lin2 = pd.Series(clf_lin2.coef_[0], index=feature_list_2).sort_values(ascending=False)\n",
    "feature_imp_lin2"
   ]
  },
  {
   "cell_type": "markdown",
   "metadata": {},
   "source": [
    "This time the Random Forest classifier performed slightly better, which also has a different order of feature importance compared to the other two."
   ]
  },
  {
   "cell_type": "markdown",
   "metadata": {},
   "source": [
    "Let's add three cities and build another model, to see how they affect the dependent variable."
   ]
  },
  {
   "cell_type": "code",
   "execution_count": 449,
   "metadata": {},
   "outputs": [],
   "source": [
    "# create a dataframe with selected columns\n",
    "df_with_dummies_non_null_3 = df_with_dummies_non_null[['active_6th_month', 'trips_in_first_30_days', 'phone', 'ultimate_black_user', 'category_Astapor', 'category_Kings_Landing', 'category_Winterfell']]"
   ]
  },
  {
   "cell_type": "code",
   "execution_count": 450,
   "metadata": {},
   "outputs": [],
   "source": [
    "# labels are the values we want to predict\n",
    "labels_3 = np.array(df_with_dummies_non_null_3['active_6th_month']) \n",
    "\n",
    "# remove the labels from the features\n",
    "# axis 1 refers to the columns\n",
    "features_3 = df_with_dummies_non_null_3.drop('active_6th_month', axis=1)\n",
    "\n",
    "# saving feature names for later use\n",
    "feature_list_3 = list(features_3.columns) \n",
    "\n",
    "# convert to numpy array\n",
    "features_3 = np.array(features_3)"
   ]
  },
  {
   "cell_type": "code",
   "execution_count": 451,
   "metadata": {},
   "outputs": [],
   "source": [
    "# split dataset into training set and test set, 70% training and 30% test\n",
    "X_train_3, X_test_3, y_train_3, y_test_3 = train_test_split(features_3, labels_3, test_size=0.3, random_state=42)"
   ]
  },
  {
   "cell_type": "code",
   "execution_count": 452,
   "metadata": {},
   "outputs": [
    {
     "name": "stderr",
     "output_type": "stream",
     "text": [
      "/anaconda3/envs/statenv/lib/python3.6/site-packages/sklearn/ensemble/forest.py:245: FutureWarning: The default value of n_estimators will change from 10 in version 0.20 to 100 in 0.22.\n",
      "  \"10 in version 0.20 to 100 in 0.22.\", FutureWarning)\n"
     ]
    },
    {
     "name": "stdout",
     "output_type": "stream",
     "text": [
      "0.550421108508327\n"
     ]
    }
   ],
   "source": [
    "# instantiate model \n",
    "rand_forest_3 = RandomForestClassifier()\n",
    "score_rd3 = cv_score(rand_forest_3, X_train_3, y_train_3)\n",
    "print(score_rd3)"
   ]
  },
  {
   "cell_type": "code",
   "execution_count": 453,
   "metadata": {},
   "outputs": [
    {
     "data": {
      "text/plain": [
       "trips_in_first_30_days    0.457207\n",
       "phone                     0.182776\n",
       "ultimate_black_user       0.146240\n",
       "category_Kings_Landing    0.139360\n",
       "category_Astapor          0.043695\n",
       "category_Winterfell       0.030723\n",
       "dtype: float64"
      ]
     },
     "execution_count": 453,
     "metadata": {},
     "output_type": "execute_result"
    }
   ],
   "source": [
    "# create pandas Searies from feature importance\n",
    "feature_imp_rf3 = pd.Series(rand_forest_3.feature_importances_, index=feature_list_3).sort_values(ascending=False)\n",
    "feature_imp_rf3"
   ]
  },
  {
   "cell_type": "code",
   "execution_count": 454,
   "metadata": {},
   "outputs": [
    {
     "name": "stdout",
     "output_type": "stream",
     "text": [
      "roc_auc_score:  0.5471332216839617\n"
     ]
    }
   ],
   "source": [
    "# train the model on training data\n",
    "rand_forest_3.fit(X_train_3, y_train_3)\n",
    "\n",
    "# use the forest's predict method on the test data\n",
    "rf_pred_3 = rand_forest_3.predict(X_test_3)\n",
    "\n",
    "# calculate F1 score from prediction scores\n",
    "print('roc_auc_score: ', metrics.roc_auc_score(y_test_3, rf_pred_3))"
   ]
  },
  {
   "cell_type": "code",
   "execution_count": 455,
   "metadata": {},
   "outputs": [
    {
     "name": "stdout",
     "output_type": "stream",
     "text": [
      "0.549653493342192\n"
     ]
    }
   ],
   "source": [
    "# instantiate model and compute roc_auc_score from function\n",
    "clf_log3 = LogisticRegression(solver='lbfgs', max_iter=1000)\n",
    "score_log3 = cv_score(clf_log3, X_train_3, y_train_3)\n",
    "print(score_log3)"
   ]
  },
  {
   "cell_type": "code",
   "execution_count": 456,
   "metadata": {},
   "outputs": [
    {
     "data": {
      "text/plain": [
       "phone                     0.945995\n",
       "ultimate_black_user       0.638142\n",
       "category_Kings_Landing    0.571479\n",
       "trips_in_first_30_days    0.088098\n",
       "category_Winterfell      -0.050122\n",
       "category_Astapor         -0.514320\n",
       "dtype: float64"
      ]
     },
     "execution_count": 456,
     "metadata": {},
     "output_type": "execute_result"
    }
   ],
   "source": [
    "# create pandas Searies from feature importance\n",
    "feature_imp_log3 = pd.Series(clf_log3.coef_[0], index=feature_list_3).sort_values(ascending=False)\n",
    "feature_imp_log3"
   ]
  },
  {
   "cell_type": "code",
   "execution_count": 458,
   "metadata": {},
   "outputs": [
    {
     "name": "stderr",
     "output_type": "stream",
     "text": [
      "/anaconda3/envs/statenv/lib/python3.6/site-packages/sklearn/svm/base.py:929: ConvergenceWarning: Liblinear failed to converge, increase the number of iterations.\n",
      "  \"the number of iterations.\", ConvergenceWarning)\n",
      "/anaconda3/envs/statenv/lib/python3.6/site-packages/sklearn/svm/base.py:929: ConvergenceWarning: Liblinear failed to converge, increase the number of iterations.\n",
      "  \"the number of iterations.\", ConvergenceWarning)\n",
      "/anaconda3/envs/statenv/lib/python3.6/site-packages/sklearn/svm/base.py:929: ConvergenceWarning: Liblinear failed to converge, increase the number of iterations.\n",
      "  \"the number of iterations.\", ConvergenceWarning)\n",
      "/anaconda3/envs/statenv/lib/python3.6/site-packages/sklearn/svm/base.py:929: ConvergenceWarning: Liblinear failed to converge, increase the number of iterations.\n",
      "  \"the number of iterations.\", ConvergenceWarning)\n"
     ]
    },
    {
     "name": "stdout",
     "output_type": "stream",
     "text": [
      "0.5413407140370454\n"
     ]
    },
    {
     "name": "stderr",
     "output_type": "stream",
     "text": [
      "/anaconda3/envs/statenv/lib/python3.6/site-packages/sklearn/svm/base.py:929: ConvergenceWarning: Liblinear failed to converge, increase the number of iterations.\n",
      "  \"the number of iterations.\", ConvergenceWarning)\n"
     ]
    }
   ],
   "source": [
    "# instantiate model and compute roc_auc_score from function\n",
    "clf_lin3 = LinearSVC(max_iter=1000)\n",
    "score_lin3 = cv_score(clf_lin3, X_train_3, y_train_3)\n",
    "print(score_lin3)"
   ]
  },
  {
   "cell_type": "code",
   "execution_count": 459,
   "metadata": {},
   "outputs": [
    {
     "data": {
      "text/plain": [
       "phone                     0.280652\n",
       "ultimate_black_user       0.224083\n",
       "trips_in_first_30_days    0.041064\n",
       "category_Kings_Landing   -0.003131\n",
       "category_Winterfell      -0.253712\n",
       "category_Astapor         -0.390105\n",
       "dtype: float64"
      ]
     },
     "execution_count": 459,
     "metadata": {},
     "output_type": "execute_result"
    }
   ],
   "source": [
    "# create pandas Searies from feature importance\n",
    "feature_imp_lin3 = pd.Series(clf_lin3.coef_[0], index=feature_list_3).sort_values(ascending=False)\n",
    "feature_imp_lin3"
   ]
  },
  {
   "cell_type": "markdown",
   "metadata": {},
   "source": [
    "Yet again Random Forest classifier performed the best, but not by much. It is interesting to see how feature importance varies."
   ]
  },
  {
   "cell_type": "markdown",
   "metadata": {},
   "source": []
  },
  {
   "cell_type": "markdown",
   "metadata": {},
   "source": [
    "Now we will build a model without the 'trips_in_first_30_days' variable, which seems to be the most important in a Random Forest model."
   ]
  },
  {
   "cell_type": "code",
   "execution_count": 460,
   "metadata": {},
   "outputs": [],
   "source": [
    "# create a dataframe with selected columns\n",
    "df_with_dummies_non_null_4 = df_with_dummies_non_null[['active_6th_month', 'phone', 'ultimate_black_user', 'category_Astapor', 'category_Kings_Landing', 'category_Winterfell']]"
   ]
  },
  {
   "cell_type": "code",
   "execution_count": 461,
   "metadata": {},
   "outputs": [],
   "source": [
    "# labels are the values we want to predict\n",
    "labels_4 = np.array(df_with_dummies_non_null_4['active_6th_month']) \n",
    "\n",
    "# remove the labels from the features\n",
    "# axis 1 refers to the columns\n",
    "features_4 = df_with_dummies_non_null_4.drop('active_6th_month', axis=1)\n",
    "\n",
    "# saving feature names for later use\n",
    "feature_list_4 = list(features_4.columns) \n",
    "\n",
    "# convert to numpy array\n",
    "features_4 = np.array(features_4)"
   ]
  },
  {
   "cell_type": "code",
   "execution_count": 462,
   "metadata": {},
   "outputs": [],
   "source": [
    "# split dataset into training set and test set, 70% training and 30% test\n",
    "X_train_4, X_test_4, y_train_4, y_test_4 = train_test_split(features_4, labels_4, test_size=0.3, random_state=42)"
   ]
  },
  {
   "cell_type": "code",
   "execution_count": 498,
   "metadata": {},
   "outputs": [
    {
     "name": "stderr",
     "output_type": "stream",
     "text": [
      "/anaconda3/envs/statenv/lib/python3.6/site-packages/sklearn/ensemble/forest.py:245: FutureWarning: The default value of n_estimators will change from 10 in version 0.20 to 100 in 0.22.\n",
      "  \"10 in version 0.20 to 100 in 0.22.\", FutureWarning)\n"
     ]
    },
    {
     "name": "stdout",
     "output_type": "stream",
     "text": [
      "0.5\n"
     ]
    }
   ],
   "source": [
    "# instantiate model \n",
    "rand_forest_4 = RandomForestClassifier()\n",
    "score_rd4 = cv_score(rand_forest_4, X_train_4, y_train_4)\n",
    "print(score_rd4)"
   ]
  },
  {
   "cell_type": "code",
   "execution_count": 464,
   "metadata": {},
   "outputs": [
    {
     "data": {
      "text/plain": [
       "phone                     0.349957\n",
       "ultimate_black_user       0.279138\n",
       "category_Kings_Landing    0.232190\n",
       "category_Astapor          0.107673\n",
       "category_Winterfell       0.031042\n",
       "dtype: float64"
      ]
     },
     "execution_count": 464,
     "metadata": {},
     "output_type": "execute_result"
    }
   ],
   "source": [
    "# create pandas Searies from feature importance\n",
    "feature_imp_rf4 = pd.Series(rand_forest_4.feature_importances_, index=feature_list_4).sort_values(ascending=False)\n",
    "feature_imp_rf4"
   ]
  },
  {
   "cell_type": "code",
   "execution_count": 465,
   "metadata": {},
   "outputs": [
    {
     "name": "stdout",
     "output_type": "stream",
     "text": [
      "0.5441182030283971\n"
     ]
    }
   ],
   "source": [
    "# instantiate model and compute roc_auc_score from function\n",
    "clf_log4 = LogisticRegression(solver='lbfgs')\n",
    "score_log4 = cv_score(clf_log4, X_train_4, y_train_4)\n",
    "print(score_log4)"
   ]
  },
  {
   "cell_type": "code",
   "execution_count": 466,
   "metadata": {},
   "outputs": [
    {
     "data": {
      "text/plain": [
       "phone                     0.966712\n",
       "ultimate_black_user       0.720362\n",
       "category_Kings_Landing    0.566371\n",
       "category_Winterfell      -0.025098\n",
       "category_Astapor         -0.540348\n",
       "dtype: float64"
      ]
     },
     "execution_count": 466,
     "metadata": {},
     "output_type": "execute_result"
    }
   ],
   "source": [
    "# create pandas Searies from feature importance\n",
    "feature_imp_log4 = pd.Series(clf_log4.coef_[0], index=feature_list_4).sort_values(ascending=False)\n",
    "feature_imp_log4"
   ]
  },
  {
   "cell_type": "code",
   "execution_count": 467,
   "metadata": {},
   "outputs": [
    {
     "name": "stdout",
     "output_type": "stream",
     "text": [
      "0.5\n"
     ]
    }
   ],
   "source": [
    "# instantiate model and compute roc_auc_score from function\n",
    "clf_lin4 = LinearSVC()\n",
    "score_lin4 = cv_score(clf_lin4, X_train_4, y_train_4)\n",
    "print(score_lin4)"
   ]
  },
  {
   "cell_type": "code",
   "execution_count": 468,
   "metadata": {},
   "outputs": [
    {
     "data": {
      "text/plain": [
       "phone                     0.293721\n",
       "ultimate_black_user       0.259598\n",
       "category_Kings_Landing    0.019606\n",
       "category_Winterfell      -0.223190\n",
       "category_Astapor         -0.382332\n",
       "dtype: float64"
      ]
     },
     "execution_count": 468,
     "metadata": {},
     "output_type": "execute_result"
    }
   ],
   "source": [
    "# create pandas Searies from feature importance\n",
    "feature_imp_lin4 = pd.Series(clf_lin4.coef_[0], index=feature_list_4).sort_values(ascending=False)\n",
    "feature_imp_lin4"
   ]
  },
  {
   "cell_type": "markdown",
   "metadata": {},
   "source": [
    "This round the Logistic Regression classifier performed the best. Without the 'trips_in_first_30_days' variable, feature importance is similar for all three classifiers. Noticing that 'phone' variable is also very important."
   ]
  },
  {
   "cell_type": "markdown",
   "metadata": {},
   "source": []
  },
  {
   "cell_type": "markdown",
   "metadata": {},
   "source": [
    "Now, let's build a model with only the three cities, to see if King's Landing is the most important from them, based on previous models."
   ]
  },
  {
   "cell_type": "code",
   "execution_count": 469,
   "metadata": {},
   "outputs": [],
   "source": [
    "# create a dataframe with selected columns\n",
    "df_with_dummies_non_null_5 = df_with_dummies_non_null[['active_6th_month', 'category_Astapor', 'category_Kings_Landing', 'category_Winterfell']]"
   ]
  },
  {
   "cell_type": "code",
   "execution_count": 470,
   "metadata": {},
   "outputs": [],
   "source": [
    "# labels are the values we want to predict\n",
    "labels_5 = np.array(df_with_dummies_non_null_5['active_6th_month']) \n",
    "\n",
    "# remove the labels from the features\n",
    "# axis 1 refers to the columns\n",
    "features_5 = df_with_dummies_non_null_5.drop('active_6th_month', axis=1)\n",
    "\n",
    "# saving feature names for later use\n",
    "feature_list_5 = list(features_5.columns) \n",
    "\n",
    "# convert to numpy array\n",
    "features_5 = np.array(features_5)"
   ]
  },
  {
   "cell_type": "code",
   "execution_count": 471,
   "metadata": {},
   "outputs": [],
   "source": [
    "# split dataset into training set and test set, 70% training and 30% test\n",
    "X_train_5, X_test_5, y_train_5, y_test_5 = train_test_split(features_5, labels_5, test_size=0.3, random_state=42)"
   ]
  },
  {
   "cell_type": "code",
   "execution_count": 499,
   "metadata": {},
   "outputs": [
    {
     "name": "stderr",
     "output_type": "stream",
     "text": [
      "/anaconda3/envs/statenv/lib/python3.6/site-packages/sklearn/ensemble/forest.py:245: FutureWarning: The default value of n_estimators will change from 10 in version 0.20 to 100 in 0.22.\n",
      "  \"10 in version 0.20 to 100 in 0.22.\", FutureWarning)\n"
     ]
    },
    {
     "name": "stdout",
     "output_type": "stream",
     "text": [
      "0.5\n"
     ]
    }
   ],
   "source": [
    "# instantiate model \n",
    "rand_forest_5 = RandomForestClassifier()\n",
    "score_rd5 = cv_score(rand_forest_5, X_train_5, y_train_5)\n",
    "print(score_rd5)"
   ]
  },
  {
   "cell_type": "code",
   "execution_count": 500,
   "metadata": {},
   "outputs": [
    {
     "data": {
      "text/plain": [
       "category_Kings_Landing    0.672432\n",
       "category_Astapor          0.240663\n",
       "category_Winterfell       0.086904\n",
       "dtype: float64"
      ]
     },
     "execution_count": 500,
     "metadata": {},
     "output_type": "execute_result"
    }
   ],
   "source": [
    "# create pandas Searies from feature importance\n",
    "feature_imp_rf5 = pd.Series(rand_forest_5.feature_importances_, index=feature_list_5).sort_values(ascending=False)\n",
    "feature_imp_rf5"
   ]
  },
  {
   "cell_type": "code",
   "execution_count": 501,
   "metadata": {},
   "outputs": [
    {
     "name": "stdout",
     "output_type": "stream",
     "text": [
      "0.5\n"
     ]
    }
   ],
   "source": [
    "# instantiate model and compute roc_auc_score from function\n",
    "clf_log5 = LogisticRegression(solver='lbfgs')\n",
    "score_log5 = cv_score(clf_log5, X_train_5, y_train_5)\n",
    "print(score_log5)"
   ]
  },
  {
   "cell_type": "code",
   "execution_count": 502,
   "metadata": {},
   "outputs": [
    {
     "data": {
      "text/plain": [
       "category_Kings_Landing    0.594317\n",
       "category_Winterfell      -0.063707\n",
       "category_Astapor         -0.524962\n",
       "dtype: float64"
      ]
     },
     "execution_count": 502,
     "metadata": {},
     "output_type": "execute_result"
    }
   ],
   "source": [
    "# create pandas Searies from feature importance\n",
    "feature_imp_log5 = pd.Series(clf_log5.coef_[0], index=feature_list_5).sort_values(ascending=False)\n",
    "feature_imp_log5"
   ]
  },
  {
   "cell_type": "code",
   "execution_count": 503,
   "metadata": {},
   "outputs": [
    {
     "name": "stdout",
     "output_type": "stream",
     "text": [
      "0.5\n"
     ]
    }
   ],
   "source": [
    "# instantiate model and compute roc_auc_score from function\n",
    "clf_lin5 = LinearSVC()\n",
    "score_lin5 = cv_score(clf_lin5, X_train_5, y_train_5)\n",
    "print(score_lin5)"
   ]
  },
  {
   "cell_type": "code",
   "execution_count": 504,
   "metadata": {},
   "outputs": [
    {
     "data": {
      "text/plain": [
       "category_Kings_Landing    0.118105\n",
       "category_Winterfell      -0.161212\n",
       "category_Astapor         -0.310485\n",
       "dtype: float64"
      ]
     },
     "execution_count": 504,
     "metadata": {},
     "output_type": "execute_result"
    }
   ],
   "source": [
    "# create pandas Searies from feature importance\n",
    "feature_imp_lin5 = pd.Series(clf_lin5.coef_[0], index=feature_list_5).sort_values(ascending=False)\n",
    "feature_imp_lin5"
   ]
  },
  {
   "cell_type": "markdown",
   "metadata": {},
   "source": [
    "This was a bit unexpected, to get the same score for all three. It seems that King's Landing is the most important city that affects our dependent variable."
   ]
  },
  {
   "cell_type": "markdown",
   "metadata": {},
   "source": []
  },
  {
   "cell_type": "markdown",
   "metadata": {},
   "source": [
    "Let's build a model with average distance, average ratings of driver and by driver, to see how these variables affect the dependent variable."
   ]
  },
  {
   "cell_type": "code",
   "execution_count": 505,
   "metadata": {},
   "outputs": [],
   "source": [
    "# create a dataframe with selected columns\n",
    "df_with_dummies_non_null_6 = df_with_dummies_non_null[['active_6th_month', 'avg_rating_of_driver', 'avg_dist', 'avg_rating_by_driver']]"
   ]
  },
  {
   "cell_type": "code",
   "execution_count": 506,
   "metadata": {},
   "outputs": [],
   "source": [
    "# labels are the values we want to predict\n",
    "labels_6 = np.array(df_with_dummies_non_null_6['active_6th_month']) \n",
    "\n",
    "# remove the labels from the features\n",
    "# axis 1 refers to the columns\n",
    "features_6 = df_with_dummies_non_null_6.drop('active_6th_month', axis=1)\n",
    "\n",
    "# saving feature names for later use\n",
    "feature_list_6 = list(features_6.columns) \n",
    "\n",
    "# convert to numpy array\n",
    "features_6 = np.array(features_6)"
   ]
  },
  {
   "cell_type": "code",
   "execution_count": 507,
   "metadata": {},
   "outputs": [],
   "source": [
    "# split dataset into training set and test set, 70% training and 30% test\n",
    "X_train_6, X_test_6, y_train_6, y_test_6 = train_test_split(features_6, labels_6, test_size=0.3, random_state=42)"
   ]
  },
  {
   "cell_type": "code",
   "execution_count": 508,
   "metadata": {},
   "outputs": [
    {
     "name": "stderr",
     "output_type": "stream",
     "text": [
      "/anaconda3/envs/statenv/lib/python3.6/site-packages/sklearn/ensemble/forest.py:245: FutureWarning: The default value of n_estimators will change from 10 in version 0.20 to 100 in 0.22.\n",
      "  \"10 in version 0.20 to 100 in 0.22.\", FutureWarning)\n"
     ]
    },
    {
     "name": "stdout",
     "output_type": "stream",
     "text": [
      "0.5816942651831147\n"
     ]
    }
   ],
   "source": [
    "# instantiate model and compute the roc_auc score\n",
    "rand_forest_6 = RandomForestClassifier()\n",
    "score_rd6 = cv_score(rand_forest_6, X_train_6, y_train_6)\n",
    "print(score_rd6)"
   ]
  },
  {
   "cell_type": "code",
   "execution_count": 509,
   "metadata": {},
   "outputs": [
    {
     "data": {
      "text/plain": [
       "avg_dist                0.740982\n",
       "avg_rating_by_driver    0.137944\n",
       "avg_rating_of_driver    0.121074\n",
       "dtype: float64"
      ]
     },
     "execution_count": 509,
     "metadata": {},
     "output_type": "execute_result"
    }
   ],
   "source": [
    "# create pandas Searies from feature importance\n",
    "feature_imp_rf6 = pd.Series(rand_forest_6.feature_importances_, index=feature_list_6).sort_values(ascending=False)\n",
    "feature_imp_rf6"
   ]
  },
  {
   "cell_type": "code",
   "execution_count": 510,
   "metadata": {},
   "outputs": [
    {
     "name": "stdout",
     "output_type": "stream",
     "text": [
      "0.5\n"
     ]
    }
   ],
   "source": [
    "# instantiate model and compute roc_auc_score from function\n",
    "clf_log6 = LogisticRegression(solver='lbfgs')\n",
    "score_log6 = cv_score(clf_log6, X_train_6, y_train_6)\n",
    "print(score_log6)"
   ]
  },
  {
   "cell_type": "code",
   "execution_count": 511,
   "metadata": {},
   "outputs": [
    {
     "data": {
      "text/plain": [
       "avg_rating_of_driver   -0.025648\n",
       "avg_rating_by_driver   -0.046674\n",
       "avg_dist               -0.048653\n",
       "dtype: float64"
      ]
     },
     "execution_count": 511,
     "metadata": {},
     "output_type": "execute_result"
    }
   ],
   "source": [
    "# create pandas Searies from feature importance\n",
    "feature_imp_log6 = pd.Series(clf_log6.coef_[0], index=feature_list_6).sort_values(ascending=False)\n",
    "feature_imp_log6"
   ]
  },
  {
   "cell_type": "code",
   "execution_count": 512,
   "metadata": {},
   "outputs": [
    {
     "name": "stderr",
     "output_type": "stream",
     "text": [
      "/anaconda3/envs/statenv/lib/python3.6/site-packages/sklearn/svm/base.py:929: ConvergenceWarning: Liblinear failed to converge, increase the number of iterations.\n",
      "  \"the number of iterations.\", ConvergenceWarning)\n",
      "/anaconda3/envs/statenv/lib/python3.6/site-packages/sklearn/svm/base.py:929: ConvergenceWarning: Liblinear failed to converge, increase the number of iterations.\n",
      "  \"the number of iterations.\", ConvergenceWarning)\n",
      "/anaconda3/envs/statenv/lib/python3.6/site-packages/sklearn/svm/base.py:929: ConvergenceWarning: Liblinear failed to converge, increase the number of iterations.\n",
      "  \"the number of iterations.\", ConvergenceWarning)\n",
      "/anaconda3/envs/statenv/lib/python3.6/site-packages/sklearn/svm/base.py:929: ConvergenceWarning: Liblinear failed to converge, increase the number of iterations.\n",
      "  \"the number of iterations.\", ConvergenceWarning)\n"
     ]
    },
    {
     "name": "stdout",
     "output_type": "stream",
     "text": [
      "0.5\n"
     ]
    },
    {
     "name": "stderr",
     "output_type": "stream",
     "text": [
      "/anaconda3/envs/statenv/lib/python3.6/site-packages/sklearn/svm/base.py:929: ConvergenceWarning: Liblinear failed to converge, increase the number of iterations.\n",
      "  \"the number of iterations.\", ConvergenceWarning)\n"
     ]
    }
   ],
   "source": [
    "# instantiate model and compute roc_auc_score from function\n",
    "clf_lin6 = LinearSVC()\n",
    "score_lin6 = cv_score(clf_lin6, X_train_6, y_train_6)\n",
    "print(score_lin6)"
   ]
  },
  {
   "cell_type": "code",
   "execution_count": 513,
   "metadata": {},
   "outputs": [
    {
     "data": {
      "text/plain": [
       "avg_rating_of_driver   -0.008382\n",
       "avg_dist               -0.016635\n",
       "avg_rating_by_driver   -0.018208\n",
       "dtype: float64"
      ]
     },
     "execution_count": 513,
     "metadata": {},
     "output_type": "execute_result"
    }
   ],
   "source": [
    "# create pandas Searies from feature importance\n",
    "feature_imp_lin6 = pd.Series(clf_lin6.coef_[0], index=feature_list_6).sort_values(ascending=False)\n",
    "feature_imp_lin6"
   ]
  },
  {
   "cell_type": "markdown",
   "metadata": {},
   "source": [
    "Random Forest performed the best. This time each one has a different feature importance. "
   ]
  },
  {
   "cell_type": "markdown",
   "metadata": {},
   "source": []
  },
  {
   "cell_type": "markdown",
   "metadata": {},
   "source": [
    "As the last one, we include all variables to see if we can get a better roc_auc score."
   ]
  },
  {
   "cell_type": "code",
   "execution_count": 549,
   "metadata": {},
   "outputs": [],
   "source": [
    "# create a dataframe with selected columns\n",
    "df_with_dummies_non_null_7 = df_with_dummies_non_null[['active_6th_month', 'trips_in_first_30_days', 'phone', 'ultimate_black_user', 'category_Astapor', 'category_Kings_Landing', 'category_Winterfell', 'avg_rating_of_driver', 'avg_dist', 'avg_rating_by_driver', 'weekday_pct', 'avg_surge']]"
   ]
  },
  {
   "cell_type": "code",
   "execution_count": 550,
   "metadata": {},
   "outputs": [],
   "source": [
    "# labels are the values we want to predict\n",
    "labels_7 = np.array(df_with_dummies_non_null_7['active_6th_month']) \n",
    "\n",
    "# remove the labels from the features\n",
    "# axis 1 refers to the columns\n",
    "features_7 = df_with_dummies_non_null_7.drop('active_6th_month', axis=1)\n",
    "\n",
    "# saving feature names for later use\n",
    "feature_list_7 = list(features_7.columns) \n",
    "\n",
    "# convert to numpy array\n",
    "features_7 = np.array(features_7)"
   ]
  },
  {
   "cell_type": "code",
   "execution_count": 551,
   "metadata": {},
   "outputs": [],
   "source": [
    "# split dataset into training set and test set, 70% training and 30% test\n",
    "X_train_7, X_test_7, y_train_7, y_test_7 = train_test_split(features_7, labels_7, test_size=0.3, random_state=42)"
   ]
  },
  {
   "cell_type": "code",
   "execution_count": 552,
   "metadata": {},
   "outputs": [
    {
     "name": "stderr",
     "output_type": "stream",
     "text": [
      "/anaconda3/envs/statenv/lib/python3.6/site-packages/sklearn/ensemble/forest.py:245: FutureWarning: The default value of n_estimators will change from 10 in version 0.20 to 100 in 0.22.\n",
      "  \"10 in version 0.20 to 100 in 0.22.\", FutureWarning)\n"
     ]
    },
    {
     "name": "stdout",
     "output_type": "stream",
     "text": [
      "0.6129880774493855\n"
     ]
    }
   ],
   "source": [
    "# instantiate model and compute the roc_auc score\n",
    "rand_forest_7 = RandomForestClassifier()\n",
    "score_rd7 = cv_score(rand_forest_7, X_train_7, y_train_7)\n",
    "print(score_rd7)"
   ]
  },
  {
   "cell_type": "code",
   "execution_count": 553,
   "metadata": {},
   "outputs": [
    {
     "data": {
      "text/plain": [
       "avg_dist                  0.290377\n",
       "weekday_pct               0.176099\n",
       "avg_surge                 0.125777\n",
       "avg_rating_by_driver      0.109680\n",
       "avg_rating_of_driver      0.102251\n",
       "trips_in_first_30_days    0.101622\n",
       "phone                     0.024981\n",
       "ultimate_black_user       0.024804\n",
       "category_Kings_Landing    0.020737\n",
       "category_Astapor          0.012208\n",
       "category_Winterfell       0.011464\n",
       "dtype: float64"
      ]
     },
     "execution_count": 553,
     "metadata": {},
     "output_type": "execute_result"
    }
   ],
   "source": [
    "# create pandas Searies from feature importance\n",
    "feature_imp_rf7 = pd.Series(rand_forest_7.feature_importances_, index=feature_list_7).sort_values(ascending=False)\n",
    "feature_imp_rf7"
   ]
  },
  {
   "cell_type": "code",
   "execution_count": 554,
   "metadata": {},
   "outputs": [
    {
     "name": "stderr",
     "output_type": "stream",
     "text": [
      "/anaconda3/envs/statenv/lib/python3.6/site-packages/sklearn/linear_model/logistic.py:947: ConvergenceWarning: lbfgs failed to converge. Increase the number of iterations.\n",
      "  \"of iterations.\", ConvergenceWarning)\n",
      "/anaconda3/envs/statenv/lib/python3.6/site-packages/sklearn/linear_model/logistic.py:947: ConvergenceWarning: lbfgs failed to converge. Increase the number of iterations.\n",
      "  \"of iterations.\", ConvergenceWarning)\n",
      "/anaconda3/envs/statenv/lib/python3.6/site-packages/sklearn/linear_model/logistic.py:947: ConvergenceWarning: lbfgs failed to converge. Increase the number of iterations.\n",
      "  \"of iterations.\", ConvergenceWarning)\n",
      "/anaconda3/envs/statenv/lib/python3.6/site-packages/sklearn/linear_model/logistic.py:947: ConvergenceWarning: lbfgs failed to converge. Increase the number of iterations.\n",
      "  \"of iterations.\", ConvergenceWarning)\n"
     ]
    },
    {
     "name": "stdout",
     "output_type": "stream",
     "text": [
      "0.553749718521199\n"
     ]
    },
    {
     "name": "stderr",
     "output_type": "stream",
     "text": [
      "/anaconda3/envs/statenv/lib/python3.6/site-packages/sklearn/linear_model/logistic.py:947: ConvergenceWarning: lbfgs failed to converge. Increase the number of iterations.\n",
      "  \"of iterations.\", ConvergenceWarning)\n"
     ]
    }
   ],
   "source": [
    "# instantiate model and compute roc_auc_score from function\n",
    "clf_log7 = LogisticRegression(solver='lbfgs')\n",
    "score_log7 = cv_score(clf_log7, X_train_7, y_train_7)\n",
    "print(score_log7)"
   ]
  },
  {
   "cell_type": "code",
   "execution_count": 555,
   "metadata": {},
   "outputs": [
    {
     "data": {
      "text/plain": [
       "phone                     0.953391\n",
       "ultimate_black_user       0.601259\n",
       "category_Kings_Landing    0.458787\n",
       "trips_in_first_30_days    0.080064\n",
       "weekday_pct              -0.001190\n",
       "avg_dist                 -0.044656\n",
       "avg_rating_of_driver     -0.091095\n",
       "avg_rating_by_driver     -0.156171\n",
       "avg_surge                -0.170644\n",
       "category_Winterfell      -0.219679\n",
       "category_Astapor         -0.706175\n",
       "dtype: float64"
      ]
     },
     "execution_count": 555,
     "metadata": {},
     "output_type": "execute_result"
    }
   ],
   "source": [
    "# create pandas Searies from feature importance\n",
    "feature_imp_log7 = pd.Series(clf_log7.coef_[0], index=feature_list_7).sort_values(ascending=False)\n",
    "feature_imp_log7"
   ]
  },
  {
   "cell_type": "code",
   "execution_count": 556,
   "metadata": {},
   "outputs": [
    {
     "name": "stderr",
     "output_type": "stream",
     "text": [
      "/anaconda3/envs/statenv/lib/python3.6/site-packages/sklearn/svm/base.py:929: ConvergenceWarning: Liblinear failed to converge, increase the number of iterations.\n",
      "  \"the number of iterations.\", ConvergenceWarning)\n",
      "/anaconda3/envs/statenv/lib/python3.6/site-packages/sklearn/svm/base.py:929: ConvergenceWarning: Liblinear failed to converge, increase the number of iterations.\n",
      "  \"the number of iterations.\", ConvergenceWarning)\n",
      "/anaconda3/envs/statenv/lib/python3.6/site-packages/sklearn/svm/base.py:929: ConvergenceWarning: Liblinear failed to converge, increase the number of iterations.\n",
      "  \"the number of iterations.\", ConvergenceWarning)\n",
      "/anaconda3/envs/statenv/lib/python3.6/site-packages/sklearn/svm/base.py:929: ConvergenceWarning: Liblinear failed to converge, increase the number of iterations.\n",
      "  \"the number of iterations.\", ConvergenceWarning)\n"
     ]
    },
    {
     "name": "stdout",
     "output_type": "stream",
     "text": [
      "0.5282403094020756\n"
     ]
    },
    {
     "name": "stderr",
     "output_type": "stream",
     "text": [
      "/anaconda3/envs/statenv/lib/python3.6/site-packages/sklearn/svm/base.py:929: ConvergenceWarning: Liblinear failed to converge, increase the number of iterations.\n",
      "  \"the number of iterations.\", ConvergenceWarning)\n"
     ]
    }
   ],
   "source": [
    "# instantiate model and compute roc_auc_score from function\n",
    "clf_lin7 = LinearSVC()\n",
    "score_lin7 = cv_score(clf_lin7, X_train_7, y_train_7)\n",
    "print(score_lin7)"
   ]
  },
  {
   "cell_type": "code",
   "execution_count": 557,
   "metadata": {},
   "outputs": [
    {
     "data": {
      "text/plain": [
       "phone                     0.286413\n",
       "ultimate_black_user       0.209786\n",
       "avg_surge                 0.085626\n",
       "trips_in_first_30_days    0.054038\n",
       "weekday_pct               0.020564\n",
       "avg_rating_by_driver     -0.003188\n",
       "avg_rating_of_driver     -0.018243\n",
       "category_Kings_Landing   -0.018909\n",
       "avg_dist                 -0.023055\n",
       "category_Winterfell      -0.266074\n",
       "category_Astapor         -0.395372\n",
       "dtype: float64"
      ]
     },
     "execution_count": 557,
     "metadata": {},
     "output_type": "execute_result"
    }
   ],
   "source": [
    "# create pandas Searies from feature importance\n",
    "feature_imp_lin7 = pd.Series(clf_lin7.coef_[0], index=feature_list_7).sort_values(ascending=False)\n",
    "feature_imp_lin7"
   ]
  },
  {
   "cell_type": "markdown",
   "metadata": {},
   "source": [
    "Random Forest performed the best. It is a surprise to see that the most important feature is the average distance, so far it looked more like 'trips_in_first_30_days' would have the greatest effect on activeness in the 6th month.\n",
    "\n",
    "The next step is to build optimized models, for which we need to find the best parameters."
   ]
  },
  {
   "cell_type": "markdown",
   "metadata": {},
   "source": []
  },
  {
   "cell_type": "markdown",
   "metadata": {},
   "source": [
    "#### PARAMETERS EVALUATION"
   ]
  },
  {
   "cell_type": "markdown",
   "metadata": {},
   "source": [
    "##### Random Forest"
   ]
  },
  {
   "cell_type": "code",
   "execution_count": 335,
   "metadata": {},
   "outputs": [],
   "source": [
    "from sklearn.model_selection import RandomizedSearchCV"
   ]
  },
  {
   "cell_type": "code",
   "execution_count": 336,
   "metadata": {},
   "outputs": [],
   "source": [
    "# number of trees in random forest\n",
    "n_estimators = [int(x) for x in np.linspace(start = 20, stop = 500, num = 10)]\n",
    "\n",
    "# number of features to consider at every split\n",
    "max_features = ['auto', 'sqrt']\n",
    "\n",
    "# maximum number of levels in tree\n",
    "max_depth = [int(x) for x in np.linspace(10, 110, num = 11)]\n",
    "max_depth.append(None)\n",
    "\n",
    "# minimum number of samples required to split a node\n",
    "min_samples_split = [2, 5, 10]\n",
    "\n",
    "# minimum number of samples required at each leaf node\n",
    "min_samples_leaf = [1, 2, 4]\n",
    "\n",
    "# method of selecting samples for training each tree\n",
    "bootstrap = [True, False]\n",
    "\n",
    "# Create the random grid\n",
    "random_grid = {'n_estimators': n_estimators,\n",
    "               'max_features': max_features,\n",
    "               'max_depth': max_depth,\n",
    "               'min_samples_split': min_samples_split,\n",
    "               'min_samples_leaf': min_samples_leaf,\n",
    "               'bootstrap': bootstrap}"
   ]
  },
  {
   "cell_type": "code",
   "execution_count": 558,
   "metadata": {},
   "outputs": [
    {
     "name": "stdout",
     "output_type": "stream",
     "text": [
      "Fitting 3 folds for each of 5 candidates, totalling 15 fits\n"
     ]
    },
    {
     "name": "stderr",
     "output_type": "stream",
     "text": [
      "[Parallel(n_jobs=-1)]: Using backend LokyBackend with 4 concurrent workers.\n",
      "[Parallel(n_jobs=-1)]: Done  15 out of  15 | elapsed:   26.4s finished\n"
     ]
    },
    {
     "data": {
      "text/plain": [
       "RandomizedSearchCV(cv=3, error_score='raise-deprecating',\n",
       "                   estimator=RandomForestClassifier(bootstrap=True,\n",
       "                                                    class_weight=None,\n",
       "                                                    criterion='gini',\n",
       "                                                    max_depth=None,\n",
       "                                                    max_features='auto',\n",
       "                                                    max_leaf_nodes=None,\n",
       "                                                    min_impurity_decrease=0.0,\n",
       "                                                    min_impurity_split=None,\n",
       "                                                    min_samples_leaf=1,\n",
       "                                                    min_samples_split=2,\n",
       "                                                    min_weight_fraction_leaf=0.0,\n",
       "                                                    n_estimators='warn',\n",
       "                                                    n_jobs=None,\n",
       "                                                    oob_sc...\n",
       "                   iid='warn', n_iter=5, n_jobs=-1,\n",
       "                   param_distributions={'bootstrap': [True, False],\n",
       "                                        'max_depth': [10, 20, 30, 40, 50, 60,\n",
       "                                                      70, 80, 90, 100, 110,\n",
       "                                                      None],\n",
       "                                        'max_features': ['auto', 'sqrt'],\n",
       "                                        'min_samples_leaf': [1, 2, 4],\n",
       "                                        'min_samples_split': [2, 5, 10],\n",
       "                                        'n_estimators': [20, 73, 126, 180, 233,\n",
       "                                                         286, 340, 393, 446,\n",
       "                                                         500]},\n",
       "                   pre_dispatch='2*n_jobs', random_state=42, refit=True,\n",
       "                   return_train_score=False, scoring=None, verbose=2)"
      ]
     },
     "execution_count": 558,
     "metadata": {},
     "output_type": "execute_result"
    }
   ],
   "source": [
    "# use the random grid to search for best hyperparameters\n",
    "# first create the base model to tune\n",
    "rf_rs = RandomForestClassifier()\n",
    "\n",
    "# random search of parameters, using 3 fold cross validation, \n",
    "# search across 5 different combinations, and use all available cores\n",
    "rf_random = RandomizedSearchCV(estimator = rf_rs, param_distributions = random_grid, n_iter = 5, cv = 3, verbose=2, random_state=42, n_jobs = -1) \n",
    "\n",
    "# fit the random search model\n",
    "rf_random.fit(X_train_7, y_train_7)"
   ]
  },
  {
   "cell_type": "markdown",
   "metadata": {},
   "source": [
    "The best parameters from fitting the random search:"
   ]
  },
  {
   "cell_type": "code",
   "execution_count": 559,
   "metadata": {},
   "outputs": [
    {
     "data": {
      "text/plain": [
       "{'n_estimators': 20,\n",
       " 'min_samples_split': 10,\n",
       " 'min_samples_leaf': 2,\n",
       " 'max_features': 'sqrt',\n",
       " 'max_depth': 50,\n",
       " 'bootstrap': True}"
      ]
     },
     "execution_count": 559,
     "metadata": {},
     "output_type": "execute_result"
    }
   ],
   "source": [
    "rf_random.best_params_"
   ]
  },
  {
   "cell_type": "markdown",
   "metadata": {},
   "source": [
    "To determine if random search yielded a better model, we compare the base model (rand_forest_7) with the best random search model."
   ]
  },
  {
   "cell_type": "code",
   "execution_count": 560,
   "metadata": {},
   "outputs": [
    {
     "name": "stdout",
     "output_type": "stream",
     "text": [
      "0.635062922842959\n"
     ]
    }
   ],
   "source": [
    "# instantiate model \n",
    "rf_random_search = RandomForestClassifier(n_estimators = 20, min_samples_split = 10, min_samples_leaf = 2, max_features= 'sqrt', max_depth  = 50, bootstrap = True)\n",
    "\n",
    "score_rd_rs = cv_score(rf_random_search, X_train_7, y_train_7)\n",
    "print(score_rd_rs)"
   ]
  },
  {
   "cell_type": "markdown",
   "metadata": {},
   "source": [
    "Indeed, by using random search we get a better ROC_AUC score. Base model has score of 0.613."
   ]
  },
  {
   "cell_type": "code",
   "execution_count": 561,
   "metadata": {},
   "outputs": [],
   "source": [
    "# train the model on training data\n",
    "rf_random_search.fit(X_train_7, y_train_7)\n",
    "\n",
    "# use the forest's predict method on the test data\n",
    "rd_pred_T7 = rf_random_search.predict(X_test_7)"
   ]
  },
  {
   "cell_type": "code",
   "execution_count": 567,
   "metadata": {},
   "outputs": [
    {
     "name": "stdout",
     "output_type": "stream",
     "text": [
      "Actual: 0 and Predicted: 0\n",
      "Actual: 0 and Predicted: 0\n",
      "Actual: 0 and Predicted: 0\n",
      "Actual: 1 and Predicted: 0\n",
      "Actual: 1 and Predicted: 1\n",
      "Actual: 0 and Predicted: 1\n",
      "Actual: 0 and Predicted: 0\n",
      "Actual: 0 and Predicted: 0\n"
     ]
    }
   ],
   "source": [
    "# printing the first 5 values of y_test_P and the predict results target\n",
    "for i in range(0, 8):\n",
    "    print('Actual: {} and Predicted: {}'.format(list(y_test_7)[i], rd_pred_T7[i]))"
   ]
  },
  {
   "cell_type": "markdown",
   "metadata": {},
   "source": [
    "Random search allowed us to narrow down the range for each hyperparameter. Now that we know where to focus our search, we can explicitly specify every combination of settings to try. We do this with GridSearchCV, a method that, instead of sampling randomly from a distribution, evaluates all combinations we define. To use Grid Search, we make another grid based on the best values provided by random search:"
   ]
  },
  {
   "cell_type": "code",
   "execution_count": 569,
   "metadata": {},
   "outputs": [],
   "source": [
    "# create the parameter grid based on the results of random search \n",
    "param_grid_t = {\n",
    "    'bootstrap': [True],\n",
    "    'max_depth': [40, 50, 60, 80],\n",
    "    'n_estimators': [30, 50, 60, 100]\n",
    "}"
   ]
  },
  {
   "cell_type": "code",
   "execution_count": 570,
   "metadata": {},
   "outputs": [
    {
     "name": "stdout",
     "output_type": "stream",
     "text": [
      "Fitting 3 folds for each of 16 candidates, totalling 48 fits\n"
     ]
    },
    {
     "name": "stderr",
     "output_type": "stream",
     "text": [
      "[Parallel(n_jobs=-1)]: Using backend LokyBackend with 4 concurrent workers.\n",
      "[Parallel(n_jobs=-1)]: Done  33 tasks      | elapsed:   18.5s\n",
      "[Parallel(n_jobs=-1)]: Done  48 out of  48 | elapsed:   27.0s finished\n"
     ]
    },
    {
     "data": {
      "text/plain": [
       "GridSearchCV(cv=3, error_score='raise-deprecating',\n",
       "             estimator=RandomForestClassifier(bootstrap=True, class_weight=None,\n",
       "                                              criterion='gini', max_depth=None,\n",
       "                                              max_features='auto',\n",
       "                                              max_leaf_nodes=None,\n",
       "                                              min_impurity_decrease=0.0,\n",
       "                                              min_impurity_split=None,\n",
       "                                              min_samples_leaf=1,\n",
       "                                              min_samples_split=2,\n",
       "                                              min_weight_fraction_leaf=0.0,\n",
       "                                              n_estimators='warn', n_jobs=None,\n",
       "                                              oob_score=False,\n",
       "                                              random_state=None, verbose=0,\n",
       "                                              warm_start=False),\n",
       "             iid='warn', n_jobs=-1,\n",
       "             param_grid={'bootstrap': [True], 'max_depth': [40, 50, 60, 80],\n",
       "                         'n_estimators': [30, 50, 60, 100]},\n",
       "             pre_dispatch='2*n_jobs', refit=True, return_train_score=False,\n",
       "             scoring=None, verbose=2)"
      ]
     },
     "execution_count": 570,
     "metadata": {},
     "output_type": "execute_result"
    }
   ],
   "source": [
    "# create a based model\n",
    "RF2 = RandomForestClassifier()\n",
    "\n",
    "# instantiate the grid search model\n",
    "grid_search = GridSearchCV(estimator = RF2, param_grid = param_grid_t, cv = 3, n_jobs = -1, verbose = 2)\n",
    "\n",
    "# fit the grid search to the data\n",
    "grid_search.fit(X_train_7, y_train_7)"
   ]
  },
  {
   "cell_type": "code",
   "execution_count": 571,
   "metadata": {},
   "outputs": [
    {
     "data": {
      "text/plain": [
       "{'bootstrap': True, 'max_depth': 50, 'n_estimators': 100}"
      ]
     },
     "execution_count": 571,
     "metadata": {},
     "output_type": "execute_result"
    }
   ],
   "source": [
    "# check the best parameters for the model\n",
    "grid_search.best_params_"
   ]
  },
  {
   "cell_type": "code",
   "execution_count": 572,
   "metadata": {},
   "outputs": [
    {
     "data": {
      "text/plain": [
       "RandomForestClassifier(bootstrap=True, class_weight=None, criterion='gini',\n",
       "                       max_depth=50, max_features='auto', max_leaf_nodes=None,\n",
       "                       min_impurity_decrease=0.0, min_impurity_split=None,\n",
       "                       min_samples_leaf=1, min_samples_split=2,\n",
       "                       min_weight_fraction_leaf=0.0, n_estimators=100,\n",
       "                       n_jobs=None, oob_score=False, random_state=None,\n",
       "                       verbose=0, warm_start=False)"
      ]
     },
     "execution_count": 572,
     "metadata": {},
     "output_type": "execute_result"
    }
   ],
   "source": [
    "# check the best estimator for the model\n",
    "best_grid = grid_search.best_estimator_\n",
    "best_grid"
   ]
  },
  {
   "cell_type": "code",
   "execution_count": 573,
   "metadata": {},
   "outputs": [],
   "source": [
    "# getting prediction values\n",
    "grid_predictions = best_grid.predict(X_test_7)"
   ]
  },
  {
   "cell_type": "code",
   "execution_count": 575,
   "metadata": {},
   "outputs": [
    {
     "name": "stdout",
     "output_type": "stream",
     "text": [
      "ROC_AUC score:  0.6334990620138611\n"
     ]
    }
   ],
   "source": [
    "print('ROC_AUC score: ', metrics.roc_auc_score(y_test_7, grid_predictions))"
   ]
  },
  {
   "cell_type": "code",
   "execution_count": 574,
   "metadata": {},
   "outputs": [
    {
     "name": "stdout",
     "output_type": "stream",
     "text": [
      "Actual value: 0 and Predicted value: 0\n",
      "Actual value: 0 and Predicted value: 0\n",
      "Actual value: 0 and Predicted value: 0\n",
      "Actual value: 1 and Predicted value: 0\n",
      "Actual value: 1 and Predicted value: 0\n",
      "Actual value: 0 and Predicted value: 0\n"
     ]
    }
   ],
   "source": [
    "# printing the first 6 values of y_test_P and the predicted results target\n",
    "for i in range(0, 6):\n",
    "    print('Actual value: {} and Predicted value: {}'.format(list(y_test_7)[i], grid_predictions[i]))"
   ]
  },
  {
   "cell_type": "markdown",
   "metadata": {},
   "source": []
  },
  {
   "cell_type": "markdown",
   "metadata": {},
   "source": [
    "##### Logistic Regression"
   ]
  },
  {
   "cell_type": "code",
   "execution_count": 577,
   "metadata": {},
   "outputs": [
    {
     "name": "stderr",
     "output_type": "stream",
     "text": [
      "/anaconda3/envs/statenv/lib/python3.6/site-packages/sklearn/linear_model/logistic.py:947: ConvergenceWarning: lbfgs failed to converge. Increase the number of iterations.\n",
      "  \"of iterations.\", ConvergenceWarning)\n",
      "/anaconda3/envs/statenv/lib/python3.6/site-packages/sklearn/linear_model/logistic.py:947: ConvergenceWarning: lbfgs failed to converge. Increase the number of iterations.\n",
      "  \"of iterations.\", ConvergenceWarning)\n",
      "/anaconda3/envs/statenv/lib/python3.6/site-packages/sklearn/linear_model/logistic.py:947: ConvergenceWarning: lbfgs failed to converge. Increase the number of iterations.\n",
      "  \"of iterations.\", ConvergenceWarning)\n",
      "/anaconda3/envs/statenv/lib/python3.6/site-packages/sklearn/linear_model/logistic.py:947: ConvergenceWarning: lbfgs failed to converge. Increase the number of iterations.\n",
      "  \"of iterations.\", ConvergenceWarning)\n",
      "/anaconda3/envs/statenv/lib/python3.6/site-packages/sklearn/linear_model/logistic.py:947: ConvergenceWarning: lbfgs failed to converge. Increase the number of iterations.\n",
      "  \"of iterations.\", ConvergenceWarning)\n",
      "/anaconda3/envs/statenv/lib/python3.6/site-packages/sklearn/linear_model/logistic.py:947: ConvergenceWarning: lbfgs failed to converge. Increase the number of iterations.\n",
      "  \"of iterations.\", ConvergenceWarning)\n",
      "/anaconda3/envs/statenv/lib/python3.6/site-packages/sklearn/linear_model/logistic.py:947: ConvergenceWarning: lbfgs failed to converge. Increase the number of iterations.\n",
      "  \"of iterations.\", ConvergenceWarning)\n",
      "/anaconda3/envs/statenv/lib/python3.6/site-packages/sklearn/linear_model/logistic.py:947: ConvergenceWarning: lbfgs failed to converge. Increase the number of iterations.\n",
      "  \"of iterations.\", ConvergenceWarning)\n",
      "/anaconda3/envs/statenv/lib/python3.6/site-packages/sklearn/linear_model/logistic.py:947: ConvergenceWarning: lbfgs failed to converge. Increase the number of iterations.\n",
      "  \"of iterations.\", ConvergenceWarning)\n",
      "/anaconda3/envs/statenv/lib/python3.6/site-packages/sklearn/linear_model/logistic.py:947: ConvergenceWarning: lbfgs failed to converge. Increase the number of iterations.\n",
      "  \"of iterations.\", ConvergenceWarning)\n",
      "/anaconda3/envs/statenv/lib/python3.6/site-packages/sklearn/linear_model/logistic.py:947: ConvergenceWarning: lbfgs failed to converge. Increase the number of iterations.\n",
      "  \"of iterations.\", ConvergenceWarning)\n",
      "/anaconda3/envs/statenv/lib/python3.6/site-packages/sklearn/linear_model/logistic.py:947: ConvergenceWarning: lbfgs failed to converge. Increase the number of iterations.\n",
      "  \"of iterations.\", ConvergenceWarning)\n",
      "/anaconda3/envs/statenv/lib/python3.6/site-packages/sklearn/linear_model/logistic.py:947: ConvergenceWarning: lbfgs failed to converge. Increase the number of iterations.\n",
      "  \"of iterations.\", ConvergenceWarning)\n",
      "/anaconda3/envs/statenv/lib/python3.6/site-packages/sklearn/linear_model/logistic.py:947: ConvergenceWarning: lbfgs failed to converge. Increase the number of iterations.\n",
      "  \"of iterations.\", ConvergenceWarning)\n",
      "/anaconda3/envs/statenv/lib/python3.6/site-packages/sklearn/linear_model/logistic.py:947: ConvergenceWarning: lbfgs failed to converge. Increase the number of iterations.\n",
      "  \"of iterations.\", ConvergenceWarning)\n",
      "/anaconda3/envs/statenv/lib/python3.6/site-packages/sklearn/linear_model/logistic.py:947: ConvergenceWarning: lbfgs failed to converge. Increase the number of iterations.\n",
      "  \"of iterations.\", ConvergenceWarning)\n",
      "/anaconda3/envs/statenv/lib/python3.6/site-packages/sklearn/linear_model/logistic.py:947: ConvergenceWarning: lbfgs failed to converge. Increase the number of iterations.\n",
      "  \"of iterations.\", ConvergenceWarning)\n",
      "/anaconda3/envs/statenv/lib/python3.6/site-packages/sklearn/linear_model/logistic.py:947: ConvergenceWarning: lbfgs failed to converge. Increase the number of iterations.\n",
      "  \"of iterations.\", ConvergenceWarning)\n",
      "/anaconda3/envs/statenv/lib/python3.6/site-packages/sklearn/linear_model/logistic.py:947: ConvergenceWarning: lbfgs failed to converge. Increase the number of iterations.\n",
      "  \"of iterations.\", ConvergenceWarning)\n",
      "/anaconda3/envs/statenv/lib/python3.6/site-packages/sklearn/linear_model/logistic.py:947: ConvergenceWarning: lbfgs failed to converge. Increase the number of iterations.\n",
      "  \"of iterations.\", ConvergenceWarning)\n",
      "/anaconda3/envs/statenv/lib/python3.6/site-packages/sklearn/linear_model/logistic.py:947: ConvergenceWarning: lbfgs failed to converge. Increase the number of iterations.\n",
      "  \"of iterations.\", ConvergenceWarning)\n",
      "/anaconda3/envs/statenv/lib/python3.6/site-packages/sklearn/linear_model/logistic.py:947: ConvergenceWarning: lbfgs failed to converge. Increase the number of iterations.\n",
      "  \"of iterations.\", ConvergenceWarning)\n",
      "/anaconda3/envs/statenv/lib/python3.6/site-packages/sklearn/linear_model/logistic.py:947: ConvergenceWarning: lbfgs failed to converge. Increase the number of iterations.\n",
      "  \"of iterations.\", ConvergenceWarning)\n",
      "/anaconda3/envs/statenv/lib/python3.6/site-packages/sklearn/linear_model/logistic.py:947: ConvergenceWarning: lbfgs failed to converge. Increase the number of iterations.\n",
      "  \"of iterations.\", ConvergenceWarning)\n"
     ]
    },
    {
     "name": "stdout",
     "output_type": "stream",
     "text": [
      "C parameter: 10 has the highest average score of 0.5560673670592633\n"
     ]
    },
    {
     "name": "stderr",
     "output_type": "stream",
     "text": [
      "/anaconda3/envs/statenv/lib/python3.6/site-packages/sklearn/linear_model/logistic.py:947: ConvergenceWarning: lbfgs failed to converge. Increase the number of iterations.\n",
      "  \"of iterations.\", ConvergenceWarning)\n"
     ]
    }
   ],
   "source": [
    "#the grid of parameters to search through\n",
    "Cs = [0.001, 0.1, 1, 10, 100]\n",
    "max_score = 0\n",
    "\n",
    "# for each C in Cs create a logistic regression model\n",
    "for C_param in Cs:\n",
    "        clf = LogisticRegression(C=C_param, solver='lbfgs')\n",
    "        score = cv_score(clf, X_train_7, y_train_7)\n",
    "        # check if the calculated score is greater than current max_score\n",
    "        if score > max_score:\n",
    "            max_score = score\n",
    "            best_C_param =C_param\n",
    "print('C parameter:', best_C_param, 'has the highest average score of', max_score)"
   ]
  },
  {
   "cell_type": "code",
   "execution_count": 578,
   "metadata": {},
   "outputs": [
    {
     "name": "stdout",
     "output_type": "stream",
     "text": [
      "Accuracy score:  0.7598520186585169\n",
      "ROC_AUC score:  0.5644208729568138\n"
     ]
    },
    {
     "name": "stderr",
     "output_type": "stream",
     "text": [
      "/anaconda3/envs/statenv/lib/python3.6/site-packages/sklearn/linear_model/logistic.py:947: ConvergenceWarning: lbfgs failed to converge. Increase the number of iterations.\n",
      "  \"of iterations.\", ConvergenceWarning)\n"
     ]
    }
   ],
   "source": [
    "# initiate a model\n",
    "clf_best_C_param = LogisticRegression(C=best_C_param, solver='lbfgs')\n",
    "\n",
    "# fit the model on the trainng data\n",
    "clf_best_C_param.fit(X_train_7, y_train_7)\n",
    "\n",
    "# print the accuracy from the testing data\n",
    "print('Accuracy score: ', metrics.accuracy_score(y_test_7, clf_best_C_param.predict(X_test_7)))\n",
    "print('ROC_AUC score: ', metrics.roc_auc_score(y_test_7, clf_best_C_param.predict(X_test_7)))"
   ]
  },
  {
   "cell_type": "code",
   "execution_count": 579,
   "metadata": {},
   "outputs": [
    {
     "name": "stderr",
     "output_type": "stream",
     "text": [
      "/anaconda3/envs/statenv/lib/python3.6/site-packages/sklearn/linear_model/logistic.py:947: ConvergenceWarning: lbfgs failed to converge. Increase the number of iterations.\n",
      "  \"of iterations.\", ConvergenceWarning)\n",
      "/anaconda3/envs/statenv/lib/python3.6/site-packages/sklearn/linear_model/logistic.py:947: ConvergenceWarning: lbfgs failed to converge. Increase the number of iterations.\n",
      "  \"of iterations.\", ConvergenceWarning)\n",
      "/anaconda3/envs/statenv/lib/python3.6/site-packages/sklearn/linear_model/logistic.py:947: ConvergenceWarning: lbfgs failed to converge. Increase the number of iterations.\n",
      "  \"of iterations.\", ConvergenceWarning)\n",
      "/anaconda3/envs/statenv/lib/python3.6/site-packages/sklearn/linear_model/logistic.py:947: ConvergenceWarning: lbfgs failed to converge. Increase the number of iterations.\n",
      "  \"of iterations.\", ConvergenceWarning)\n",
      "/anaconda3/envs/statenv/lib/python3.6/site-packages/sklearn/linear_model/logistic.py:947: ConvergenceWarning: lbfgs failed to converge. Increase the number of iterations.\n",
      "  \"of iterations.\", ConvergenceWarning)\n",
      "/anaconda3/envs/statenv/lib/python3.6/site-packages/sklearn/linear_model/logistic.py:947: ConvergenceWarning: lbfgs failed to converge. Increase the number of iterations.\n",
      "  \"of iterations.\", ConvergenceWarning)\n",
      "/anaconda3/envs/statenv/lib/python3.6/site-packages/sklearn/linear_model/logistic.py:947: ConvergenceWarning: lbfgs failed to converge. Increase the number of iterations.\n",
      "  \"of iterations.\", ConvergenceWarning)\n",
      "/anaconda3/envs/statenv/lib/python3.6/site-packages/sklearn/linear_model/logistic.py:947: ConvergenceWarning: lbfgs failed to converge. Increase the number of iterations.\n",
      "  \"of iterations.\", ConvergenceWarning)\n",
      "/anaconda3/envs/statenv/lib/python3.6/site-packages/sklearn/linear_model/logistic.py:947: ConvergenceWarning: lbfgs failed to converge. Increase the number of iterations.\n",
      "  \"of iterations.\", ConvergenceWarning)\n",
      "/anaconda3/envs/statenv/lib/python3.6/site-packages/sklearn/linear_model/logistic.py:947: ConvergenceWarning: lbfgs failed to converge. Increase the number of iterations.\n",
      "  \"of iterations.\", ConvergenceWarning)\n",
      "/anaconda3/envs/statenv/lib/python3.6/site-packages/sklearn/linear_model/logistic.py:947: ConvergenceWarning: lbfgs failed to converge. Increase the number of iterations.\n",
      "  \"of iterations.\", ConvergenceWarning)\n",
      "/anaconda3/envs/statenv/lib/python3.6/site-packages/sklearn/linear_model/logistic.py:947: ConvergenceWarning: lbfgs failed to converge. Increase the number of iterations.\n",
      "  \"of iterations.\", ConvergenceWarning)\n",
      "/anaconda3/envs/statenv/lib/python3.6/site-packages/sklearn/linear_model/logistic.py:947: ConvergenceWarning: lbfgs failed to converge. Increase the number of iterations.\n",
      "  \"of iterations.\", ConvergenceWarning)\n",
      "/anaconda3/envs/statenv/lib/python3.6/site-packages/sklearn/linear_model/logistic.py:947: ConvergenceWarning: lbfgs failed to converge. Increase the number of iterations.\n",
      "  \"of iterations.\", ConvergenceWarning)\n",
      "/anaconda3/envs/statenv/lib/python3.6/site-packages/sklearn/linear_model/logistic.py:947: ConvergenceWarning: lbfgs failed to converge. Increase the number of iterations.\n",
      "  \"of iterations.\", ConvergenceWarning)\n",
      "/anaconda3/envs/statenv/lib/python3.6/site-packages/sklearn/linear_model/logistic.py:947: ConvergenceWarning: lbfgs failed to converge. Increase the number of iterations.\n",
      "  \"of iterations.\", ConvergenceWarning)\n",
      "/anaconda3/envs/statenv/lib/python3.6/site-packages/sklearn/linear_model/logistic.py:947: ConvergenceWarning: lbfgs failed to converge. Increase the number of iterations.\n",
      "  \"of iterations.\", ConvergenceWarning)\n",
      "/anaconda3/envs/statenv/lib/python3.6/site-packages/sklearn/linear_model/logistic.py:947: ConvergenceWarning: lbfgs failed to converge. Increase the number of iterations.\n",
      "  \"of iterations.\", ConvergenceWarning)\n",
      "/anaconda3/envs/statenv/lib/python3.6/site-packages/sklearn/linear_model/logistic.py:947: ConvergenceWarning: lbfgs failed to converge. Increase the number of iterations.\n",
      "  \"of iterations.\", ConvergenceWarning)\n",
      "/anaconda3/envs/statenv/lib/python3.6/site-packages/sklearn/linear_model/logistic.py:947: ConvergenceWarning: lbfgs failed to converge. Increase the number of iterations.\n",
      "  \"of iterations.\", ConvergenceWarning)\n",
      "/anaconda3/envs/statenv/lib/python3.6/site-packages/sklearn/linear_model/logistic.py:947: ConvergenceWarning: lbfgs failed to converge. Increase the number of iterations.\n",
      "  \"of iterations.\", ConvergenceWarning)\n",
      "/anaconda3/envs/statenv/lib/python3.6/site-packages/sklearn/linear_model/logistic.py:947: ConvergenceWarning: lbfgs failed to converge. Increase the number of iterations.\n",
      "  \"of iterations.\", ConvergenceWarning)\n",
      "/anaconda3/envs/statenv/lib/python3.6/site-packages/sklearn/linear_model/logistic.py:947: ConvergenceWarning: lbfgs failed to converge. Increase the number of iterations.\n",
      "  \"of iterations.\", ConvergenceWarning)\n",
      "/anaconda3/envs/statenv/lib/python3.6/site-packages/sklearn/linear_model/logistic.py:947: ConvergenceWarning: lbfgs failed to converge. Increase the number of iterations.\n",
      "  \"of iterations.\", ConvergenceWarning)\n",
      "/anaconda3/envs/statenv/lib/python3.6/site-packages/sklearn/linear_model/logistic.py:947: ConvergenceWarning: lbfgs failed to converge. Increase the number of iterations.\n",
      "  \"of iterations.\", ConvergenceWarning)\n"
     ]
    },
    {
     "name": "stdout",
     "output_type": "stream",
     "text": [
      "Best parameter: {'C': 100}\n",
      "Best score: 0.7603667574368344\n",
      "Estimator which gave highest score: LogisticRegression(C=100, class_weight=None, dual=False, fit_intercept=True,\n",
      "                   intercept_scaling=1, l1_ratio=None, max_iter=100,\n",
      "                   multi_class='warn', n_jobs=None, penalty='l2',\n",
      "                   random_state=None, solver='lbfgs', tol=0.0001, verbose=0,\n",
      "                   warm_start=False)\n"
     ]
    },
    {
     "name": "stderr",
     "output_type": "stream",
     "text": [
      "/anaconda3/envs/statenv/lib/python3.6/site-packages/sklearn/linear_model/logistic.py:947: ConvergenceWarning: lbfgs failed to converge. Increase the number of iterations.\n",
      "  \"of iterations.\", ConvergenceWarning)\n"
     ]
    }
   ],
   "source": [
    "from sklearn.model_selection import GridSearchCV\n",
    "\n",
    "# setup the hyperparameter grid\n",
    "param_grid = {'C': Cs}\n",
    "\n",
    "# instantiate a logistic regression classifier\n",
    "log_reg = LogisticRegression(solver='lbfgs')\n",
    "\n",
    "# instantiate the GridSearchCV object\n",
    "log_reg_cv = GridSearchCV(log_reg, param_grid, cv=5)\n",
    "\n",
    "# fit it to the data\n",
    "log_reg_cv.fit(X_train_7, y_train_7)\n",
    "\n",
    "# print the tuned parameter, score\n",
    "print('Best parameter:',log_reg_cv.best_params_)\n",
    "print('Best score:',log_reg_cv.best_score_)\n",
    "print('Estimator which gave highest score:',log_reg_cv.best_estimator_)"
   ]
  },
  {
   "cell_type": "markdown",
   "metadata": {},
   "source": [
    "Next, we check how this model performs on the test set."
   ]
  },
  {
   "cell_type": "code",
   "execution_count": 582,
   "metadata": {},
   "outputs": [
    {
     "name": "stdout",
     "output_type": "stream",
     "text": [
      "Accuracy score:  0.7596911693742963\n",
      "ROC_AUC score:  0.5695681608736578\n"
     ]
    }
   ],
   "source": [
    "# print the accuracy from the testing data\n",
    "print('Accuracy score: ', metrics.accuracy_score(y_test_7, log_reg_cv.predict(X_test_7)))\n",
    "print('ROC_AUC score: ', metrics.roc_auc_score(y_test_7, log_reg_cv.predict(X_test_7)))"
   ]
  },
  {
   "cell_type": "markdown",
   "metadata": {},
   "source": [
    "It has a similar performance than the model without GridSearchCV."
   ]
  },
  {
   "cell_type": "markdown",
   "metadata": {},
   "source": []
  },
  {
   "cell_type": "markdown",
   "metadata": {},
   "source": [
    "##### LinearSVC"
   ]
  },
  {
   "cell_type": "code",
   "execution_count": 583,
   "metadata": {},
   "outputs": [
    {
     "name": "stderr",
     "output_type": "stream",
     "text": [
      "/anaconda3/envs/statenv/lib/python3.6/site-packages/sklearn/svm/base.py:929: ConvergenceWarning: Liblinear failed to converge, increase the number of iterations.\n",
      "  \"the number of iterations.\", ConvergenceWarning)\n",
      "/anaconda3/envs/statenv/lib/python3.6/site-packages/sklearn/svm/base.py:929: ConvergenceWarning: Liblinear failed to converge, increase the number of iterations.\n",
      "  \"the number of iterations.\", ConvergenceWarning)\n",
      "/anaconda3/envs/statenv/lib/python3.6/site-packages/sklearn/svm/base.py:929: ConvergenceWarning: Liblinear failed to converge, increase the number of iterations.\n",
      "  \"the number of iterations.\", ConvergenceWarning)\n",
      "/anaconda3/envs/statenv/lib/python3.6/site-packages/sklearn/svm/base.py:929: ConvergenceWarning: Liblinear failed to converge, increase the number of iterations.\n",
      "  \"the number of iterations.\", ConvergenceWarning)\n",
      "/anaconda3/envs/statenv/lib/python3.6/site-packages/sklearn/svm/base.py:929: ConvergenceWarning: Liblinear failed to converge, increase the number of iterations.\n",
      "  \"the number of iterations.\", ConvergenceWarning)\n",
      "/anaconda3/envs/statenv/lib/python3.6/site-packages/sklearn/svm/base.py:929: ConvergenceWarning: Liblinear failed to converge, increase the number of iterations.\n",
      "  \"the number of iterations.\", ConvergenceWarning)\n",
      "/anaconda3/envs/statenv/lib/python3.6/site-packages/sklearn/svm/base.py:929: ConvergenceWarning: Liblinear failed to converge, increase the number of iterations.\n",
      "  \"the number of iterations.\", ConvergenceWarning)\n",
      "/anaconda3/envs/statenv/lib/python3.6/site-packages/sklearn/svm/base.py:929: ConvergenceWarning: Liblinear failed to converge, increase the number of iterations.\n",
      "  \"the number of iterations.\", ConvergenceWarning)\n",
      "/anaconda3/envs/statenv/lib/python3.6/site-packages/sklearn/svm/base.py:929: ConvergenceWarning: Liblinear failed to converge, increase the number of iterations.\n",
      "  \"the number of iterations.\", ConvergenceWarning)\n",
      "/anaconda3/envs/statenv/lib/python3.6/site-packages/sklearn/svm/base.py:929: ConvergenceWarning: Liblinear failed to converge, increase the number of iterations.\n",
      "  \"the number of iterations.\", ConvergenceWarning)\n",
      "/anaconda3/envs/statenv/lib/python3.6/site-packages/sklearn/svm/base.py:929: ConvergenceWarning: Liblinear failed to converge, increase the number of iterations.\n",
      "  \"the number of iterations.\", ConvergenceWarning)\n",
      "/anaconda3/envs/statenv/lib/python3.6/site-packages/sklearn/svm/base.py:929: ConvergenceWarning: Liblinear failed to converge, increase the number of iterations.\n",
      "  \"the number of iterations.\", ConvergenceWarning)\n",
      "/anaconda3/envs/statenv/lib/python3.6/site-packages/sklearn/svm/base.py:929: ConvergenceWarning: Liblinear failed to converge, increase the number of iterations.\n",
      "  \"the number of iterations.\", ConvergenceWarning)\n",
      "/anaconda3/envs/statenv/lib/python3.6/site-packages/sklearn/svm/base.py:929: ConvergenceWarning: Liblinear failed to converge, increase the number of iterations.\n",
      "  \"the number of iterations.\", ConvergenceWarning)\n",
      "/anaconda3/envs/statenv/lib/python3.6/site-packages/sklearn/svm/base.py:929: ConvergenceWarning: Liblinear failed to converge, increase the number of iterations.\n",
      "  \"the number of iterations.\", ConvergenceWarning)\n",
      "/anaconda3/envs/statenv/lib/python3.6/site-packages/sklearn/svm/base.py:929: ConvergenceWarning: Liblinear failed to converge, increase the number of iterations.\n",
      "  \"the number of iterations.\", ConvergenceWarning)\n",
      "/anaconda3/envs/statenv/lib/python3.6/site-packages/sklearn/svm/base.py:929: ConvergenceWarning: Liblinear failed to converge, increase the number of iterations.\n",
      "  \"the number of iterations.\", ConvergenceWarning)\n",
      "/anaconda3/envs/statenv/lib/python3.6/site-packages/sklearn/svm/base.py:929: ConvergenceWarning: Liblinear failed to converge, increase the number of iterations.\n",
      "  \"the number of iterations.\", ConvergenceWarning)\n",
      "/anaconda3/envs/statenv/lib/python3.6/site-packages/sklearn/svm/base.py:929: ConvergenceWarning: Liblinear failed to converge, increase the number of iterations.\n",
      "  \"the number of iterations.\", ConvergenceWarning)\n",
      "/anaconda3/envs/statenv/lib/python3.6/site-packages/sklearn/svm/base.py:929: ConvergenceWarning: Liblinear failed to converge, increase the number of iterations.\n",
      "  \"the number of iterations.\", ConvergenceWarning)\n",
      "/anaconda3/envs/statenv/lib/python3.6/site-packages/sklearn/svm/base.py:929: ConvergenceWarning: Liblinear failed to converge, increase the number of iterations.\n",
      "  \"the number of iterations.\", ConvergenceWarning)\n",
      "/anaconda3/envs/statenv/lib/python3.6/site-packages/sklearn/svm/base.py:929: ConvergenceWarning: Liblinear failed to converge, increase the number of iterations.\n",
      "  \"the number of iterations.\", ConvergenceWarning)\n",
      "/anaconda3/envs/statenv/lib/python3.6/site-packages/sklearn/svm/base.py:929: ConvergenceWarning: Liblinear failed to converge, increase the number of iterations.\n",
      "  \"the number of iterations.\", ConvergenceWarning)\n",
      "/anaconda3/envs/statenv/lib/python3.6/site-packages/sklearn/svm/base.py:929: ConvergenceWarning: Liblinear failed to converge, increase the number of iterations.\n",
      "  \"the number of iterations.\", ConvergenceWarning)\n",
      "/anaconda3/envs/statenv/lib/python3.6/site-packages/sklearn/svm/base.py:929: ConvergenceWarning: Liblinear failed to converge, increase the number of iterations.\n",
      "  \"the number of iterations.\", ConvergenceWarning)\n"
     ]
    },
    {
     "name": "stdout",
     "output_type": "stream",
     "text": [
      "Best parameter: {'C': 0.001}\n",
      "Best score: 0.7593326669194443\n",
      "Estimator which gave highest score: LinearSVC(C=0.001, class_weight=None, dual=True, fit_intercept=True,\n",
      "          intercept_scaling=1, loss='squared_hinge', max_iter=1000,\n",
      "          multi_class='ovr', penalty='l2', random_state=None, tol=0.0001,\n",
      "          verbose=0)\n"
     ]
    }
   ],
   "source": [
    "# setup the hyperparameter grid\n",
    "param_grid = {'C': [0.001, 0.1, 1, 10, 100, 1000]}\n",
    "\n",
    "# instantiate a LinearSVC classifier\n",
    "lin_hyper = LinearSVC()\n",
    "\n",
    "# instantiate the GridSearchCV object\n",
    "lin_hyper_cv = GridSearchCV(lin_hyper, param_grid, cv=5)\n",
    "\n",
    "# fit it to the data\n",
    "lin_hyper_cv.fit(X_train_7, y_train_7)\n",
    "\n",
    "# print the tuned parameter, score\n",
    "print('Best parameter:', lin_hyper_cv.best_params_)\n",
    "print('Best score:', lin_hyper_cv.best_score_)\n",
    "print('Estimator which gave highest score:', lin_hyper_cv.best_estimator_)"
   ]
  },
  {
   "cell_type": "code",
   "execution_count": 590,
   "metadata": {},
   "outputs": [
    {
     "name": "stdout",
     "output_type": "stream",
     "text": [
      "Accuracy score:  0.7563133344056618\n",
      "ROC_AUC score:  0.5395610233083806\n"
     ]
    }
   ],
   "source": [
    "# print the accuracy from the testing data\n",
    "print('Accuracy score: ', metrics.accuracy_score(y_test_7, lin_hyper_cv.predict(X_test_7)))\n",
    "print('ROC_AUC score: ', metrics.roc_auc_score(y_test_7, lin_hyper_cv.predict(X_test_7)))"
   ]
  },
  {
   "cell_type": "markdown",
   "metadata": {},
   "source": [
    "Since Random Search with RandomForest classifier performed the best, let's check its feature importance:"
   ]
  },
  {
   "cell_type": "code",
   "execution_count": 586,
   "metadata": {},
   "outputs": [
    {
     "data": {
      "text/plain": [
       "avg_dist                  0.212614\n",
       "weekday_pct               0.181138\n",
       "avg_surge                 0.149106\n",
       "avg_rating_by_driver      0.144428\n",
       "trips_in_first_30_days    0.093952\n",
       "avg_rating_of_driver      0.087539\n",
       "phone                     0.037963\n",
       "ultimate_black_user       0.033720\n",
       "category_Kings_Landing    0.030639\n",
       "category_Astapor          0.018285\n",
       "category_Winterfell       0.010617\n",
       "dtype: float64"
      ]
     },
     "execution_count": 586,
     "metadata": {},
     "output_type": "execute_result"
    }
   ],
   "source": [
    "# create pandas Searies from feature importance\n",
    "feature_imp_rf_7_rs = pd.Series(rf_random_search.feature_importances_, index=feature_list_7).sort_values(ascending=False)\n",
    "feature_imp_rf_7_rs"
   ]
  },
  {
   "cell_type": "markdown",
   "metadata": {},
   "source": [
    "The order of features is the same, only avg_rating_of_driver and trips_in_first_30_days are switched."
   ]
  },
  {
   "cell_type": "markdown",
   "metadata": {},
   "source": []
  },
  {
   "cell_type": "markdown",
   "metadata": {},
   "source": [
    "2. Build a predictive model to help Ultimate determine whether or not a user will be active in their 6th month on the system.\n",
    "Discuss why you chose your approach, what alternatives you considered, and any concerns you have. How valid is your model? Include any key indicators of model performance.\n",
    "\n",
    "We have built several classification models to predict whether the user will be retained or not. Out of everything we tried the Random Forest classifier performed the best, with an ROC_AUC score of 0.6351. We used Random search and GridSearchCV to evaluate parameters and got slightly higher ROC_AUC scores than without these two methods.\n",
    "There are many concerns and questions, for example what results would we get if we use some other classifier, perhaps K-Nearest Neighbours or Naïve Bayes. What about different performance metrics, like F1-Score. Another question is what would happen if we fill in empty rows with average values of the column instead of eliminating empty rows? How could we build an even better model? Where did the data come from? How was it collected and processed? Which leads us to model validity. Our model is only as accurate as the input data as well as the degree to which we know how to use it."
   ]
  },
  {
   "cell_type": "markdown",
   "metadata": {},
   "source": [
    "3. Briefly discuss how Ultimate might leverage the insights gained from the model to improve its long term rider retention (again, a few sentences will suffice).\n",
    "\n",
    "The two key predictors of long term rider retention are average distance traveled and percentage of trips taken on weekdays. To insure higher long term rider retention Ultimate might try to incentivise and encourage longer trips and trips on weekdays soon after a new rider signs up. This behaviour could be incentivised with discounts on weekdays to encourage the usage of Ultimate for daily commutes, or with advertisements to promote and bring longer trips top of mind for the riders. The important thing is to present and solidify the value proposition Ultimate can offer to riders.\n"
   ]
  }
 ],
 "metadata": {
  "kernelspec": {
   "display_name": "Python 3",
   "language": "python",
   "name": "python3"
  },
  "language_info": {
   "codemirror_mode": {
    "name": "ipython",
    "version": 3
   },
   "file_extension": ".py",
   "mimetype": "text/x-python",
   "name": "python",
   "nbconvert_exporter": "python",
   "pygments_lexer": "ipython3",
   "version": "3.6.8"
  }
 },
 "nbformat": 4,
 "nbformat_minor": 2
}
