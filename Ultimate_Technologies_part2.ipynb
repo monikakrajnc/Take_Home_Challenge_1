{
 "cells": [
  {
   "cell_type": "markdown",
   "metadata": {},
   "source": [
    "### Part 2 ‐ Experiment and metrics design\n",
    "\n",
    "\n",
    "The neighboring cities of Gotham and Metropolis have complementary circadian rhythms: on weekdays, Ultimate Gotham is most active at night, and Ultimate Metropolis is most active during the day. On weekends, there is reasonable activity in both cities.\n",
    "However, a toll bridge, with a two­way toll, between the two cities causes driver partners to tend to be exclusive to each city. The Ultimate managers of city operations for the two cities have proposed an experiment to encourage driver partners to be available in both cities, by reimbursing all toll costs.\n",
    "\n",
    "1. What would you choose as the key measure of success of this experiment in encouraging driver partners to serve both cities, and why would you choose this metric?\n",
    "2. Describe a practical experiment you would design to compare the effectiveness of the proposed change in relation to the key measure of success. Please provide details on:\n",
    "a. how you will implement the experiment\n",
    "b. what statistical test(s) you will conduct to verify the significance of the\n",
    "observation\n",
    "c. how you would interpret the results and provide recommendations to the city\n",
    "operations team along with any caveats."
   ]
  },
  {
   "cell_type": "markdown",
   "metadata": {},
   "source": [
    "1. \n",
    "The key measure of success would be the increase in the number of drivers that serve both cities. With the reimbursement of the toll we would like to measure how many drivers would make the shift and start driving in the other city. This would ideally even out supply and demand in the two cities during times of most activities. If that becomes the case, another thing that we could measure would be passenger waiting time. \n",
    "\n",
    "2. \n",
    "As an experiment we would propose a 20-days A/B Test. For the first 10 days we would not introduce any changes and use it as a baseline, to get a better understanding of driver behaviour. For the following 10-day period we would let the drivers know that Ultimate would be reimbursing all the bridge toll charges. Since the whole service is app base, it should be fairly easy to monitor their activity and collect all the necessary data. After the experiment is done we would perform hypothesis tests. In this case a z-test for which we would take a sample of randomly selected drivers (size > 30), which are independent from each other.\n",
    "\n",
    "Null hypothesis: There is no difference in number of driver serving both cities regardless of the toll.\n",
    "\n",
    "Alternative hypothesis: There is a difference in number of driver serving both cities.\n",
    "\n",
    "This is what another set could look like.\n",
    "\n",
    "Null hypothesis: There is no difference in user’s waiting time before and after the toll was introduced.\n",
    "\n",
    "Alternative hypothesis: There is a difference in user’s waiting time before and after the toll was introduced.\n",
    "\n",
    "We would be using a 95% confidence interval with an alpha of 5%. Then we would find the critical value of z-score in the z table. The z-score associated with a 5% alpha level divided by 2 is 1.96. After that we would compute z-statistic (let's call it A), and compare the calculated z-statistic value A with the table z-score. If the calculated value A is larger, we can reject the null hypothesis.\n",
    "\n",
    "If we reject both null hypotheses, then we have proven that the reimbursement program works. The next step after that would be to contrast the cost of the total reimbursements against the gains in revenue. \n"
   ]
  }
 ],
 "metadata": {
  "kernelspec": {
   "display_name": "Python 3",
   "language": "python",
   "name": "python3"
  },
  "language_info": {
   "codemirror_mode": {
    "name": "ipython",
    "version": 3
   },
   "file_extension": ".py",
   "mimetype": "text/x-python",
   "name": "python",
   "nbconvert_exporter": "python",
   "pygments_lexer": "ipython3",
   "version": "3.6.8"
  }
 },
 "nbformat": 4,
 "nbformat_minor": 2
}
